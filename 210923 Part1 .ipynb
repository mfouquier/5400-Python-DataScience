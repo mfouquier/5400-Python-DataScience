{
 "cells": [
  {
   "cell_type": "code",
   "execution_count": 1,
   "id": "649694a8",
   "metadata": {},
   "outputs": [
    {
     "name": "stdout",
     "output_type": "stream",
     "text": [
      "1.2.4\n"
     ]
    }
   ],
   "source": [
    "#Numpy provides efficient storage and manipulation of dense type arrays\n",
    "#typically used in numerical computing tasks\n",
    "#Pandas builds on the Numpy array structure.\n",
    "#The three fundamental Pandas data structures are \n",
    "# series, dataframe and index\n",
    "\n",
    "#To get started with Pandas, you need to import the package\n",
    "\n",
    "import pandas as pd  #pd is the common convention for representing Pandas\n",
    "\n",
    "print(pd.__version__)  #print the version of Pandas"
   ]
  },
  {
   "cell_type": "code",
   "execution_count": 3,
   "id": "1e61a312",
   "metadata": {},
   "outputs": [
    {
     "ename": "SyntaxError",
     "evalue": "invalid syntax (<ipython-input-3-2cbd04dd4fab>, line 3)",
     "output_type": "error",
     "traceback": [
      "\u001b[1;36m  File \u001b[1;32m\"<ipython-input-3-2cbd04dd4fab>\"\u001b[1;36m, line \u001b[1;32m3\u001b[0m\n\u001b[1;33m    pd.\u001b[0m\n\u001b[1;37m       ^\u001b[0m\n\u001b[1;31mSyntaxError\u001b[0m\u001b[1;31m:\u001b[0m invalid syntax\n"
     ]
    }
   ],
   "source": [
    "#tpe the package name or package alias if you created one then '.'\n",
    "#followed by <Tab> to get a list of classes, methods, and attributes\n",
    "pd."
   ]
  },
  {
   "cell_type": "code",
   "execution_count": 33,
   "id": "c23dc7b3",
   "metadata": {},
   "outputs": [
    {
     "data": {
      "text/plain": [
       "0      0\n",
       "1     30\n",
       "2     60\n",
       "3     90\n",
       "4    120\n",
       "5    150\n",
       "6    180\n",
       "dtype: int64"
      ]
     },
     "execution_count": 33,
     "metadata": {},
     "output_type": "execute_result"
    }
   ],
   "source": [
    "#Series\n",
    "#Series is a one dimensional array of indexed data capable of\n",
    "#holding any data type\n",
    "#Series can be created from at list or an array\n",
    "S1 = pd.Series([0,30,60,90,120,150,180])\n",
    "S1"
   ]
  },
  {
   "cell_type": "code",
   "execution_count": 34,
   "id": "484e059a",
   "metadata": {},
   "outputs": [
    {
     "data": {
      "text/plain": [
       "pandas.core.series.Series"
      ]
     },
     "execution_count": 34,
     "metadata": {},
     "output_type": "execute_result"
    }
   ],
   "source": [
    "type(S1)"
   ]
  },
  {
   "cell_type": "code",
   "execution_count": 35,
   "id": "1c813fa0",
   "metadata": {},
   "outputs": [
    {
     "data": {
      "text/plain": [
       "0            0\n",
       "1           30\n",
       "2           60\n",
       "3           90\n",
       "4    Angle 120\n",
       "5    Angle 150\n",
       "6    Angle 180\n",
       "dtype: object"
      ]
     },
     "execution_count": 35,
     "metadata": {},
     "output_type": "execute_result"
    }
   ],
   "source": [
    "S11 = pd.Series([0,30,60,90,'Angle 120','Angle 150','Angle 180'])\n",
    "S11"
   ]
  },
  {
   "cell_type": "code",
   "execution_count": 36,
   "id": "f32b7ad6",
   "metadata": {},
   "outputs": [
    {
     "data": {
      "text/plain": [
       "pandas.core.series.Series"
      ]
     },
     "execution_count": 36,
     "metadata": {},
     "output_type": "execute_result"
    }
   ],
   "source": [
    "type(S11)"
   ]
  },
  {
   "cell_type": "code",
   "execution_count": 37,
   "id": "f9e5bbaa",
   "metadata": {},
   "outputs": [
    {
     "data": {
      "text/plain": [
       "0"
      ]
     },
     "execution_count": 37,
     "metadata": {},
     "output_type": "execute_result"
    }
   ],
   "source": [
    "#Data can be accessed by the associated index via a square bracket\n",
    "S1[0]"
   ]
  },
  {
   "cell_type": "code",
   "execution_count": 38,
   "id": "77c9378b",
   "metadata": {},
   "outputs": [
    {
     "data": {
      "text/plain": [
       "90"
      ]
     },
     "execution_count": 38,
     "metadata": {},
     "output_type": "execute_result"
    }
   ],
   "source": [
    "S1[3]"
   ]
  },
  {
   "cell_type": "code",
   "execution_count": 39,
   "id": "c8611dc0",
   "metadata": {},
   "outputs": [
    {
     "data": {
      "text/plain": [
       "RangeIndex(start=0, stop=7, step=1)"
      ]
     },
     "execution_count": 39,
     "metadata": {},
     "output_type": "execute_result"
    }
   ],
   "source": [
    "#Series \n",
    "S1.index"
   ]
  },
  {
   "cell_type": "code",
   "execution_count": 40,
   "id": "00ddb281",
   "metadata": {},
   "outputs": [
    {
     "data": {
      "text/plain": [
       "array([  0,  30,  60,  90, 120, 150, 180], dtype=int64)"
      ]
     },
     "execution_count": 40,
     "metadata": {},
     "output_type": "execute_result"
    }
   ],
   "source": [
    "S1.values"
   ]
  },
  {
   "cell_type": "code",
   "execution_count": 41,
   "id": "52ca59fb",
   "metadata": {},
   "outputs": [
    {
     "data": {
      "text/plain": [
       "0     0\n",
       "1    30\n",
       "2    60\n",
       "dtype: int64"
      ]
     },
     "execution_count": 41,
     "metadata": {},
     "output_type": "execute_result"
    }
   ],
   "source": [
    "#Series accepts the slice notation\n",
    "#From the beginning of the series up to but not including 3\n",
    "S1[:3]"
   ]
  },
  {
   "cell_type": "code",
   "execution_count": 42,
   "id": "18da9591",
   "metadata": {},
   "outputs": [
    {
     "data": {
      "text/plain": [
       "2     60\n",
       "3     90\n",
       "4    120\n",
       "5    150\n",
       "6    180\n",
       "dtype: int64"
      ]
     },
     "execution_count": 42,
     "metadata": {},
     "output_type": "execute_result"
    }
   ],
   "source": [
    "#Starting with index of 2 through the end of the series\n",
    "S1[2:]"
   ]
  },
  {
   "cell_type": "code",
   "execution_count": 43,
   "id": "06291578",
   "metadata": {},
   "outputs": [
    {
     "data": {
      "text/plain": [
       "a      0\n",
       "b     30\n",
       "c     60\n",
       "d     90\n",
       "e    120\n",
       "f    150\n",
       "g    180\n",
       "dtype: int64"
      ]
     },
     "execution_count": 43,
     "metadata": {},
     "output_type": "execute_result"
    }
   ],
   "source": [
    "#Pandas Series can have explicity defined index associated with the values\n",
    "#Index need not be integers as in Numpy arrays\n",
    "\n",
    "S2 = pd.Series([0,30,60,90,120,150,180],index = ['a','b','c','d','e','f','g'])\n",
    "S2"
   ]
  },
  {
   "cell_type": "code",
   "execution_count": 44,
   "id": "eb167ee4",
   "metadata": {},
   "outputs": [
    {
     "data": {
      "text/plain": [
       "0"
      ]
     },
     "execution_count": 44,
     "metadata": {},
     "output_type": "execute_result"
    }
   ],
   "source": [
    "S2['a']"
   ]
  },
  {
   "cell_type": "code",
   "execution_count": 45,
   "id": "8ab3af11",
   "metadata": {},
   "outputs": [
    {
     "data": {
      "text/plain": [
       "60"
      ]
     },
     "execution_count": 45,
     "metadata": {},
     "output_type": "execute_result"
    }
   ],
   "source": [
    "S2['c']"
   ]
  },
  {
   "cell_type": "code",
   "execution_count": 46,
   "id": "f7565e1b",
   "metadata": {},
   "outputs": [
    {
     "data": {
      "text/plain": [
       "a     0\n",
       "b    30\n",
       "c    60\n",
       "d    90\n",
       "dtype: int64"
      ]
     },
     "execution_count": 46,
     "metadata": {},
     "output_type": "execute_result"
    }
   ],
   "source": [
    "#Series is similar to a Python dictionary in which the index is the key\n",
    "#unlike a dictionary, Pandas series supoorts slicing\n",
    "S2[:'d']"
   ]
  },
  {
   "cell_type": "code",
   "execution_count": 47,
   "id": "72baea7d",
   "metadata": {},
   "outputs": [
    {
     "data": {
      "text/plain": [
       "b     30\n",
       "c     60\n",
       "d     90\n",
       "e    120\n",
       "f    150\n",
       "g    180\n",
       "dtype: int64"
      ]
     },
     "execution_count": 47,
     "metadata": {},
     "output_type": "execute_result"
    }
   ],
   "source": [
    "S2['b':]"
   ]
  },
  {
   "cell_type": "code",
   "execution_count": 48,
   "id": "0ab79dd7",
   "metadata": {},
   "outputs": [
    {
     "data": {
      "text/plain": [
       "pandas.core.series.Series"
      ]
     },
     "execution_count": 48,
     "metadata": {},
     "output_type": "execute_result"
    }
   ],
   "source": [
    "S2['b':'e']\n",
    "type(S2)"
   ]
  },
  {
   "cell_type": "code",
   "execution_count": 49,
   "id": "3cfc032d",
   "metadata": {},
   "outputs": [],
   "source": [
    "#Constructing Series objects\n",
    "#In general pd.Series(data,index)\n",
    "#where data can be one of many entities and \n",
    "#index is an optional argument"
   ]
  },
  {
   "cell_type": "code",
   "execution_count": 50,
   "id": "e7c0c9bc",
   "metadata": {},
   "outputs": [
    {
     "data": {
      "text/plain": [
       "0    2\n",
       "1    4\n",
       "2    6\n",
       "3    8\n",
       "dtype: int64"
      ]
     },
     "execution_count": 50,
     "metadata": {},
     "output_type": "execute_result"
    }
   ],
   "source": [
    "#Data can be a list or Numpy array in which case the\n",
    "#index defaults to an integer sequence\n",
    "pd.Series([2,4,6,8])"
   ]
  },
  {
   "cell_type": "code",
   "execution_count": 51,
   "id": "a01d7611",
   "metadata": {},
   "outputs": [
    {
     "data": {
      "text/plain": [
       "100    3.1416\n",
       "200    3.1416\n",
       "300    3.1416\n",
       "dtype: float64"
      ]
     },
     "execution_count": 51,
     "metadata": {},
     "output_type": "execute_result"
    }
   ],
   "source": [
    "#Data can be a scalar which is repeated to fill the specified index\n",
    "pd.Series(3.1416,index=[100,200,300])"
   ]
  },
  {
   "cell_type": "code",
   "execution_count": 52,
   "id": "997ba011",
   "metadata": {},
   "outputs": [
    {
     "data": {
      "text/plain": [
       "'c'"
      ]
     },
     "execution_count": 52,
     "metadata": {},
     "output_type": "execute_result"
    }
   ],
   "source": [
    "#Data can be a dictionary in which the index defaults to the\n",
    "#dictionary keys\n",
    "S3=pd.Series({2:'a',1:'b',3:'c'})\n",
    "S3\n",
    "S3[3]"
   ]
  },
  {
   "cell_type": "code",
   "execution_count": 53,
   "id": "f31e971f",
   "metadata": {},
   "outputs": [
    {
     "data": {
      "text/plain": [
       "1    b\n",
       "3    c\n",
       "dtype: object"
      ]
     },
     "execution_count": 53,
     "metadata": {},
     "output_type": "execute_result"
    }
   ],
   "source": [
    "#The key can be explicity set if a different result set is preferred\n",
    "#Series is only populated with the explicitly identified keys\n",
    "pd.Series({2:'a',1:'b',3:'c'},index=[1,3])"
   ]
  },
  {
   "cell_type": "code",
   "execution_count": 54,
   "id": "41e5609e",
   "metadata": {},
   "outputs": [],
   "source": [
    "#Next fundemental structure is the DataFrame\n",
    "#DataFrame is like a two-dimensional array with flexible row indices\n",
    "#and flexible column names.\n",
    "#Unlike Numpy array, Dataframe allows for heterogeneous data types\n",
    "#and missing data\n",
    "\n",
    "#One of the most preferred tools for data scientists to do data\n",
    "#manipulation and analysis\n"
   ]
  },
  {
   "cell_type": "code",
   "execution_count": 55,
   "id": "c56a1323",
   "metadata": {},
   "outputs": [],
   "source": [
    "#Constructing DataFrame Objects\n",
    "#There are a variety of ways to create a DataFrame\n",
    "import pandas as pd"
   ]
  },
  {
   "cell_type": "code",
   "execution_count": 56,
   "id": "3c856682",
   "metadata": {},
   "outputs": [
    {
     "name": "stdout",
     "output_type": "stream",
     "text": [
      "Germany    46\n",
      "France     42\n",
      "Italy      47\n",
      "Spain      45\n",
      "dtype: int64\n"
     ]
    }
   ],
   "source": [
    "#A single column DataFrame can be constructed from a single series\n",
    "#From a single series object\n",
    "medianAge = pd.Series([46,42,47,45],index=['Germany','France','Italy','Spain'])\n",
    "print(medianAge)"
   ]
  },
  {
   "cell_type": "code",
   "execution_count": 57,
   "id": "5b0fdb66",
   "metadata": {},
   "outputs": [
    {
     "name": "stdout",
     "output_type": "stream",
     "text": [
      "         Median Age\n",
      "Germany          46\n",
      "France           42\n",
      "Italy            47\n",
      "Spain            45\n"
     ]
    }
   ],
   "source": [
    "#Creating the DataFrame\n",
    "df1 = pd.DataFrame(medianAge,columns=['Median Age'])\n",
    "print(df1)"
   ]
  },
  {
   "cell_type": "code",
   "execution_count": 58,
   "id": "ec24ae89",
   "metadata": {},
   "outputs": [],
   "source": [
    "#In general a DataFrame is a collection of Series object"
   ]
  },
  {
   "cell_type": "code",
   "execution_count": 59,
   "id": "2635de62",
   "metadata": {},
   "outputs": [
    {
     "name": "stdout",
     "output_type": "stream",
     "text": [
      "[{'V': 0, 'V2': 0}, {'V': 1, 'V2': 1}, {'V': 2, 'V2': 4}, {'V': 3, 'V2': 9}, {'V': 4, 'V2': 16}]\n"
     ]
    }
   ],
   "source": [
    "#Create a DataFrame from a list of dictionaries\n",
    "#Any list of dictionaries can be made into a DataFrame\n",
    "#Let's use list comprehension to create some data\n",
    "data = [{'V':i,'V2':i**2} for i in range(5)]\n",
    "print(data)"
   ]
  },
  {
   "cell_type": "code",
   "execution_count": 60,
   "id": "180fb500",
   "metadata": {},
   "outputs": [
    {
     "data": {
      "text/html": [
       "<div>\n",
       "<style scoped>\n",
       "    .dataframe tbody tr th:only-of-type {\n",
       "        vertical-align: middle;\n",
       "    }\n",
       "\n",
       "    .dataframe tbody tr th {\n",
       "        vertical-align: top;\n",
       "    }\n",
       "\n",
       "    .dataframe thead th {\n",
       "        text-align: right;\n",
       "    }\n",
       "</style>\n",
       "<table border=\"1\" class=\"dataframe\">\n",
       "  <thead>\n",
       "    <tr style=\"text-align: right;\">\n",
       "      <th></th>\n",
       "      <th>V</th>\n",
       "      <th>V2</th>\n",
       "    </tr>\n",
       "  </thead>\n",
       "  <tbody>\n",
       "    <tr>\n",
       "      <th>0</th>\n",
       "      <td>0</td>\n",
       "      <td>0</td>\n",
       "    </tr>\n",
       "    <tr>\n",
       "      <th>1</th>\n",
       "      <td>1</td>\n",
       "      <td>1</td>\n",
       "    </tr>\n",
       "    <tr>\n",
       "      <th>2</th>\n",
       "      <td>2</td>\n",
       "      <td>4</td>\n",
       "    </tr>\n",
       "    <tr>\n",
       "      <th>3</th>\n",
       "      <td>3</td>\n",
       "      <td>9</td>\n",
       "    </tr>\n",
       "    <tr>\n",
       "      <th>4</th>\n",
       "      <td>4</td>\n",
       "      <td>16</td>\n",
       "    </tr>\n",
       "  </tbody>\n",
       "</table>\n",
       "</div>"
      ],
      "text/plain": [
       "   V  V2\n",
       "0  0   0\n",
       "1  1   1\n",
       "2  2   4\n",
       "3  3   9\n",
       "4  4  16"
      ]
     },
     "execution_count": 60,
     "metadata": {},
     "output_type": "execute_result"
    }
   ],
   "source": [
    "df2 = pd.DataFrame(data)\n",
    "df2"
   ]
  },
  {
   "cell_type": "code",
   "execution_count": 201,
   "id": "6d454962",
   "metadata": {},
   "outputs": [],
   "source": [
    "#Even if some keys in the dictionary are missing, Pandas will fill them in \n",
    "#with NaN values\n",
    "#NaN means Not a Number\n",
    "data0 = [{'V': 0, 'V2': 0}, {'V': 1, 'V2': 1}, {'V': 2, 'V2': 4}, {'V': 3, 'V2': 9}, \n",
    "         {'V': 4, 'V2': 16}]\n",
    "data1 = [{'V': 0, 'V2': 0}, {'V': 1, 'V2': 1}, {'V2': 4}, {'V': 3, 'V2': 9}, \n",
    "         {'V': 4, 'V2': 16}]"
   ]
  },
  {
   "cell_type": "code",
   "execution_count": 62,
   "id": "6723fbb3",
   "metadata": {},
   "outputs": [
    {
     "data": {
      "text/html": [
       "<div>\n",
       "<style scoped>\n",
       "    .dataframe tbody tr th:only-of-type {\n",
       "        vertical-align: middle;\n",
       "    }\n",
       "\n",
       "    .dataframe tbody tr th {\n",
       "        vertical-align: top;\n",
       "    }\n",
       "\n",
       "    .dataframe thead th {\n",
       "        text-align: right;\n",
       "    }\n",
       "</style>\n",
       "<table border=\"1\" class=\"dataframe\">\n",
       "  <thead>\n",
       "    <tr style=\"text-align: right;\">\n",
       "      <th></th>\n",
       "      <th>V</th>\n",
       "      <th>V2</th>\n",
       "    </tr>\n",
       "  </thead>\n",
       "  <tbody>\n",
       "    <tr>\n",
       "      <th>0</th>\n",
       "      <td>0.0</td>\n",
       "      <td>0</td>\n",
       "    </tr>\n",
       "    <tr>\n",
       "      <th>1</th>\n",
       "      <td>1.0</td>\n",
       "      <td>1</td>\n",
       "    </tr>\n",
       "    <tr>\n",
       "      <th>2</th>\n",
       "      <td>NaN</td>\n",
       "      <td>4</td>\n",
       "    </tr>\n",
       "    <tr>\n",
       "      <th>3</th>\n",
       "      <td>3.0</td>\n",
       "      <td>9</td>\n",
       "    </tr>\n",
       "    <tr>\n",
       "      <th>4</th>\n",
       "      <td>4.0</td>\n",
       "      <td>16</td>\n",
       "    </tr>\n",
       "  </tbody>\n",
       "</table>\n",
       "</div>"
      ],
      "text/plain": [
       "     V  V2\n",
       "0  0.0   0\n",
       "1  1.0   1\n",
       "2  NaN   4\n",
       "3  3.0   9\n",
       "4  4.0  16"
      ]
     },
     "execution_count": 62,
     "metadata": {},
     "output_type": "execute_result"
    }
   ],
   "source": [
    "pd.DataFrame(data1)"
   ]
  },
  {
   "cell_type": "code",
   "execution_count": 63,
   "id": "eb6aa423",
   "metadata": {},
   "outputs": [
    {
     "data": {
      "text/plain": [
       "Germany    46\n",
       "France     42\n",
       "Italy      47\n",
       "Spain      45\n",
       "dtype: int64"
      ]
     },
     "execution_count": 63,
     "metadata": {},
     "output_type": "execute_result"
    }
   ],
   "source": [
    "#DataFrame can be constructed from a dictionary of Series objects\n",
    "medianAge"
   ]
  },
  {
   "cell_type": "code",
   "execution_count": 64,
   "id": "95a38932",
   "metadata": {},
   "outputs": [],
   "source": [
    "#Create another Series object\n",
    "population = pd.Series([83783942,65273511,60461826,46754778],\n",
    "                       index=['Germany','France','Italy','Spain'])"
   ]
  },
  {
   "cell_type": "code",
   "execution_count": 65,
   "id": "e810ae58",
   "metadata": {},
   "outputs": [
    {
     "data": {
      "text/plain": [
       "Germany    83783942\n",
       "France     65273511\n",
       "Italy      60461826\n",
       "Spain      46754778\n",
       "dtype: int64"
      ]
     },
     "execution_count": 65,
     "metadata": {},
     "output_type": "execute_result"
    }
   ],
   "source": [
    "population"
   ]
  },
  {
   "cell_type": "code",
   "execution_count": 66,
   "id": "2141aa1c",
   "metadata": {},
   "outputs": [
    {
     "data": {
      "text/html": [
       "<div>\n",
       "<style scoped>\n",
       "    .dataframe tbody tr th:only-of-type {\n",
       "        vertical-align: middle;\n",
       "    }\n",
       "\n",
       "    .dataframe tbody tr th {\n",
       "        vertical-align: top;\n",
       "    }\n",
       "\n",
       "    .dataframe thead th {\n",
       "        text-align: right;\n",
       "    }\n",
       "</style>\n",
       "<table border=\"1\" class=\"dataframe\">\n",
       "  <thead>\n",
       "    <tr style=\"text-align: right;\">\n",
       "      <th></th>\n",
       "      <th>population</th>\n",
       "      <th>medianAge</th>\n",
       "    </tr>\n",
       "  </thead>\n",
       "  <tbody>\n",
       "    <tr>\n",
       "      <th>Germany</th>\n",
       "      <td>83783942</td>\n",
       "      <td>46</td>\n",
       "    </tr>\n",
       "    <tr>\n",
       "      <th>France</th>\n",
       "      <td>65273511</td>\n",
       "      <td>42</td>\n",
       "    </tr>\n",
       "    <tr>\n",
       "      <th>Italy</th>\n",
       "      <td>60461826</td>\n",
       "      <td>47</td>\n",
       "    </tr>\n",
       "    <tr>\n",
       "      <th>Spain</th>\n",
       "      <td>46754778</td>\n",
       "      <td>45</td>\n",
       "    </tr>\n",
       "  </tbody>\n",
       "</table>\n",
       "</div>"
      ],
      "text/plain": [
       "         population  medianAge\n",
       "Germany    83783942         46\n",
       "France     65273511         42\n",
       "Italy      60461826         47\n",
       "Spain      46754778         45"
      ]
     },
     "execution_count": 66,
     "metadata": {},
     "output_type": "execute_result"
    }
   ],
   "source": [
    "df3 = pd.DataFrame({'population':population,'medianAge':medianAge})\n",
    "df3"
   ]
  },
  {
   "cell_type": "code",
   "execution_count": 67,
   "id": "02512ffb",
   "metadata": {},
   "outputs": [
    {
     "data": {
      "text/plain": [
       "array([[0.08757746, 0.96886036],\n",
       "       [0.86185158, 0.89816143],\n",
       "       [0.35769568, 0.56635207]])"
      ]
     },
     "execution_count": 67,
     "metadata": {},
     "output_type": "execute_result"
    }
   ],
   "source": [
    "#DataFrame can be constructed from a two-dimensional NumPy array\n",
    "import numpy as np\n",
    "A1 = np.random.rand(3,2)\n",
    "A1"
   ]
  },
  {
   "cell_type": "code",
   "execution_count": 68,
   "id": "b92bfaf3",
   "metadata": {},
   "outputs": [
    {
     "data": {
      "text/html": [
       "<div>\n",
       "<style scoped>\n",
       "    .dataframe tbody tr th:only-of-type {\n",
       "        vertical-align: middle;\n",
       "    }\n",
       "\n",
       "    .dataframe tbody tr th {\n",
       "        vertical-align: top;\n",
       "    }\n",
       "\n",
       "    .dataframe thead th {\n",
       "        text-align: right;\n",
       "    }\n",
       "</style>\n",
       "<table border=\"1\" class=\"dataframe\">\n",
       "  <thead>\n",
       "    <tr style=\"text-align: right;\">\n",
       "      <th></th>\n",
       "      <th>C1</th>\n",
       "      <th>C2</th>\n",
       "    </tr>\n",
       "  </thead>\n",
       "  <tbody>\n",
       "    <tr>\n",
       "      <th>a</th>\n",
       "      <td>0.087577</td>\n",
       "      <td>0.968860</td>\n",
       "    </tr>\n",
       "    <tr>\n",
       "      <th>b</th>\n",
       "      <td>0.861852</td>\n",
       "      <td>0.898161</td>\n",
       "    </tr>\n",
       "    <tr>\n",
       "      <th>c</th>\n",
       "      <td>0.357696</td>\n",
       "      <td>0.566352</td>\n",
       "    </tr>\n",
       "  </tbody>\n",
       "</table>\n",
       "</div>"
      ],
      "text/plain": [
       "         C1        C2\n",
       "a  0.087577  0.968860\n",
       "b  0.861852  0.898161\n",
       "c  0.357696  0.566352"
      ]
     },
     "execution_count": 68,
     "metadata": {},
     "output_type": "execute_result"
    }
   ],
   "source": [
    "#Create a DataFrame using the specified column and index names\n",
    "import pandas as pd\n",
    "pd.DataFrame(A1,columns=['C1','C2'],index=['a','b','c'])\n"
   ]
  },
  {
   "cell_type": "code",
   "execution_count": 69,
   "id": "ae8ffde7",
   "metadata": {},
   "outputs": [
    {
     "data": {
      "text/html": [
       "<div>\n",
       "<style scoped>\n",
       "    .dataframe tbody tr th:only-of-type {\n",
       "        vertical-align: middle;\n",
       "    }\n",
       "\n",
       "    .dataframe tbody tr th {\n",
       "        vertical-align: top;\n",
       "    }\n",
       "\n",
       "    .dataframe thead th {\n",
       "        text-align: right;\n",
       "    }\n",
       "</style>\n",
       "<table border=\"1\" class=\"dataframe\">\n",
       "  <thead>\n",
       "    <tr style=\"text-align: right;\">\n",
       "      <th></th>\n",
       "      <th>0</th>\n",
       "      <th>1</th>\n",
       "    </tr>\n",
       "  </thead>\n",
       "  <tbody>\n",
       "    <tr>\n",
       "      <th>a</th>\n",
       "      <td>0.087577</td>\n",
       "      <td>0.968860</td>\n",
       "    </tr>\n",
       "    <tr>\n",
       "      <th>b</th>\n",
       "      <td>0.861852</td>\n",
       "      <td>0.898161</td>\n",
       "    </tr>\n",
       "    <tr>\n",
       "      <th>c</th>\n",
       "      <td>0.357696</td>\n",
       "      <td>0.566352</td>\n",
       "    </tr>\n",
       "  </tbody>\n",
       "</table>\n",
       "</div>"
      ],
      "text/plain": [
       "          0         1\n",
       "a  0.087577  0.968860\n",
       "b  0.861852  0.898161\n",
       "c  0.357696  0.566352"
      ]
     },
     "execution_count": 69,
     "metadata": {},
     "output_type": "execute_result"
    }
   ],
   "source": [
    "#if we omit the columns or index, integers will be used\n",
    "#Let's omit the columns\n",
    "pd.DataFrame(A1,index=['a','b','c'])\n"
   ]
  },
  {
   "cell_type": "code",
   "execution_count": 70,
   "id": "15d1a36a",
   "metadata": {},
   "outputs": [
    {
     "data": {
      "text/html": [
       "<div>\n",
       "<style scoped>\n",
       "    .dataframe tbody tr th:only-of-type {\n",
       "        vertical-align: middle;\n",
       "    }\n",
       "\n",
       "    .dataframe tbody tr th {\n",
       "        vertical-align: top;\n",
       "    }\n",
       "\n",
       "    .dataframe thead th {\n",
       "        text-align: right;\n",
       "    }\n",
       "</style>\n",
       "<table border=\"1\" class=\"dataframe\">\n",
       "  <thead>\n",
       "    <tr style=\"text-align: right;\">\n",
       "      <th></th>\n",
       "      <th>0</th>\n",
       "      <th>1</th>\n",
       "    </tr>\n",
       "  </thead>\n",
       "  <tbody>\n",
       "    <tr>\n",
       "      <th>0</th>\n",
       "      <td>0.087577</td>\n",
       "      <td>0.968860</td>\n",
       "    </tr>\n",
       "    <tr>\n",
       "      <th>1</th>\n",
       "      <td>0.861852</td>\n",
       "      <td>0.898161</td>\n",
       "    </tr>\n",
       "    <tr>\n",
       "      <th>2</th>\n",
       "      <td>0.357696</td>\n",
       "      <td>0.566352</td>\n",
       "    </tr>\n",
       "  </tbody>\n",
       "</table>\n",
       "</div>"
      ],
      "text/plain": [
       "          0         1\n",
       "0  0.087577  0.968860\n",
       "1  0.861852  0.898161\n",
       "2  0.357696  0.566352"
      ]
     },
     "execution_count": 70,
     "metadata": {},
     "output_type": "execute_result"
    }
   ],
   "source": [
    "#Let's omit the columns and index\n",
    "pd.DataFrame(A1)"
   ]
  },
  {
   "cell_type": "code",
   "execution_count": 71,
   "id": "c79280f0",
   "metadata": {},
   "outputs": [],
   "source": [
    "#The third fundemental structure is the Index which we have already seen\n",
    "#Both the Series and DataFrame contain an explicit index\n",
    "#Index object can be thought of as an immutable array or as an ordered set\n",
    "#Index object may also contain repeated values.\n"
   ]
  },
  {
   "cell_type": "code",
   "execution_count": 72,
   "id": "526ba9a9",
   "metadata": {},
   "outputs": [
    {
     "data": {
      "text/plain": [
       "array([[0.08757746, 0.96886036],\n",
       "       [0.86185158, 0.89816143],\n",
       "       [0.35769568, 0.56635207]])"
      ]
     },
     "execution_count": 72,
     "metadata": {},
     "output_type": "execute_result"
    }
   ],
   "source": [
    "#Let's use the NumPy from an earlier example\n",
    "A1"
   ]
  },
  {
   "cell_type": "code",
   "execution_count": 73,
   "id": "583bc8a0",
   "metadata": {},
   "outputs": [
    {
     "data": {
      "text/html": [
       "<div>\n",
       "<style scoped>\n",
       "    .dataframe tbody tr th:only-of-type {\n",
       "        vertical-align: middle;\n",
       "    }\n",
       "\n",
       "    .dataframe tbody tr th {\n",
       "        vertical-align: top;\n",
       "    }\n",
       "\n",
       "    .dataframe thead th {\n",
       "        text-align: right;\n",
       "    }\n",
       "</style>\n",
       "<table border=\"1\" class=\"dataframe\">\n",
       "  <thead>\n",
       "    <tr style=\"text-align: right;\">\n",
       "      <th></th>\n",
       "      <th>C1</th>\n",
       "      <th>C2</th>\n",
       "    </tr>\n",
       "  </thead>\n",
       "  <tbody>\n",
       "    <tr>\n",
       "      <th>a</th>\n",
       "      <td>0.087577</td>\n",
       "      <td>0.968860</td>\n",
       "    </tr>\n",
       "    <tr>\n",
       "      <th>b</th>\n",
       "      <td>0.861852</td>\n",
       "      <td>0.898161</td>\n",
       "    </tr>\n",
       "    <tr>\n",
       "      <th>b</th>\n",
       "      <td>0.357696</td>\n",
       "      <td>0.566352</td>\n",
       "    </tr>\n",
       "  </tbody>\n",
       "</table>\n",
       "</div>"
      ],
      "text/plain": [
       "         C1        C2\n",
       "a  0.087577  0.968860\n",
       "b  0.861852  0.898161\n",
       "b  0.357696  0.566352"
      ]
     },
     "execution_count": 73,
     "metadata": {},
     "output_type": "execute_result"
    }
   ],
   "source": [
    "#Let's create an Index object with a repeating value\n",
    "I1 = pd.Index(['a','b','b'])\n",
    "pd.DataFrame(A1,columns=['C1','C2'],index=I1)"
   ]
  },
  {
   "cell_type": "code",
   "execution_count": 74,
   "id": "652e3c57",
   "metadata": {},
   "outputs": [
    {
     "data": {
      "text/plain": [
       "pandas.core.indexes.base.Index"
      ]
     },
     "execution_count": 74,
     "metadata": {},
     "output_type": "execute_result"
    }
   ],
   "source": [
    "type(I1)"
   ]
  },
  {
   "cell_type": "code",
   "execution_count": 75,
   "id": "baff9f9b",
   "metadata": {},
   "outputs": [],
   "source": [
    "#How would you use repeated values"
   ]
  },
  {
   "cell_type": "code",
   "execution_count": 76,
   "id": "721284a9",
   "metadata": {},
   "outputs": [
    {
     "data": {
      "text/plain": [
       "'b'"
      ]
     },
     "execution_count": 76,
     "metadata": {},
     "output_type": "execute_result"
    }
   ],
   "source": [
    "#Index object operates like an array\n",
    "I1[2]"
   ]
  },
  {
   "cell_type": "code",
   "execution_count": 77,
   "id": "04a9bb46",
   "metadata": {},
   "outputs": [
    {
     "ename": "TypeError",
     "evalue": "Index does not support mutable operations",
     "output_type": "error",
     "traceback": [
      "\u001b[1;31m---------------------------------------------------------------------------\u001b[0m",
      "\u001b[1;31mTypeError\u001b[0m                                 Traceback (most recent call last)",
      "\u001b[1;32m<ipython-input-77-899140972f25>\u001b[0m in \u001b[0;36m<module>\u001b[1;34m\u001b[0m\n\u001b[0;32m      1\u001b[0m \u001b[1;31m#But Index object is immutable\u001b[0m\u001b[1;33m\u001b[0m\u001b[1;33m\u001b[0m\u001b[1;33m\u001b[0m\u001b[0m\n\u001b[1;32m----> 2\u001b[1;33m \u001b[0mI1\u001b[0m\u001b[1;33m[\u001b[0m\u001b[1;36m2\u001b[0m\u001b[1;33m]\u001b[0m \u001b[1;33m=\u001b[0m \u001b[1;34m'c'\u001b[0m\u001b[1;33m\u001b[0m\u001b[1;33m\u001b[0m\u001b[0m\n\u001b[0m",
      "\u001b[1;32m~\\anaconda3\\lib\\site-packages\\pandas\\core\\indexes\\base.py\u001b[0m in \u001b[0;36m__setitem__\u001b[1;34m(self, key, value)\u001b[0m\n\u001b[0;32m   4275\u001b[0m     \u001b[1;33m@\u001b[0m\u001b[0mfinal\u001b[0m\u001b[1;33m\u001b[0m\u001b[1;33m\u001b[0m\u001b[0m\n\u001b[0;32m   4276\u001b[0m     \u001b[1;32mdef\u001b[0m \u001b[0m__setitem__\u001b[0m\u001b[1;33m(\u001b[0m\u001b[0mself\u001b[0m\u001b[1;33m,\u001b[0m \u001b[0mkey\u001b[0m\u001b[1;33m,\u001b[0m \u001b[0mvalue\u001b[0m\u001b[1;33m)\u001b[0m\u001b[1;33m:\u001b[0m\u001b[1;33m\u001b[0m\u001b[1;33m\u001b[0m\u001b[0m\n\u001b[1;32m-> 4277\u001b[1;33m         \u001b[1;32mraise\u001b[0m \u001b[0mTypeError\u001b[0m\u001b[1;33m(\u001b[0m\u001b[1;34m\"Index does not support mutable operations\"\u001b[0m\u001b[1;33m)\u001b[0m\u001b[1;33m\u001b[0m\u001b[1;33m\u001b[0m\u001b[0m\n\u001b[0m\u001b[0;32m   4278\u001b[0m \u001b[1;33m\u001b[0m\u001b[0m\n\u001b[0;32m   4279\u001b[0m     \u001b[1;32mdef\u001b[0m \u001b[0m__getitem__\u001b[0m\u001b[1;33m(\u001b[0m\u001b[0mself\u001b[0m\u001b[1;33m,\u001b[0m \u001b[0mkey\u001b[0m\u001b[1;33m)\u001b[0m\u001b[1;33m:\u001b[0m\u001b[1;33m\u001b[0m\u001b[1;33m\u001b[0m\u001b[0m\n",
      "\u001b[1;31mTypeError\u001b[0m: Index does not support mutable operations"
     ]
    }
   ],
   "source": [
    "#But Index object is immutable\n",
    "I1[2] = 'c'"
   ]
  },
  {
   "cell_type": "code",
   "execution_count": 202,
   "id": "321590f5",
   "metadata": {},
   "outputs": [],
   "source": [
    "#Being immutable is safer for when the Index object is shared across \n",
    "#multiple datasets\n",
    "#Pandas objects are designed to facilitate operations such as joining of \n",
    "#multiple datasets,\n",
    "#taking the differences,\n",
    "#and getting the intersection. Similar to set operations"
   ]
  },
  {
   "cell_type": "code",
   "execution_count": 79,
   "id": "1cd75d09",
   "metadata": {},
   "outputs": [
    {
     "data": {
      "text/plain": [
       "0      0\n",
       "1     30\n",
       "2     60\n",
       "3     90\n",
       "4    120\n",
       "5    150\n",
       "6    180\n",
       "dtype: int64"
      ]
     },
     "execution_count": 79,
     "metadata": {},
     "output_type": "execute_result"
    }
   ],
   "source": [
    "#Let's look at S1 again\n",
    "S1"
   ]
  },
  {
   "cell_type": "code",
   "execution_count": 80,
   "id": "a1c952cf",
   "metadata": {},
   "outputs": [
    {
     "data": {
      "text/plain": [
       "30"
      ]
     },
     "execution_count": 80,
     "metadata": {},
     "output_type": "execute_result"
    }
   ],
   "source": [
    "#Already showed data selection and slicing\n",
    "S1[1]"
   ]
  },
  {
   "cell_type": "code",
   "execution_count": 81,
   "id": "2c04a7dc",
   "metadata": {},
   "outputs": [
    {
     "data": {
      "text/plain": [
       "0     0\n",
       "1    30\n",
       "2    60\n",
       "dtype: int64"
      ]
     },
     "execution_count": 81,
     "metadata": {},
     "output_type": "execute_result"
    }
   ],
   "source": [
    "S1[:3]"
   ]
  },
  {
   "cell_type": "code",
   "execution_count": 82,
   "id": "e6779ac6",
   "metadata": {},
   "outputs": [
    {
     "data": {
      "text/plain": [
       "4    120\n",
       "5    150\n",
       "6    180\n",
       "dtype: int64"
      ]
     },
     "execution_count": 82,
     "metadata": {},
     "output_type": "execute_result"
    }
   ],
   "source": [
    "S1[4:]"
   ]
  },
  {
   "cell_type": "code",
   "execution_count": 83,
   "id": "ad24447c",
   "metadata": {},
   "outputs": [
    {
     "data": {
      "text/plain": [
       "RangeIndex(start=0, stop=7, step=1)"
      ]
     },
     "execution_count": 83,
     "metadata": {},
     "output_type": "execute_result"
    }
   ],
   "source": [
    "#Let's see more of data indexing and selection\n",
    "#Data selections in Series uses dictionary-like expressions as shown above\n",
    "S1.keys()\n"
   ]
  },
  {
   "cell_type": "code",
   "execution_count": 84,
   "id": "fdcf887f",
   "metadata": {},
   "outputs": [
    {
     "data": {
      "text/plain": [
       "[(0, 0), (1, 30), (2, 60), (3, 90), (4, 120), (5, 150), (6, 180)]"
      ]
     },
     "execution_count": 84,
     "metadata": {},
     "output_type": "execute_result"
    }
   ],
   "source": [
    "list(S1.items())"
   ]
  },
  {
   "cell_type": "code",
   "execution_count": 85,
   "id": "bb8380ac",
   "metadata": {},
   "outputs": [
    {
     "data": {
      "text/plain": [
       "0      0\n",
       "1     30\n",
       "2     60\n",
       "3     90\n",
       "4    120\n",
       "5    150\n",
       "6    180\n",
       "dtype: int64"
      ]
     },
     "execution_count": 85,
     "metadata": {},
     "output_type": "execute_result"
    }
   ],
   "source": [
    "#We can extend the series by adding a new key/value pair\n",
    "S1"
   ]
  },
  {
   "cell_type": "code",
   "execution_count": 86,
   "id": "da1080f2",
   "metadata": {},
   "outputs": [],
   "source": [
    "S1[7] = 210"
   ]
  },
  {
   "cell_type": "code",
   "execution_count": 87,
   "id": "ff9f34aa",
   "metadata": {},
   "outputs": [
    {
     "data": {
      "text/plain": [
       "0      0\n",
       "1     30\n",
       "2     60\n",
       "3     90\n",
       "4    120\n",
       "5    150\n",
       "6    180\n",
       "7    210\n",
       "dtype: int64"
      ]
     },
     "execution_count": 87,
     "metadata": {},
     "output_type": "execute_result"
    }
   ],
   "source": [
    "S1"
   ]
  },
  {
   "cell_type": "code",
   "execution_count": 88,
   "id": "a9da4bdc",
   "metadata": {},
   "outputs": [
    {
     "name": "stdout",
     "output_type": "stream",
     "text": [
      "0     10\n",
      "1     30\n",
      "2     60\n",
      "3     90\n",
      "4    120\n",
      "5    150\n",
      "6    180\n",
      "7    210\n",
      "dtype: int64\n"
     ]
    }
   ],
   "source": [
    "#Series is mutable\n",
    "S1[0] = 10\n",
    "print(S1)"
   ]
  },
  {
   "cell_type": "code",
   "execution_count": 89,
   "id": "c0882ccd",
   "metadata": {},
   "outputs": [
    {
     "name": "stdout",
     "output_type": "stream",
     "text": [
      "0      0\n",
      "1     30\n",
      "2     60\n",
      "3     90\n",
      "4    120\n",
      "5    150\n",
      "6    180\n",
      "7    210\n",
      "dtype: int64\n"
     ]
    }
   ],
   "source": [
    "S1[0] = 0\n",
    "print(S1)"
   ]
  },
  {
   "cell_type": "code",
   "execution_count": 90,
   "id": "279f3457",
   "metadata": {},
   "outputs": [
    {
     "data": {
      "text/plain": [
       "0      0\n",
       "1     30\n",
       "2     60\n",
       "3     90\n",
       "4    120\n",
       "dtype: int64"
      ]
     },
     "execution_count": 90,
     "metadata": {},
     "output_type": "execute_result"
    }
   ],
   "source": [
    "S1[0:5]"
   ]
  },
  {
   "cell_type": "code",
   "execution_count": 91,
   "id": "058419aa",
   "metadata": {},
   "outputs": [
    {
     "data": {
      "text/plain": [
       "a      0\n",
       "b     30\n",
       "c     60\n",
       "d     90\n",
       "e    120\n",
       "f    150\n",
       "g    180\n",
       "dtype: int64"
      ]
     },
     "execution_count": 91,
     "metadata": {},
     "output_type": "execute_result"
    }
   ],
   "source": [
    "S2"
   ]
  },
  {
   "cell_type": "code",
   "execution_count": 92,
   "id": "a8dbb243",
   "metadata": {},
   "outputs": [
    {
     "data": {
      "text/plain": [
       "a      0\n",
       "b     30\n",
       "c     60\n",
       "d     90\n",
       "e    120\n",
       "f    150\n",
       "dtype: int64"
      ]
     },
     "execution_count": 92,
     "metadata": {},
     "output_type": "execute_result"
    }
   ],
   "source": [
    "S2['a':'f']"
   ]
  },
  {
   "cell_type": "code",
   "execution_count": 93,
   "id": "e040571f",
   "metadata": {},
   "outputs": [],
   "source": [
    "#Note: the difference between the two slices?\n",
    "#When slicing with an explicit index, the final index is included\n",
    "#When slicing with an implicit index, the final index excluded\n",
    "#It can be confusing if using an integer index\n",
    "#Because of this potential confusion, Pandas provides special \n",
    "#indexer attributes: loc and iloc\n",
    "#These are not functional methods but attributes that expose a particular\n",
    "#slicing interface to the data"
   ]
  },
  {
   "cell_type": "code",
   "execution_count": 94,
   "id": "b7767f3c",
   "metadata": {},
   "outputs": [
    {
     "data": {
      "text/plain": [
       "a      0\n",
       "b     30\n",
       "c     60\n",
       "d     90\n",
       "e    120\n",
       "dtype: int64"
      ]
     },
     "execution_count": 94,
     "metadata": {},
     "output_type": "execute_result"
    }
   ],
   "source": [
    "S2.loc['a':'e']"
   ]
  }
 ],
 "metadata": {
  "kernelspec": {
   "display_name": "Python 3",
   "language": "python",
   "name": "python3"
  },
  "language_info": {
   "codemirror_mode": {
    "name": "ipython",
    "version": 3
   },
   "file_extension": ".py",
   "mimetype": "text/x-python",
   "name": "python",
   "nbconvert_exporter": "python",
   "pygments_lexer": "ipython3",
   "version": "3.8.8"
  }
 },
 "nbformat": 4,
 "nbformat_minor": 5
}
