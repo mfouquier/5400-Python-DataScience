{
 "cells": [
  {
   "cell_type": "code",
   "execution_count": 1,
   "id": "1fec29bf",
   "metadata": {},
   "outputs": [],
   "source": [
    "import numpy as np"
   ]
  },
  {
   "cell_type": "code",
   "execution_count": 2,
   "id": "5047a113",
   "metadata": {},
   "outputs": [
    {
     "data": {
      "text/plain": [
       "'1.20.1'"
      ]
     },
     "execution_count": 2,
     "metadata": {},
     "output_type": "execute_result"
    }
   ],
   "source": [
    "# Print the version of numpy loaded in your environment\n",
    "np.__version__"
   ]
  },
  {
   "cell_type": "code",
   "execution_count": 3,
   "id": "b5270741",
   "metadata": {},
   "outputs": [
    {
     "data": {
      "text/plain": [
       "array([ 0,  1,  2,  3,  4,  5,  6,  7,  8,  9, 10, 11, 12, 13, 14, 15, 16,\n",
       "       17, 18, 19, 20, 21, 22, 23, 24, 25])"
      ]
     },
     "execution_count": 3,
     "metadata": {},
     "output_type": "execute_result"
    }
   ],
   "source": [
    "# Create a vector (one dimensional array) of sequential numbers from 0 to 25\n",
    "np.arange(0, 26)"
   ]
  },
  {
   "cell_type": "code",
   "execution_count": 4,
   "id": "7addefae",
   "metadata": {},
   "outputs": [
    {
     "data": {
      "text/plain": [
       "array([ 0.  ,  6.25, 12.5 , 18.75, 25.  ])"
      ]
     },
     "execution_count": 4,
     "metadata": {},
     "output_type": "execute_result"
    }
   ],
   "source": [
    "# Create 5 linear spaced numbers from 0 to 25\n",
    "np.linspace(0, 25, 5)"
   ]
  },
  {
   "cell_type": "code",
   "execution_count": 5,
   "id": "bfdb3be7",
   "metadata": {},
   "outputs": [
    {
     "data": {
      "text/plain": [
       "array([[1., 0., 0., 0., 0., 0.],\n",
       "       [0., 1., 0., 0., 0., 0.],\n",
       "       [0., 0., 1., 0., 0., 0.],\n",
       "       [0., 0., 0., 1., 0., 0.],\n",
       "       [0., 0., 0., 0., 1., 0.],\n",
       "       [0., 0., 0., 0., 0., 1.]])"
      ]
     },
     "execution_count": 5,
     "metadata": {},
     "output_type": "execute_result"
    }
   ],
   "source": [
    "# Briefly describe an identity matrix and create a 6x6 identity array\n",
    "\n",
    "# Identity matrix is a square array with 1's on the main diagonal\n",
    "# Useful in linear algebra similiar to the number 1 in multiplication of real numbers\n",
    "np.eye(6)"
   ]
  },
  {
   "cell_type": "code",
   "execution_count": 9,
   "id": "8127f173",
   "metadata": {},
   "outputs": [
    {
     "name": "stdout",
     "output_type": "stream",
     "text": [
      "[[3 3 6 3 0 1]\n",
      " [4 0 1 8 6 0]\n",
      " [6 8 1 2 9 6]\n",
      " [4 6 5 4 3 4]\n",
      " [8 3 8 8 3 9]\n",
      " [8 4 5 4 1 3]]\n"
     ]
    }
   ],
   "source": [
    "# Create a 6x6 array of random numbers between 0 and 10; this is step 5\n",
    "a = np.random.randint(0, 10, (6,6))\n",
    "print(a)"
   ]
  },
  {
   "cell_type": "code",
   "execution_count": 26,
   "id": "c21e35c8",
   "metadata": {},
   "outputs": [
    {
     "data": {
      "text/plain": [
       "array([[0.33333333, 0.33333333, 0.66666667, 0.33333333, 0.        ,\n",
       "        0.11111111],\n",
       "       [0.44444444, 0.        , 0.11111111, 0.88888889, 0.66666667,\n",
       "        0.        ],\n",
       "       [0.66666667, 0.88888889, 0.11111111, 0.22222222, 1.        ,\n",
       "        0.66666667],\n",
       "       [0.44444444, 0.66666667, 0.55555556, 0.44444444, 0.33333333,\n",
       "        0.44444444],\n",
       "       [0.88888889, 0.33333333, 0.88888889, 0.88888889, 0.33333333,\n",
       "        1.        ],\n",
       "       [0.88888889, 0.44444444, 0.55555556, 0.44444444, 0.11111111,\n",
       "        0.33333333]])"
      ]
     },
     "execution_count": 26,
     "metadata": {},
     "output_type": "execute_result"
    }
   ],
   "source": [
    "# Using the 6x6 array from step 5, scale the numbers so that they are between 0 and 1\n",
    "np.interp(a, (a.min(), a.max()), (0, 1))"
   ]
  },
  {
   "cell_type": "code",
   "execution_count": 24,
   "id": "9c5ef685",
   "metadata": {},
   "outputs": [
    {
     "name": "stdout",
     "output_type": "stream",
     "text": [
      "Shape of Array from 5: (6, 6)\n",
      "Size of Array from 5: 36\n",
      "Type of Array from 5: int32\n",
      "Item size of Array from 5: 4 bytes\n"
     ]
    }
   ],
   "source": [
    "# Using the 6x6 array from step 5, let’s examine the following attributes: \n",
    "# number of dimensions, shape, size, data type and the item size. \n",
    "# Add a comment with the item size in bytes.\n",
    "print('Shape of Array from 5:',b.shape)\n",
    "print('Size of Array from 5:',b.size)\n",
    "print('Type of Array from 5:',b.dtype)\n",
    "print('Item size of Array from 5:', b.itemsize, 'bytes')"
   ]
  },
  {
   "cell_type": "code",
   "execution_count": 30,
   "id": "f9aff9e7",
   "metadata": {},
   "outputs": [
    {
     "name": "stdout",
     "output_type": "stream",
     "text": [
      "[[3 3 6 3 0 1]\n",
      " [4 0 1 8 6 0]]\n"
     ]
    }
   ],
   "source": [
    "# Using the 6x6 array from step 5, get the first 2 rows\n",
    "print(a[:2])"
   ]
  },
  {
   "cell_type": "code",
   "execution_count": 33,
   "id": "14d1a623",
   "metadata": {},
   "outputs": [
    {
     "name": "stdout",
     "output_type": "stream",
     "text": [
      "[[3]\n",
      " [0]\n",
      " [8]\n",
      " [6]\n",
      " [3]\n",
      " [4]]\n"
     ]
    }
   ],
   "source": [
    "# Using the 6x6 array from step 5, get the second column\n",
    "print(a[:,1:2])"
   ]
  },
  {
   "cell_type": "code",
   "execution_count": 34,
   "id": "12235715",
   "metadata": {},
   "outputs": [
    {
     "data": {
      "text/plain": [
       "array([[3, 3, 6],\n",
       "       [4, 0, 1],\n",
       "       [6, 8, 1]])"
      ]
     },
     "execution_count": 34,
     "metadata": {},
     "output_type": "execute_result"
    }
   ],
   "source": [
    "# Using the 6x6 array from step 5, create a 3 by 3 subarray from the top left corner; step 10\n",
    "b = a[:3, :3]\n",
    "b"
   ]
  },
  {
   "cell_type": "code",
   "execution_count": 35,
   "id": "1c4a8012",
   "metadata": {},
   "outputs": [
    {
     "data": {
      "text/plain": [
       "array([[ 6,  6, 12],\n",
       "       [ 8,  0,  2],\n",
       "       [12, 16,  2]])"
      ]
     },
     "execution_count": 35,
     "metadata": {},
     "output_type": "execute_result"
    }
   ],
   "source": [
    "# Using the 3 by 3 subarray from step 10, double all of its values\n",
    "c = b * 2\n",
    "c"
   ]
  },
  {
   "cell_type": "code",
   "execution_count": 36,
   "id": "71e003bd",
   "metadata": {},
   "outputs": [
    {
     "data": {
      "text/plain": [
       "array([[13, 13, 16],\n",
       "       [14, 10, 11],\n",
       "       [16, 18, 11]])"
      ]
     },
     "execution_count": 36,
     "metadata": {},
     "output_type": "execute_result"
    }
   ],
   "source": [
    "# Using the 3 by 3 subarray from step 10, add 10 to all of its values\n",
    "d = b + 10\n",
    "d"
   ]
  },
  {
   "cell_type": "code",
   "execution_count": 58,
   "id": "80aa151a",
   "metadata": {},
   "outputs": [
    {
     "name": "stdout",
     "output_type": "stream",
     "text": [
      "[ 1  2  3  4  5  6  7  8  9 10 11 12 13 14 15 16 17 18 19 20 21 22 23 24\n",
      " 25] \n",
      " [26 27 28 29 30 31 32 33 34 35 36 37 38 39 40 41 42 43 44 45 46 47 48 49\n",
      " 50]\n",
      "\n",
      " [[ 1  2  3  4  5]\n",
      " [ 6  7  8  9 10]\n",
      " [11 12 13 14 15]\n",
      " [16 17 18 19 20]\n",
      " [21 22 23 24 25]] \n",
      "\n",
      " [[26 27 28 29 30]\n",
      " [31 32 33 34 35]\n",
      " [36 37 38 39 40]\n",
      " [41 42 43 44 45]\n",
      " [46 47 48 49 50]]\n",
      "\n",
      " [[ 1  2  3  4  5]\n",
      " [ 6  7  8  9 10]\n",
      " [11 12 13 14 15]\n",
      " [16 17 18 19 20]\n",
      " [21 22 23 24 25]\n",
      " [26 27 28 29 30]\n",
      " [31 32 33 34 35]\n",
      " [36 37 38 39 40]\n",
      " [41 42 43 44 45]\n",
      " [46 47 48 49 50]]\n"
     ]
    }
   ],
   "source": [
    "# Create two new vectors (one dimensional array) of sequential numbers from 0 to 25 and 25 to 50 \n",
    "z = np.arange(1, 26)\n",
    "y = np.arange(26, 51)\n",
    "print(z,'\\n',y)\n",
    "\n",
    "# then resize them so that they are both 5x5 matrices\n",
    "w = z.reshape((5,5))\n",
    "x = y.reshape((5,5))\n",
    "print('\\n', w, '\\n\\n', x)\n",
    "\n",
    "# and add them together to create a new square matrix; step 13\n",
    "v = np.concatenate([w, x])\n",
    "print('\\n', v)\n",
    "\n"
   ]
  },
  {
   "cell_type": "code",
   "execution_count": 62,
   "id": "d34b7b7b",
   "metadata": {},
   "outputs": [
    {
     "data": {
      "text/plain": [
       "array([[ 1,  2,  3,  4,  5, 26, 27, 28, 29, 30],\n",
       "       [ 6,  7,  8,  9, 10, 31, 32, 33, 34, 35],\n",
       "       [11, 12, 13, 14, 15, 36, 37, 38, 39, 40],\n",
       "       [16, 17, 18, 19, 20, 41, 42, 43, 44, 45],\n",
       "       [21, 22, 23, 24, 25, 46, 47, 48, 49, 50]])"
      ]
     },
     "execution_count": 62,
     "metadata": {},
     "output_type": "execute_result"
    }
   ],
   "source": [
    "# Using the square matrices from step 13, create a new matrix by concatenating them by rows i.e. axis = 0; step 14\n",
    "m = np.concatenate([w, x], axis=1)\n",
    "m"
   ]
  },
  {
   "cell_type": "code",
   "execution_count": 67,
   "id": "6b84ed13",
   "metadata": {},
   "outputs": [
    {
     "data": {
      "text/plain": [
       "1275"
      ]
     },
     "execution_count": 67,
     "metadata": {},
     "output_type": "execute_result"
    }
   ],
   "source": [
    "# Using the matrix from step 14, find the total value\n",
    "np.sum(m)"
   ]
  },
  {
   "cell_type": "code",
   "execution_count": 71,
   "id": "6733b92e",
   "metadata": {},
   "outputs": [
    {
     "data": {
      "text/plain": [
       "array([15.5, 20.5, 25.5, 30.5, 35.5])"
      ]
     },
     "execution_count": 71,
     "metadata": {},
     "output_type": "execute_result"
    }
   ],
   "source": [
    "# Using the matrix from step 14, find the mean of each row\n",
    "np.mean(m, axis=1)"
   ]
  },
  {
   "cell_type": "code",
   "execution_count": 72,
   "id": "933facd4",
   "metadata": {},
   "outputs": [
    {
     "data": {
      "text/plain": [
       "array([11., 12., 13., 14., 15., 36., 37., 38., 39., 40.])"
      ]
     },
     "execution_count": 72,
     "metadata": {},
     "output_type": "execute_result"
    }
   ],
   "source": [
    "# Using the matrix from step 14, find the mean of each column\n",
    "np.mean(m, axis=0)"
   ]
  }
 ],
 "metadata": {
  "kernelspec": {
   "display_name": "Python 3",
   "language": "python",
   "name": "python3"
  },
  "language_info": {
   "codemirror_mode": {
    "name": "ipython",
    "version": 3
   },
   "file_extension": ".py",
   "mimetype": "text/x-python",
   "name": "python",
   "nbconvert_exporter": "python",
   "pygments_lexer": "ipython3",
   "version": "3.8.8"
  }
 },
 "nbformat": 4,
 "nbformat_minor": 5
}
