{
 "cells": [
  {
   "cell_type": "code",
   "execution_count": 6,
   "id": "2e0afd1c",
   "metadata": {},
   "outputs": [],
   "source": [
    "import numpy as np\n",
    "np.random.seed(0)\n",
    "\n",
    "A2 = np.random.random((4,4))"
   ]
  },
  {
   "cell_type": "code",
   "execution_count": 7,
   "id": "3b8c64ab",
   "metadata": {},
   "outputs": [
    {
     "data": {
      "text/plain": [
       "array([[0.5488135 , 0.71518937, 0.60276338, 0.54488318],\n",
       "       [0.4236548 , 0.64589411, 0.43758721, 0.891773  ],\n",
       "       [0.96366276, 0.38344152, 0.79172504, 0.52889492],\n",
       "       [0.56804456, 0.92559664, 0.07103606, 0.0871293 ]])"
      ]
     },
     "execution_count": 7,
     "metadata": {},
     "output_type": "execute_result"
    }
   ],
   "source": [
    "A2"
   ]
  },
  {
   "cell_type": "code",
   "execution_count": 9,
   "id": "5b07bcf8",
   "metadata": {},
   "outputs": [
    {
     "data": {
      "text/plain": [
       "array([[0.5488135 , 0.71518937],\n",
       "       [0.4236548 , 0.64589411]])"
      ]
     },
     "execution_count": 9,
     "metadata": {},
     "output_type": "execute_result"
    }
   ],
   "source": [
    "A3 = A2[:2, :2]\n",
    "A3"
   ]
  },
  {
   "cell_type": "code",
   "execution_count": 10,
   "id": "f05e0f22",
   "metadata": {},
   "outputs": [
    {
     "name": "stdout",
     "output_type": "stream",
     "text": [
      "[[1.09762701 1.43037873]\n",
      " [0.8473096  1.29178823]]\n"
     ]
    }
   ],
   "source": [
    "print(A3 * 2)"
   ]
  },
  {
   "cell_type": "code",
   "execution_count": 11,
   "id": "e9328292",
   "metadata": {},
   "outputs": [
    {
     "data": {
      "text/plain": [
       "array([1, 2, 3, 4, 5, 6, 7, 8, 9])"
      ]
     },
     "execution_count": 11,
     "metadata": {},
     "output_type": "execute_result"
    }
   ],
   "source": [
    "np.arange(1,10)"
   ]
  },
  {
   "cell_type": "code",
   "execution_count": 12,
   "id": "122a92c9",
   "metadata": {},
   "outputs": [
    {
     "data": {
      "text/plain": [
       "array([[1, 2, 3],\n",
       "       [4, 5, 6],\n",
       "       [7, 8, 9]])"
      ]
     },
     "execution_count": 12,
     "metadata": {},
     "output_type": "execute_result"
    }
   ],
   "source": [
    "a4 = np.arange(1,10).reshape((3,3))\n",
    "a4"
   ]
  },
  {
   "cell_type": "code",
   "execution_count": 16,
   "id": "53ee15f3",
   "metadata": {},
   "outputs": [
    {
     "data": {
      "text/plain": [
       "array([[1],\n",
       "       [2],\n",
       "       [3],\n",
       "       [4],\n",
       "       [5],\n",
       "       [6],\n",
       "       [7],\n",
       "       [8],\n",
       "       [9]])"
      ]
     },
     "execution_count": 16,
     "metadata": {},
     "output_type": "execute_result"
    }
   ],
   "source": [
    "a5 = a4.reshape((9,1))\n",
    "a5"
   ]
  },
  {
   "cell_type": "code",
   "execution_count": 30,
   "id": "7235dc0b",
   "metadata": {},
   "outputs": [
    {
     "data": {
      "text/plain": [
       "array([1, 2, 3, 4, 5, 6])"
      ]
     },
     "execution_count": 30,
     "metadata": {},
     "output_type": "execute_result"
    }
   ],
   "source": [
    "a1 = np.array([1,2,3])\n",
    "a2 = np.array([4,5,6])\n",
    "a3 = np.concatenate([a1, a2])\n",
    "a3"
   ]
  },
  {
   "cell_type": "code",
   "execution_count": 31,
   "id": "4c785c2a",
   "metadata": {},
   "outputs": [
    {
     "name": "stdout",
     "output_type": "stream",
     "text": [
      "[1 2] [3 4] [5 6]\n"
     ]
    }
   ],
   "source": [
    "a1,a2,a4 = np.split(a3,[2,4])\n",
    "print(a1,a2,a4)"
   ]
  },
  {
   "cell_type": "code",
   "execution_count": 33,
   "id": "9a13d90c",
   "metadata": {},
   "outputs": [
    {
     "data": {
      "text/plain": [
       "array([[1, 2],\n",
       "       [4, 5]])"
      ]
     },
     "execution_count": 33,
     "metadata": {},
     "output_type": "execute_result"
    }
   ],
   "source": [
    "b1 = np.array([[1,2], [4,5]])\n",
    "b1"
   ]
  },
  {
   "cell_type": "code",
   "execution_count": 34,
   "id": "526c98f3",
   "metadata": {},
   "outputs": [
    {
     "data": {
      "text/plain": [
       "[[3], [6]]"
      ]
     },
     "execution_count": 34,
     "metadata": {},
     "output_type": "execute_result"
    }
   ],
   "source": [
    "b2 = [[3], [6]]\n",
    "b2"
   ]
  },
  {
   "cell_type": "code",
   "execution_count": 37,
   "id": "4068d417",
   "metadata": {},
   "outputs": [
    {
     "data": {
      "text/plain": [
       "array([[1, 2, 3],\n",
       "       [4, 5, 6]])"
      ]
     },
     "execution_count": 37,
     "metadata": {},
     "output_type": "execute_result"
    }
   ],
   "source": [
    "bb1 = np.append(b1, b2, axis=1)\n",
    "bb1"
   ]
  },
  {
   "cell_type": "code",
   "execution_count": 38,
   "id": "c510e0f3",
   "metadata": {},
   "outputs": [
    {
     "data": {
      "text/plain": [
       "array([[1, 3],\n",
       "       [4, 6]])"
      ]
     },
     "execution_count": 38,
     "metadata": {},
     "output_type": "execute_result"
    }
   ],
   "source": [
    "x = np.array([[1,3], [4,6]])\n",
    "x"
   ]
  },
  {
   "cell_type": "code",
   "execution_count": 39,
   "id": "32645d8f",
   "metadata": {},
   "outputs": [
    {
     "data": {
      "text/plain": [
       "[2, 5]"
      ]
     },
     "execution_count": 39,
     "metadata": {},
     "output_type": "execute_result"
    }
   ],
   "source": [
    "x1 = [2,5]\n",
    "x1"
   ]
  },
  {
   "cell_type": "code",
   "execution_count": 40,
   "id": "608494b0",
   "metadata": {},
   "outputs": [
    {
     "data": {
      "text/plain": [
       "array([[1, 2, 3],\n",
       "       [4, 5, 6]])"
      ]
     },
     "execution_count": 40,
     "metadata": {},
     "output_type": "execute_result"
    }
   ],
   "source": [
    "x2 = np.insert(x, 1, x1, axis=1)\n",
    "x2"
   ]
  },
  {
   "cell_type": "code",
   "execution_count": 41,
   "id": "1dbe3d1e",
   "metadata": {},
   "outputs": [
    {
     "data": {
      "text/plain": [
       "array([0, 1, 2, 3, 4, 5, 6, 7, 8, 9])"
      ]
     },
     "execution_count": 41,
     "metadata": {},
     "output_type": "execute_result"
    }
   ],
   "source": [
    "y = np.arange(10)\n",
    "y"
   ]
  },
  {
   "cell_type": "code",
   "execution_count": 42,
   "id": "371c6948",
   "metadata": {},
   "outputs": [
    {
     "name": "stdout",
     "output_type": "stream",
     "text": [
      "[ 1  2  3  4  5  6  7  8  9 10]\n"
     ]
    }
   ],
   "source": [
    "print(y+1)"
   ]
  },
  {
   "cell_type": "code",
   "execution_count": 43,
   "id": "5dc893bc",
   "metadata": {},
   "outputs": [
    {
     "data": {
      "text/plain": [
       "0.02021839744032572"
      ]
     },
     "execution_count": 43,
     "metadata": {},
     "output_type": "execute_result"
    }
   ],
   "source": [
    "r1 = np.random.random()\n",
    "r1"
   ]
  },
  {
   "cell_type": "code",
   "execution_count": 44,
   "id": "06d9265e",
   "metadata": {},
   "outputs": [
    {
     "data": {
      "text/plain": [
       "array([0.0202184 , 0.04043679, 0.06065519, 0.08087359, 0.10109199,\n",
       "       0.12131038, 0.14152878, 0.16174718, 0.18196558, 0.20218397,\n",
       "       0.22240237, 0.24262077, 0.26283917, 0.28305756, 0.30327596,\n",
       "       0.32349436, 0.34371276, 0.36393115, 0.38414955, 0.40436795,\n",
       "       0.42458635, 0.44480474, 0.46502314, 0.48524154, 0.50545994,\n",
       "       0.52567833, 0.54589673, 0.56611513, 0.58633353, 0.60655192,\n",
       "       0.62677032, 0.64698872, 0.66720712, 0.68742551, 0.70764391,\n",
       "       0.72786231, 0.74808071, 0.7682991 , 0.7885175 , 0.8087359 ,\n",
       "       0.8289543 , 0.84917269, 0.86939109, 0.88960949, 0.90982788,\n",
       "       0.93004628, 0.95026468, 0.97048308, 0.99070147, 1.01091987])"
      ]
     },
     "execution_count": 44,
     "metadata": {},
     "output_type": "execute_result"
    }
   ],
   "source": [
    "a1 = np.arange(1, 51) * r1\n",
    "a1"
   ]
  },
  {
   "cell_type": "code",
   "execution_count": 48,
   "id": "94b9f1e7",
   "metadata": {},
   "outputs": [
    {
     "data": {
      "text/plain": [
       "array([[0.0202184 , 0.04043679, 0.06065519, 0.08087359, 0.10109199],\n",
       "       [0.12131038, 0.14152878, 0.16174718, 0.18196558, 0.20218397],\n",
       "       [0.22240237, 0.24262077, 0.26283917, 0.28305756, 0.30327596],\n",
       "       [0.32349436, 0.34371276, 0.36393115, 0.38414955, 0.40436795],\n",
       "       [0.42458635, 0.44480474, 0.46502314, 0.48524154, 0.50545994],\n",
       "       [0.52567833, 0.54589673, 0.56611513, 0.58633353, 0.60655192],\n",
       "       [0.62677032, 0.64698872, 0.66720712, 0.68742551, 0.70764391],\n",
       "       [0.72786231, 0.74808071, 0.7682991 , 0.7885175 , 0.8087359 ],\n",
       "       [0.8289543 , 0.84917269, 0.86939109, 0.88960949, 0.90982788],\n",
       "       [0.93004628, 0.95026468, 0.97048308, 0.99070147, 1.01091987]])"
      ]
     },
     "execution_count": 48,
     "metadata": {},
     "output_type": "execute_result"
    }
   ],
   "source": [
    "a2 = a1.reshape(10,5)\n",
    "a2"
   ]
  },
  {
   "cell_type": "code",
   "execution_count": 49,
   "id": "fb5f87d5",
   "metadata": {},
   "outputs": [
    {
     "data": {
      "text/plain": [
       "25.77845673641529"
      ]
     },
     "execution_count": 49,
     "metadata": {},
     "output_type": "execute_result"
    }
   ],
   "source": [
    "a2.sum()"
   ]
  },
  {
   "cell_type": "code",
   "execution_count": 50,
   "id": "4f6b254d",
   "metadata": {},
   "outputs": [
    {
     "data": {
      "text/plain": [
       "array([4.7513234 , 4.95350737, 5.15569135, 5.35787532, 5.5600593 ])"
      ]
     },
     "execution_count": 50,
     "metadata": {},
     "output_type": "execute_result"
    }
   ],
   "source": [
    "a2.sum(axis=0)"
   ]
  },
  {
   "cell_type": "code",
   "execution_count": 51,
   "id": "1268e5dd",
   "metadata": {
    "scrolled": true
   },
   "outputs": [
    {
     "data": {
      "text/plain": [
       "array([0.30327596, 0.8087359 , 1.31419583, 1.81965577, 2.32511571,\n",
       "       2.83057564, 3.33603558, 3.84149551, 4.34695545, 4.85241539])"
      ]
     },
     "execution_count": 51,
     "metadata": {},
     "output_type": "execute_result"
    }
   ],
   "source": [
    "a2.sum(axis=1)"
   ]
  },
  {
   "cell_type": "code",
   "execution_count": 52,
   "id": "e50fe140",
   "metadata": {},
   "outputs": [
    {
     "data": {
      "text/plain": [
       "0.5155691347283058"
      ]
     },
     "execution_count": 52,
     "metadata": {},
     "output_type": "execute_result"
    }
   ],
   "source": [
    "a2.mean()"
   ]
  },
  {
   "cell_type": "code",
   "execution_count": 53,
   "id": "d805045d",
   "metadata": {},
   "outputs": [
    {
     "data": {
      "text/plain": [
       "array([0.06065519, 0.16174718, 0.26283917, 0.36393115, 0.46502314,\n",
       "       0.56611513, 0.66720712, 0.7682991 , 0.86939109, 0.97048308])"
      ]
     },
     "execution_count": 53,
     "metadata": {},
     "output_type": "execute_result"
    }
   ],
   "source": [
    "a2.mean(axis=1)"
   ]
  },
  {
   "cell_type": "code",
   "execution_count": 54,
   "id": "3dbbd608",
   "metadata": {},
   "outputs": [
    {
     "data": {
      "text/plain": [
       "array([0.47513234, 0.49535074, 0.51556913, 0.53578753, 0.55600593])"
      ]
     },
     "execution_count": 54,
     "metadata": {},
     "output_type": "execute_result"
    }
   ],
   "source": [
    "a2.mean(axis=0)"
   ]
  },
  {
   "cell_type": "code",
   "execution_count": 59,
   "id": "0f9fca43",
   "metadata": {},
   "outputs": [
    {
     "name": "stdout",
     "output_type": "stream",
     "text": [
      "[[0.0202184  0.04043679 0.06065519 0.08087359 0.10109199]\n",
      " [0.12131038 0.14152878 0.16174718 0.18196558 0.20218397]\n",
      " [0.22240237 0.24262077 0.26283917 0.28305756 0.30327596]\n",
      " [0.32349436 0.34371276 0.36393115 0.38414955 0.40436795]\n",
      " [0.42458635 0.44480474 0.46502314 0.48524154 0.50545994]\n",
      " [0.52567833 0.54589673 0.56611513 0.58633353 0.60655192]\n",
      " [0.62677032 0.64698872 0.66720712 0.68742551 0.70764391]\n",
      " [0.72786231 0.74808071 0.7682991  0.7885175  0.8087359 ]\n",
      " [0.8289543  0.84917269 0.86939109 0.88960949 0.90982788]\n",
      " [0.93004628 0.95026468 0.97048308 0.99070147 1.01091987]]\n"
     ]
    },
    {
     "data": {
      "text/plain": [
       "array([0.0202184 , 0.12131038, 0.22240237, 0.32349436, 0.42458635,\n",
       "       0.52567833, 0.62677032, 0.72786231, 0.8289543 , 0.93004628])"
      ]
     },
     "execution_count": 59,
     "metadata": {},
     "output_type": "execute_result"
    }
   ],
   "source": [
    "print(a2)\n",
    "a2.min(axis=1)"
   ]
  },
  {
   "cell_type": "code",
   "execution_count": 56,
   "id": "7568705b",
   "metadata": {
    "scrolled": true
   },
   "outputs": [
    {
     "data": {
      "text/plain": [
       "array([0.0202184 , 0.04043679, 0.06065519, 0.08087359, 0.10109199])"
      ]
     },
     "execution_count": 56,
     "metadata": {},
     "output_type": "execute_result"
    }
   ],
   "source": [
    "a2.min(axis=0)"
   ]
  },
  {
   "cell_type": "code",
   "execution_count": 61,
   "id": "27dbbf2a",
   "metadata": {},
   "outputs": [
    {
     "data": {
      "text/plain": [
       "(100, 5)"
      ]
     },
     "execution_count": 61,
     "metadata": {},
     "output_type": "execute_result"
    }
   ],
   "source": [
    "a5 = np.random.normal(0,1,(100,5))\n",
    "a5.shape"
   ]
  },
  {
   "cell_type": "code",
   "execution_count": 62,
   "id": "939c38a3",
   "metadata": {},
   "outputs": [
    {
     "data": {
      "text/plain": [
       "array([-0.07271607, -0.17837509,  0.00832367, -0.08173388,  0.00830538])"
      ]
     },
     "execution_count": 62,
     "metadata": {},
     "output_type": "execute_result"
    }
   ],
   "source": [
    "a5.mean(axis=0)"
   ]
  },
  {
   "cell_type": "code",
   "execution_count": 63,
   "id": "b8ca33fb",
   "metadata": {},
   "outputs": [
    {
     "data": {
      "text/plain": [
       "array([ 0.3835206 ,  0.08107537, -0.23820199,  0.7521679 ,  0.34210952,\n",
       "       -0.41403917, -0.17193642, -0.52299173, -0.37823284,  0.13853756,\n",
       "        0.14520607,  0.17248319, -0.49188373,  0.0116472 ,  0.19097146,\n",
       "        0.19814695,  0.51026438,  0.59316247,  0.24986204, -0.16904396,\n",
       "       -0.17872055,  1.04301037, -0.66721455,  0.19207304, -0.36405662,\n",
       "        0.51859969, -0.26874386,  0.50240549,  0.85928003, -0.87021659,\n",
       "       -0.33687839, -0.28653485,  0.06700472,  0.26175892,  0.08156695,\n",
       "       -1.31494588,  0.14315737, -0.41108489, -0.33279697, -0.40886095,\n",
       "        0.05441296,  0.20291789,  0.47646166, -0.56174592, -0.32411879,\n",
       "       -0.13347887, -0.33978084, -0.04805136, -0.31533384,  0.2222016 ,\n",
       "       -0.246102  , -0.75084616, -0.12649455,  0.6507652 ,  0.15292565,\n",
       "        0.38570275,  0.25349723,  0.22615299,  0.6313353 , -0.22916892,\n",
       "       -0.44015075, -0.89615229, -0.58774274,  0.01245938, -0.26178942,\n",
       "        0.21327791, -0.48473164, -0.05270161, -0.14141927, -0.47087549,\n",
       "       -0.21648743,  0.19295591, -0.62804712, -0.35539288, -0.04122654,\n",
       "       -1.13139683, -0.47512111,  0.57426816, -0.00295643, -0.21814491,\n",
       "       -0.34362734,  0.82739463,  0.61532733,  0.09473271,  0.07703268,\n",
       "        0.57205968, -0.21629795,  0.39044124, -0.0541434 , -0.50024943,\n",
       "       -0.47850946, -0.87586786,  0.14183698,  0.45244438, -0.01157966,\n",
       "       -0.56583734,  0.17455463, -0.38755732, -0.38364551, -0.23393287])"
      ]
     },
     "execution_count": 63,
     "metadata": {},
     "output_type": "execute_result"
    }
   ],
   "source": [
    "a5.mean(axis=1)"
   ]
  },
  {
   "cell_type": "code",
   "execution_count": 64,
   "id": "01d2e52b",
   "metadata": {},
   "outputs": [
    {
     "data": {
      "text/plain": [
       "217"
      ]
     },
     "execution_count": 64,
     "metadata": {},
     "output_type": "execute_result"
    }
   ],
   "source": [
    "np.argmin(a5)"
   ]
  },
  {
   "cell_type": "code",
   "execution_count": 68,
   "id": "71cd616d",
   "metadata": {},
   "outputs": [
    {
     "data": {
      "text/plain": [
       "array([ True,  True, False, False, False])"
      ]
     },
     "execution_count": 68,
     "metadata": {},
     "output_type": "execute_result"
    }
   ],
   "source": [
    "a6 = np.array([11,12,13,14,15])\n",
    "a6 < 13"
   ]
  },
  {
   "cell_type": "code",
   "execution_count": 69,
   "id": "33713714",
   "metadata": {},
   "outputs": [
    {
     "data": {
      "text/plain": [
       "array([10, 11, 12, 13, 14, 15, 16, 17, 18, 19, 20])"
      ]
     },
     "execution_count": 69,
     "metadata": {},
     "output_type": "execute_result"
    }
   ],
   "source": [
    "#Fancy Indexing\n",
    "a7 = np.array([10, 11, 12, 13, 14,15,16,17,18,19,20])\n",
    "a7"
   ]
  },
  {
   "cell_type": "code",
   "execution_count": 73,
   "id": "923b4c58",
   "metadata": {},
   "outputs": [
    {
     "name": "stdout",
     "output_type": "stream",
     "text": [
      "[[14 16]\n",
      " [13 15]]\n"
     ]
    }
   ],
   "source": [
    "#Fancy Indexing\n",
    "a7_ind = np.array([[4,6], [3,5]])\n",
    "\n",
    "print(a7[a7_ind])"
   ]
  },
  {
   "cell_type": "code",
   "execution_count": 74,
   "id": "028c8e06",
   "metadata": {},
   "outputs": [
    {
     "data": {
      "text/plain": [
       "array([['a', 'b', 'c', 'd'],\n",
       "       ['e', 'f', 'g', 'h'],\n",
       "       ['i', 'j', 'k', 'l']], dtype='<U1')"
      ]
     },
     "execution_count": 74,
     "metadata": {},
     "output_type": "execute_result"
    }
   ],
   "source": [
    "a8 = np.array([['a', 'b', 'c', 'd'], ['e','f','g','h'], ['i','j','k','l']])\n",
    "a8"
   ]
  },
  {
   "cell_type": "code",
   "execution_count": 75,
   "id": "30f95135",
   "metadata": {},
   "outputs": [
    {
     "name": "stdout",
     "output_type": "stream",
     "text": [
      "['k' 'i']\n"
     ]
    }
   ],
   "source": [
    "print(a8[2,[2,0]])"
   ]
  },
  {
   "cell_type": "code",
   "execution_count": 76,
   "id": "2a9efe92",
   "metadata": {},
   "outputs": [
    {
     "name": "stdout",
     "output_type": "stream",
     "text": [
      "[['g' 'e']\n",
      " ['k' 'i']]\n"
     ]
    }
   ],
   "source": [
    "print(a8[1:, [2,0]])"
   ]
  },
  {
   "cell_type": "code",
   "execution_count": 77,
   "id": "f462eca3",
   "metadata": {},
   "outputs": [],
   "source": [
    "#\n",
    "# **************PANDAS***************\n",
    "#\n",
    "import pandas as pd\n"
   ]
  },
  {
   "cell_type": "code",
   "execution_count": 78,
   "id": "569c367c",
   "metadata": {},
   "outputs": [
    {
     "name": "stdout",
     "output_type": "stream",
     "text": [
      "1.2.4\n"
     ]
    }
   ],
   "source": [
    "print(pd.__version__)"
   ]
  },
  {
   "cell_type": "code",
   "execution_count": 79,
   "id": "bdea3205",
   "metadata": {},
   "outputs": [
    {
     "data": {
      "text/plain": [
       "0      0\n",
       "1     30\n",
       "2     60\n",
       "3     90\n",
       "4    120\n",
       "5    150\n",
       "6    180\n",
       "dtype: int64"
      ]
     },
     "execution_count": 79,
     "metadata": {},
     "output_type": "execute_result"
    }
   ],
   "source": [
    "#Series\n",
    "s1 = pd.Series([0, 30, 60, 90, 120, 150,180])\n",
    "s1"
   ]
  },
  {
   "cell_type": "code",
   "execution_count": 80,
   "id": "d7863703",
   "metadata": {},
   "outputs": [
    {
     "data": {
      "text/plain": [
       "pandas.core.series.Series"
      ]
     },
     "execution_count": 80,
     "metadata": {},
     "output_type": "execute_result"
    }
   ],
   "source": [
    "type(s1)"
   ]
  },
  {
   "cell_type": "code",
   "execution_count": 82,
   "id": "e355f31a",
   "metadata": {},
   "outputs": [
    {
     "data": {
      "text/plain": [
       "0            0\n",
       "1           30\n",
       "2           60\n",
       "3           90\n",
       "4    angle 120\n",
       "5    angle 150\n",
       "6    angle 180\n",
       "dtype: object"
      ]
     },
     "execution_count": 82,
     "metadata": {},
     "output_type": "execute_result"
    }
   ],
   "source": [
    "s11 = pd.Series([0, 30, 60, 90, 'angle 120', 'angle 150','angle 180'])\n",
    "s11"
   ]
  },
  {
   "cell_type": "code",
   "execution_count": 83,
   "id": "8afe5ee2",
   "metadata": {},
   "outputs": [
    {
     "data": {
      "text/plain": [
       "90"
      ]
     },
     "execution_count": 83,
     "metadata": {},
     "output_type": "execute_result"
    }
   ],
   "source": [
    "s1[3]"
   ]
  },
  {
   "cell_type": "code",
   "execution_count": 84,
   "id": "0bc3c11a",
   "metadata": {},
   "outputs": [
    {
     "data": {
      "text/plain": [
       "'angle 150'"
      ]
     },
     "execution_count": 84,
     "metadata": {},
     "output_type": "execute_result"
    }
   ],
   "source": [
    "s11[5]"
   ]
  },
  {
   "cell_type": "code",
   "execution_count": 85,
   "id": "49db9849",
   "metadata": {},
   "outputs": [
    {
     "data": {
      "text/plain": [
       "RangeIndex(start=0, stop=7, step=1)"
      ]
     },
     "execution_count": 85,
     "metadata": {},
     "output_type": "execute_result"
    }
   ],
   "source": [
    "s1.index"
   ]
  },
  {
   "cell_type": "code",
   "execution_count": 86,
   "id": "87c4f3aa",
   "metadata": {},
   "outputs": [
    {
     "data": {
      "text/plain": [
       "array([0, 30, 60, 90, 'angle 120', 'angle 150', 'angle 180'], dtype=object)"
      ]
     },
     "execution_count": 86,
     "metadata": {},
     "output_type": "execute_result"
    }
   ],
   "source": [
    "s11.values"
   ]
  },
  {
   "cell_type": "code",
   "execution_count": 88,
   "id": "db39e9ec",
   "metadata": {},
   "outputs": [
    {
     "data": {
      "text/plain": [
       "0     0\n",
       "1    30\n",
       "2    60\n",
       "dtype: int64"
      ]
     },
     "execution_count": 88,
     "metadata": {},
     "output_type": "execute_result"
    }
   ],
   "source": [
    "s1[:3]"
   ]
  },
  {
   "cell_type": "code",
   "execution_count": 89,
   "id": "534b95c7",
   "metadata": {},
   "outputs": [
    {
     "data": {
      "text/plain": [
       "4    120\n",
       "5    150\n",
       "6    180\n",
       "dtype: int64"
      ]
     },
     "execution_count": 89,
     "metadata": {},
     "output_type": "execute_result"
    }
   ],
   "source": [
    "s1[4:]"
   ]
  },
  {
   "cell_type": "code",
   "execution_count": 91,
   "id": "1d28827a",
   "metadata": {},
   "outputs": [
    {
     "data": {
      "text/plain": [
       "a      0\n",
       "b     30\n",
       "c     60\n",
       "d     90\n",
       "e    120\n",
       "f    150\n",
       "g    180\n",
       "dtype: int64"
      ]
     },
     "execution_count": 91,
     "metadata": {},
     "output_type": "execute_result"
    }
   ],
   "source": [
    "s1 = pd.Series([0, 30, 60, 90, 120, 150,180], index = ['a','b','c','d','e','f','g'])\n",
    "s1"
   ]
  },
  {
   "cell_type": "code",
   "execution_count": 92,
   "id": "eebc088f",
   "metadata": {},
   "outputs": [
    {
     "name": "stdout",
     "output_type": "stream",
     "text": [
      "Germany    46\n",
      "France     42\n",
      "Italy      47\n",
      "Spain      45\n",
      "dtype: int64\n"
     ]
    }
   ],
   "source": [
    "#DataFrame\n",
    "medianAge = pd.Series([46,42,47,45],index=['Germany','France','Italy','Spain'])\n",
    "print(medianAge)"
   ]
  },
  {
   "cell_type": "code",
   "execution_count": 94,
   "id": "25dd16b3",
   "metadata": {},
   "outputs": [
    {
     "data": {
      "text/html": [
       "<div>\n",
       "<style scoped>\n",
       "    .dataframe tbody tr th:only-of-type {\n",
       "        vertical-align: middle;\n",
       "    }\n",
       "\n",
       "    .dataframe tbody tr th {\n",
       "        vertical-align: top;\n",
       "    }\n",
       "\n",
       "    .dataframe thead th {\n",
       "        text-align: right;\n",
       "    }\n",
       "</style>\n",
       "<table border=\"1\" class=\"dataframe\">\n",
       "  <thead>\n",
       "    <tr style=\"text-align: right;\">\n",
       "      <th></th>\n",
       "      <th>Median Age</th>\n",
       "    </tr>\n",
       "  </thead>\n",
       "  <tbody>\n",
       "    <tr>\n",
       "      <th>Germany</th>\n",
       "      <td>46</td>\n",
       "    </tr>\n",
       "    <tr>\n",
       "      <th>France</th>\n",
       "      <td>42</td>\n",
       "    </tr>\n",
       "    <tr>\n",
       "      <th>Italy</th>\n",
       "      <td>47</td>\n",
       "    </tr>\n",
       "    <tr>\n",
       "      <th>Spain</th>\n",
       "      <td>45</td>\n",
       "    </tr>\n",
       "  </tbody>\n",
       "</table>\n",
       "</div>"
      ],
      "text/plain": [
       "         Median Age\n",
       "Germany          46\n",
       "France           42\n",
       "Italy            47\n",
       "Spain            45"
      ]
     },
     "execution_count": 94,
     "metadata": {},
     "output_type": "execute_result"
    }
   ],
   "source": [
    "df1 = pd.DataFrame(medianAge, columns=['Median Age'])\n",
    "df1"
   ]
  },
  {
   "cell_type": "code",
   "execution_count": 95,
   "id": "a772191c",
   "metadata": {},
   "outputs": [
    {
     "name": "stdout",
     "output_type": "stream",
     "text": [
      "[{'V': 0, 'V2': 0}, {'V': 1, 'V2': 1}, {'V': 2, 'V2': 4}, {'V': 3, 'V2': 9}, {'V': 4, 'V2': 16}]\n"
     ]
    }
   ],
   "source": [
    "data = [{'V':i, 'V2':i**2} for i in range(5)]\n",
    "print(data)"
   ]
  },
  {
   "cell_type": "code",
   "execution_count": 96,
   "id": "cca97d11",
   "metadata": {},
   "outputs": [
    {
     "data": {
      "text/html": [
       "<div>\n",
       "<style scoped>\n",
       "    .dataframe tbody tr th:only-of-type {\n",
       "        vertical-align: middle;\n",
       "    }\n",
       "\n",
       "    .dataframe tbody tr th {\n",
       "        vertical-align: top;\n",
       "    }\n",
       "\n",
       "    .dataframe thead th {\n",
       "        text-align: right;\n",
       "    }\n",
       "</style>\n",
       "<table border=\"1\" class=\"dataframe\">\n",
       "  <thead>\n",
       "    <tr style=\"text-align: right;\">\n",
       "      <th></th>\n",
       "      <th>V</th>\n",
       "      <th>V2</th>\n",
       "    </tr>\n",
       "  </thead>\n",
       "  <tbody>\n",
       "    <tr>\n",
       "      <th>0</th>\n",
       "      <td>0</td>\n",
       "      <td>0</td>\n",
       "    </tr>\n",
       "    <tr>\n",
       "      <th>1</th>\n",
       "      <td>1</td>\n",
       "      <td>1</td>\n",
       "    </tr>\n",
       "    <tr>\n",
       "      <th>2</th>\n",
       "      <td>2</td>\n",
       "      <td>4</td>\n",
       "    </tr>\n",
       "    <tr>\n",
       "      <th>3</th>\n",
       "      <td>3</td>\n",
       "      <td>9</td>\n",
       "    </tr>\n",
       "    <tr>\n",
       "      <th>4</th>\n",
       "      <td>4</td>\n",
       "      <td>16</td>\n",
       "    </tr>\n",
       "  </tbody>\n",
       "</table>\n",
       "</div>"
      ],
      "text/plain": [
       "   V  V2\n",
       "0  0   0\n",
       "1  1   1\n",
       "2  2   4\n",
       "3  3   9\n",
       "4  4  16"
      ]
     },
     "execution_count": 96,
     "metadata": {},
     "output_type": "execute_result"
    }
   ],
   "source": [
    "df2 = pd.DataFrame(data)\n",
    "df2"
   ]
  },
  {
   "cell_type": "code",
   "execution_count": 97,
   "id": "492c4fdc",
   "metadata": {},
   "outputs": [],
   "source": [
    "population = pd.Series([84,65,60,47], index=['Germany','France','Italy','Spain'])"
   ]
  },
  {
   "cell_type": "code",
   "execution_count": 99,
   "id": "a9a127cc",
   "metadata": {},
   "outputs": [
    {
     "data": {
      "text/html": [
       "<div>\n",
       "<style scoped>\n",
       "    .dataframe tbody tr th:only-of-type {\n",
       "        vertical-align: middle;\n",
       "    }\n",
       "\n",
       "    .dataframe tbody tr th {\n",
       "        vertical-align: top;\n",
       "    }\n",
       "\n",
       "    .dataframe thead th {\n",
       "        text-align: right;\n",
       "    }\n",
       "</style>\n",
       "<table border=\"1\" class=\"dataframe\">\n",
       "  <thead>\n",
       "    <tr style=\"text-align: right;\">\n",
       "      <th></th>\n",
       "      <th>population</th>\n",
       "      <th>medianAge</th>\n",
       "    </tr>\n",
       "  </thead>\n",
       "  <tbody>\n",
       "    <tr>\n",
       "      <th>Germany</th>\n",
       "      <td>84</td>\n",
       "      <td>46</td>\n",
       "    </tr>\n",
       "    <tr>\n",
       "      <th>France</th>\n",
       "      <td>65</td>\n",
       "      <td>42</td>\n",
       "    </tr>\n",
       "    <tr>\n",
       "      <th>Italy</th>\n",
       "      <td>60</td>\n",
       "      <td>47</td>\n",
       "    </tr>\n",
       "    <tr>\n",
       "      <th>Spain</th>\n",
       "      <td>47</td>\n",
       "      <td>45</td>\n",
       "    </tr>\n",
       "  </tbody>\n",
       "</table>\n",
       "</div>"
      ],
      "text/plain": [
       "         population  medianAge\n",
       "Germany          84         46\n",
       "France           65         42\n",
       "Italy            60         47\n",
       "Spain            47         45"
      ]
     },
     "execution_count": 99,
     "metadata": {},
     "output_type": "execute_result"
    }
   ],
   "source": [
    "df3 = pd.DataFrame({'population':population, 'medianAge':medianAge})\n",
    "df3"
   ]
  },
  {
   "cell_type": "code",
   "execution_count": 100,
   "id": "42b8ef92",
   "metadata": {},
   "outputs": [
    {
     "data": {
      "text/plain": [
       "array([[0.34471813, 0.71376687],\n",
       "       [0.6391869 , 0.39916115],\n",
       "       [0.43176013, 0.6145277 ]])"
      ]
     },
     "execution_count": 100,
     "metadata": {},
     "output_type": "execute_result"
    }
   ],
   "source": [
    "t1 = np.random.rand(3,2)\n",
    "t1"
   ]
  },
  {
   "cell_type": "code",
   "execution_count": 102,
   "id": "bb906d58",
   "metadata": {},
   "outputs": [
    {
     "data": {
      "text/html": [
       "<div>\n",
       "<style scoped>\n",
       "    .dataframe tbody tr th:only-of-type {\n",
       "        vertical-align: middle;\n",
       "    }\n",
       "\n",
       "    .dataframe tbody tr th {\n",
       "        vertical-align: top;\n",
       "    }\n",
       "\n",
       "    .dataframe thead th {\n",
       "        text-align: right;\n",
       "    }\n",
       "</style>\n",
       "<table border=\"1\" class=\"dataframe\">\n",
       "  <thead>\n",
       "    <tr style=\"text-align: right;\">\n",
       "      <th></th>\n",
       "      <th>C1</th>\n",
       "      <th>C2</th>\n",
       "    </tr>\n",
       "  </thead>\n",
       "  <tbody>\n",
       "    <tr>\n",
       "      <th>a</th>\n",
       "      <td>0.344718</td>\n",
       "      <td>0.713767</td>\n",
       "    </tr>\n",
       "    <tr>\n",
       "      <th>b</th>\n",
       "      <td>0.639187</td>\n",
       "      <td>0.399161</td>\n",
       "    </tr>\n",
       "    <tr>\n",
       "      <th>c</th>\n",
       "      <td>0.431760</td>\n",
       "      <td>0.614528</td>\n",
       "    </tr>\n",
       "  </tbody>\n",
       "</table>\n",
       "</div>"
      ],
      "text/plain": [
       "         C1        C2\n",
       "a  0.344718  0.713767\n",
       "b  0.639187  0.399161\n",
       "c  0.431760  0.614528"
      ]
     },
     "execution_count": 102,
     "metadata": {},
     "output_type": "execute_result"
    }
   ],
   "source": [
    "df4 = pd.DataFrame(t1,columns=['C1','C2'], index=['a','b','c'])\n",
    "df4"
   ]
  },
  {
   "cell_type": "code",
   "execution_count": 104,
   "id": "cce6132d",
   "metadata": {},
   "outputs": [
    {
     "data": {
      "text/html": [
       "<div>\n",
       "<style scoped>\n",
       "    .dataframe tbody tr th:only-of-type {\n",
       "        vertical-align: middle;\n",
       "    }\n",
       "\n",
       "    .dataframe tbody tr th {\n",
       "        vertical-align: top;\n",
       "    }\n",
       "\n",
       "    .dataframe thead th {\n",
       "        text-align: right;\n",
       "    }\n",
       "</style>\n",
       "<table border=\"1\" class=\"dataframe\">\n",
       "  <thead>\n",
       "    <tr style=\"text-align: right;\">\n",
       "      <th></th>\n",
       "      <th>0</th>\n",
       "      <th>1</th>\n",
       "    </tr>\n",
       "  </thead>\n",
       "  <tbody>\n",
       "    <tr>\n",
       "      <th>a</th>\n",
       "      <td>0.344718</td>\n",
       "      <td>0.713767</td>\n",
       "    </tr>\n",
       "    <tr>\n",
       "      <th>b</th>\n",
       "      <td>0.639187</td>\n",
       "      <td>0.399161</td>\n",
       "    </tr>\n",
       "    <tr>\n",
       "      <th>c</th>\n",
       "      <td>0.431760</td>\n",
       "      <td>0.614528</td>\n",
       "    </tr>\n",
       "  </tbody>\n",
       "</table>\n",
       "</div>"
      ],
      "text/plain": [
       "          0         1\n",
       "a  0.344718  0.713767\n",
       "b  0.639187  0.399161\n",
       "c  0.431760  0.614528"
      ]
     },
     "execution_count": 104,
     "metadata": {},
     "output_type": "execute_result"
    }
   ],
   "source": [
    "df5 = pd.DataFrame(t1, index=['a','b','c'])\n",
    "df5"
   ]
  },
  {
   "cell_type": "code",
   "execution_count": 105,
   "id": "e8880b3e",
   "metadata": {},
   "outputs": [
    {
     "data": {
      "text/html": [
       "<div>\n",
       "<style scoped>\n",
       "    .dataframe tbody tr th:only-of-type {\n",
       "        vertical-align: middle;\n",
       "    }\n",
       "\n",
       "    .dataframe tbody tr th {\n",
       "        vertical-align: top;\n",
       "    }\n",
       "\n",
       "    .dataframe thead th {\n",
       "        text-align: right;\n",
       "    }\n",
       "</style>\n",
       "<table border=\"1\" class=\"dataframe\">\n",
       "  <thead>\n",
       "    <tr style=\"text-align: right;\">\n",
       "      <th></th>\n",
       "      <th>0</th>\n",
       "      <th>1</th>\n",
       "    </tr>\n",
       "  </thead>\n",
       "  <tbody>\n",
       "    <tr>\n",
       "      <th>0</th>\n",
       "      <td>0.344718</td>\n",
       "      <td>0.713767</td>\n",
       "    </tr>\n",
       "    <tr>\n",
       "      <th>1</th>\n",
       "      <td>0.639187</td>\n",
       "      <td>0.399161</td>\n",
       "    </tr>\n",
       "    <tr>\n",
       "      <th>2</th>\n",
       "      <td>0.431760</td>\n",
       "      <td>0.614528</td>\n",
       "    </tr>\n",
       "  </tbody>\n",
       "</table>\n",
       "</div>"
      ],
      "text/plain": [
       "          0         1\n",
       "0  0.344718  0.713767\n",
       "1  0.639187  0.399161\n",
       "2  0.431760  0.614528"
      ]
     },
     "execution_count": 105,
     "metadata": {},
     "output_type": "execute_result"
    }
   ],
   "source": [
    "df6 = pd.DataFrame(t1)\n",
    "df6"
   ]
  },
  {
   "cell_type": "code",
   "execution_count": null,
   "id": "64fdc1b5",
   "metadata": {},
   "outputs": [],
   "source": []
  }
 ],
 "metadata": {
  "kernelspec": {
   "display_name": "Python 3",
   "language": "python",
   "name": "python3"
  },
  "language_info": {
   "codemirror_mode": {
    "name": "ipython",
    "version": 3
   },
   "file_extension": ".py",
   "mimetype": "text/x-python",
   "name": "python",
   "nbconvert_exporter": "python",
   "pygments_lexer": "ipython3",
   "version": "3.8.8"
  }
 },
 "nbformat": 4,
 "nbformat_minor": 5
}
