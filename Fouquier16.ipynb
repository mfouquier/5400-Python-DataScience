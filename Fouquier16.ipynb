{
 "cells": [
  {
   "cell_type": "code",
   "execution_count": null,
   "id": "94af76ad",
   "metadata": {},
   "outputs": [],
   "source": [
    "import matplotlib.pyplot as plt\n",
    "import numpy as np\n",
    "import pandas as pd\n",
    "import seaborn as sns\n",
    "from sklearn import linear_model\n",
    "from scipy.special import expit\n",
    "from sklearn.model_selection import train_test_split\n",
    "from sklearn.preprocessing import MinMaxScaler\n",
    "from sklearn.preprocessing import StandardScaler\n",
    "from sklearn.neural_network import MLPRegressor\n",
    "from sklearn.linear_model import LinearRegression"
   ]
  },
  {
   "cell_type": "code",
   "execution_count": null,
   "id": "f2ddf2f5",
   "metadata": {},
   "outputs": [],
   "source": [
    "# Read in the file, ‘red wine quality dataset.csv’, and create a dataframe."
   ]
  },
  {
   "cell_type": "code",
   "execution_count": null,
   "id": "361613ea",
   "metadata": {},
   "outputs": [],
   "source": [
    "# For categorical data, remember to map to an integer."
   ]
  },
  {
   "cell_type": "code",
   "execution_count": null,
   "id": "36de1873",
   "metadata": {},
   "outputs": [],
   "source": [
    "# Normalize the features using MinMaxScaler."
   ]
  },
  {
   "cell_type": "code",
   "execution_count": null,
   "id": "4e0f2fc5",
   "metadata": {},
   "outputs": [],
   "source": [
    "# Need to split the data into training set and test set. \n",
    "# Hint: use train_test_split with test_size of .33 and random_state=1."
   ]
  },
  {
   "cell_type": "code",
   "execution_count": null,
   "id": "781b5c3e",
   "metadata": {},
   "outputs": [],
   "source": [
    "# How many samples are you using for training and for testing?"
   ]
  },
  {
   "cell_type": "code",
   "execution_count": null,
   "id": "34400cf9",
   "metadata": {},
   "outputs": [],
   "source": [
    "# Create the model object using KNeighborsClassifier use 5 for nearest neighbors"
   ]
  },
  {
   "cell_type": "code",
   "execution_count": null,
   "id": "0f812df7",
   "metadata": {},
   "outputs": [],
   "source": [
    "# Fit the model."
   ]
  },
  {
   "cell_type": "code",
   "execution_count": null,
   "id": "511448bd",
   "metadata": {},
   "outputs": [],
   "source": [
    "# Make predictions using the test dataset."
   ]
  },
  {
   "cell_type": "code",
   "execution_count": null,
   "id": "51f48956",
   "metadata": {},
   "outputs": [],
   "source": [
    "# Compute the score using the X_test and y_test arguments."
   ]
  },
  {
   "cell_type": "code",
   "execution_count": null,
   "id": "f9ceed52",
   "metadata": {},
   "outputs": [],
   "source": [
    "# What do you conclude? \n",
    "# The model may not make predictions with a high score. Make a suggestion for a different modeling strategy."
   ]
  },
  {
   "cell_type": "code",
   "execution_count": null,
   "id": "2bd0f267",
   "metadata": {},
   "outputs": [],
   "source": [
    "# Run the model with three other k values (e.g., 1, 3, and 7). Which model with k value scores the highest?"
   ]
  }
 ],
 "metadata": {
  "kernelspec": {
   "display_name": "Python 3",
   "language": "python",
   "name": "python3"
  },
  "language_info": {
   "codemirror_mode": {
    "name": "ipython",
    "version": 3
   },
   "file_extension": ".py",
   "mimetype": "text/x-python",
   "name": "python",
   "nbconvert_exporter": "python",
   "pygments_lexer": "ipython3",
   "version": "3.8.8"
  }
 },
 "nbformat": 4,
 "nbformat_minor": 5
}
