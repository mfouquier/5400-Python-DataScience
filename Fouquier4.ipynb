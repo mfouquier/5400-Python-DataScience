{
 "cells": [
  {
   "cell_type": "code",
   "execution_count": 278,
   "id": "78979063",
   "metadata": {},
   "outputs": [],
   "source": [
    "import numpy as np\n",
    "import csv"
   ]
  },
  {
   "cell_type": "code",
   "execution_count": 279,
   "id": "7539bf9e",
   "metadata": {},
   "outputs": [],
   "source": [
    "# Read file Global Trends and save only the year and total values in dataset \n",
    "# Additionally save only the totals in list totals\n",
    "with open(\".\\\\Global_Trends-1.csv\", 'r') as globalData :\n",
    "    csvReader = csv.reader(globalData)\n",
    "    next(csvReader)\n",
    "    dataset = []\n",
    "    totals = []\n",
    "    for row in csvReader :\n",
    "        if row[0] != 'Year' :\n",
    "            row = [float(x) for x in row]\n",
    "        a = row[0]\n",
    "        b = row[-1]\n",
    "        dataset.append([a,b])\n",
    "        totals.append(b)"
   ]
  },
  {
   "cell_type": "code",
   "execution_count": 280,
   "id": "0532e0bd",
   "metadata": {},
   "outputs": [],
   "source": [
    "#Year over year function\n",
    "def yearOverYear(current, previous) :\n",
    "    yOy = 100 * (current - previous)/previous\n",
    "    return yOy"
   ]
  },
  {
   "cell_type": "code",
   "execution_count": 281,
   "id": "29f5ac03",
   "metadata": {},
   "outputs": [],
   "source": [
    "yearOver = []"
   ]
  },
  {
   "cell_type": "code",
   "execution_count": 282,
   "id": "c0f0d1bc",
   "metadata": {},
   "outputs": [],
   "source": [
    "#Loop to calculate the year over year for all years and save in List yearOver\n",
    "#iterator variable\n",
    "i = 0\n",
    "\n",
    "for value in list(totals) :\n",
    "    #set a to the first value and increment after the first pass\n",
    "    a = totals[i]\n",
    "    #check if first value and if so set year over year to 0\n",
    "    if(value == a) :\n",
    "        yOy = 0\n",
    "        yearOver.append(yOy)\n",
    "    else :\n",
    "        yOy = yearOverYear(value, a)\n",
    "        yearOver.append(yOy)\n",
    "        i = i + 1\n",
    "        \n",
    "        "
   ]
  },
  {
   "cell_type": "code",
   "execution_count": 283,
   "id": "f160665f",
   "metadata": {},
   "outputs": [],
   "source": [
    "#Add all the year over year calculations to the Dataset list\n",
    "i = 0\n",
    "for row in list(dataset) : \n",
    "    row.append(yearOver[i])\n",
    "    i = i + 1\n",
    "    "
   ]
  },
  {
   "cell_type": "code",
   "execution_count": 284,
   "id": "91fafd66",
   "metadata": {},
   "outputs": [],
   "source": [
    "dataset.insert(0, ['Year', 'Total', 'Year_Over_Year'])"
   ]
  },
  {
   "cell_type": "code",
   "execution_count": 285,
   "id": "9c815bcb",
   "metadata": {},
   "outputs": [],
   "source": [
    "with open(\".\\\\YearOverYear.txt\", 'w') as outputFile :\n",
    "    listWriter = csv.writer(outputFile, delimiter='\\t')\n",
    "    for row in dataset :\n",
    "        listWriter.writerow(row)"
   ]
  },
  {
   "cell_type": "code",
   "execution_count": 291,
   "id": "7d865d1c",
   "metadata": {},
   "outputs": [],
   "source": [
    "#Function to find the year with the greatest YoY change\n",
    "def findMaxChange() :\n",
    "    i = 0\n",
    "    max = yearOver[0]\n",
    "    for value in list(yearOver) :\n",
    "        if(value > max) :\n",
    "            max = value\n",
    "            i = i + 1\n",
    "    return max\n",
    "    "
   ]
  },
  {
   "cell_type": "code",
   "execution_count": 292,
   "id": "7c658550",
   "metadata": {},
   "outputs": [
    {
     "name": "stdout",
     "output_type": "stream",
     "text": [
      "5.5099551466473855\n"
     ]
    }
   ],
   "source": [
    "#Print the highest percentage of change\n",
    "print(findMaxChange())"
   ]
  },
  {
   "cell_type": "code",
   "execution_count": 293,
   "id": "37423b0e",
   "metadata": {},
   "outputs": [
    {
     "name": "stdout",
     "output_type": "stream",
     "text": [
      "[1970.0, 1.004718665, 5.5099551466473855]\n"
     ]
    }
   ],
   "source": [
    "#Prints the row with the greatest change giving the Year, Total, and YoY \n",
    "for row in dataset :\n",
    "    if(row[-1] == findMaxChange()) :\n",
    "        print(row)"
   ]
  }
 ],
 "metadata": {
  "kernelspec": {
   "display_name": "Python 3",
   "language": "python",
   "name": "python3"
  },
  "language_info": {
   "codemirror_mode": {
    "name": "ipython",
    "version": 3
   },
   "file_extension": ".py",
   "mimetype": "text/x-python",
   "name": "python",
   "nbconvert_exporter": "python",
   "pygments_lexer": "ipython3",
   "version": "3.8.8"
  }
 },
 "nbformat": 4,
 "nbformat_minor": 5
}
