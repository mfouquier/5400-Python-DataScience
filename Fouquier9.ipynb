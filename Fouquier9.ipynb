{
 "cells": [
  {
   "cell_type": "code",
   "execution_count": null,
   "id": "15c11817",
   "metadata": {},
   "outputs": [],
   "source": [
    "# Assignment 9 – Data Analysis of House Prices\n",
    "\n",
    "# Objectives:\n",
    "\n",
    "# Analyze the house price dataset\n",
    "# Dataset contains data pertaining to house features and pricing\n",
    "# Some of the visualization requires seaborn so “import seaborn as sns”\n",
    "# Use the csv file, house price dataset.csv\n",
    "# Instructions:\n",
    "# Use Python to complete the following:\n",
    "# Read in the file, “house price dataset.csv”, and create a dataframe\n"
   ]
  },
  {
   "cell_type": "code",
   "execution_count": null,
   "id": "1256887a",
   "metadata": {},
   "outputs": [],
   "source": [
    "# Display a sample of data hint: use head()"
   ]
  },
  {
   "cell_type": "code",
   "execution_count": null,
   "id": "2eaeee32",
   "metadata": {},
   "outputs": [],
   "source": [
    "# What are the columns?"
   ]
  },
  {
   "cell_type": "code",
   "execution_count": null,
   "id": "8fa4343b",
   "metadata": {},
   "outputs": [],
   "source": [
    "# How many samples or observations?"
   ]
  },
  {
   "cell_type": "code",
   "execution_count": null,
   "id": "9d6e93d7",
   "metadata": {},
   "outputs": [],
   "source": [
    "# What are the data types?"
   ]
  },
  {
   "cell_type": "code",
   "execution_count": null,
   "id": "9f10d6fa",
   "metadata": {},
   "outputs": [],
   "source": [
    "# Do any of the datatypes seem incorrect? If so, convert to correct data type. Hint: coerce"
   ]
  },
  {
   "cell_type": "code",
   "execution_count": null,
   "id": "581a4464",
   "metadata": {},
   "outputs": [],
   "source": [
    "# Is data missing? If so, how will you correct the data?"
   ]
  },
  {
   "cell_type": "code",
   "execution_count": null,
   "id": "64649db8",
   "metadata": {},
   "outputs": [],
   "source": [
    "# Create box plots for each feature."
   ]
  },
  {
   "cell_type": "code",
   "execution_count": null,
   "id": "30140d4f",
   "metadata": {},
   "outputs": [],
   "source": [
    "# Create estimate of the distribution using the kernel density estimate for each feature - hint: use sns.kdeplot"
   ]
  },
  {
   "cell_type": "code",
   "execution_count": null,
   "id": "31a81f30",
   "metadata": {},
   "outputs": [],
   "source": [
    "# Make comments on your findings regarding outliers and distributions."
   ]
  },
  {
   "cell_type": "code",
   "execution_count": null,
   "id": "06a0c4b7",
   "metadata": {},
   "outputs": [],
   "source": [
    "# Examine the pair plots for finding possible correlations between features and price."
   ]
  },
  {
   "cell_type": "code",
   "execution_count": null,
   "id": "33e6ba2a",
   "metadata": {},
   "outputs": [],
   "source": [
    "# Find 2 features that seem to be correlated with price and calculate the correlation to confirm. \n",
    "#Make comments on your findings. Hint: use corr method."
   ]
  }
 ],
 "metadata": {
  "kernelspec": {
   "display_name": "Python 3",
   "language": "python",
   "name": "python3"
  },
  "language_info": {
   "codemirror_mode": {
    "name": "ipython",
    "version": 3
   },
   "file_extension": ".py",
   "mimetype": "text/x-python",
   "name": "python",
   "nbconvert_exporter": "python",
   "pygments_lexer": "ipython3",
   "version": "3.8.8"
  }
 },
 "nbformat": 4,
 "nbformat_minor": 5
}
