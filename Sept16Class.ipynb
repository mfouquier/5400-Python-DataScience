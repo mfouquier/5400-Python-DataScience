{
 "cells": [
  {
   "cell_type": "code",
   "execution_count": null,
   "id": "cd951ac8",
   "metadata": {},
   "outputs": [],
   "source": [
    "# dataset = []\n",
    "\n",
    "# inputFile6 = open('.\\\\Desktop\\\\Florida Tech\\\\Python\\\\Sample210916.csv')\n",
    "\n",
    "# for row in inputFile6 :\n",
    "    "
   ]
  },
  {
   "cell_type": "code",
   "execution_count": 9,
   "id": "4f755ae3",
   "metadata": {},
   "outputs": [],
   "source": [
    "import csv\n",
    "with open('c:\\\\users\\\\mfouq\\\\Desktop\\\\Florida Tech\\\\Python\\\\Sample210916.csv', 'r') as inputFile7 :\n",
    "    csvReader = csv.reader(inputFile7)\n",
    "    next(csvReader)\n",
    "    dataset = []\n",
    "    for row in csvReader :\n",
    "        #casts data to a float\n",
    "        row = [float(x) for x in row]\n",
    "        dataset.append(row)"
   ]
  },
  {
   "cell_type": "code",
   "execution_count": 10,
   "id": "a8b96757",
   "metadata": {
    "scrolled": true
   },
   "outputs": [
    {
     "data": {
      "text/plain": [
       "[[0.0, 0.0, 0.0, 0.0, 1.0, 0.073527031, 1.055074735],\n",
       " [1.0, 30.0, 0.523598776, 0.5, 0.866025404, 0.507838782, 0.882984485],\n",
       " [2.0, 60.0, 1.047197551, 0.866025404, 0.5, 0.894272373, 0.539692423],\n",
       " [3.0, 90.0, 1.570796327, 1.0, 6.12574e-17, 1.09107224, 0.021881489],\n",
       " [4.0, 120.0, 2.094395102, 0.866025404, -0.5, 0.96341565, -0.417546953],\n",
       " [5.0, 150.0, 2.617993878, 0.5, -0.866025404, 0.513761303, -0.797967449],\n",
       " [6.0, 180.0, 3.141592654, 1.22515e-16, -1.0, 0.083882328, -0.98548816],\n",
       " [7.0, 210.0, 3.665191429, -0.5, -0.866025404, -0.497426998, -0.810710334],\n",
       " [8.0, 240.0, 4.188790205, -0.866025404, -0.5, -0.809080363, -0.405999366],\n",
       " [9.0, 270.0, 4.71238898, -1.0, -1.83772e-16, -0.906891887, 0.010138536],\n",
       " [10.0, 300.0, 5.235987756, -0.866025404, 0.5, -0.773332379, 0.54559935],\n",
       " [11.0, 330.0, 5.759586532, -0.5, 0.866025404, -0.446607593, 0.919200078],\n",
       " [12.0, 360.0, 6.283185307, -2.4503e-16, 1.0, 0.059472315, 1.001977138]]"
      ]
     },
     "execution_count": 10,
     "metadata": {},
     "output_type": "execute_result"
    }
   ],
   "source": [
    "dataset"
   ]
  },
  {
   "cell_type": "code",
   "execution_count": 12,
   "id": "0fd409e6",
   "metadata": {},
   "outputs": [
    {
     "data": {
      "text/plain": [
       "-0.34329206200000006"
      ]
     },
     "execution_count": 12,
     "metadata": {},
     "output_type": "execute_result"
    }
   ],
   "source": [
    "i = 2\n",
    "dataset[i][6] - dataset[i-1][6]"
   ]
  },
  {
   "cell_type": "code",
   "execution_count": 13,
   "id": "224f45e8",
   "metadata": {},
   "outputs": [],
   "source": [
    "#Writing a file\n",
    "import csv\n",
    "with open('c:\\\\users\\\\mfouq\\\\Desktop\\\\Florida Tech\\\\Python\\\\datasetClass.csv', 'w', newline='\\n') as outputFile1 :\n",
    "    listWriter = csv.writer(outputFile1, delimiter=',')\n",
    "    for row in dataset :\n",
    "        listWriter.writerow(row)\n",
    "        "
   ]
  },
  {
   "cell_type": "code",
   "execution_count": 30,
   "id": "ff7fdab7",
   "metadata": {},
   "outputs": [],
   "source": [
    "import csv\n",
    "with open('c:\\\\users\\\\mfouq\\\\Desktop\\\\Florida Tech\\\\Python\\\\Global_Trends-1.csv', 'r') as hmwkData :\n",
    "    csvReader = csv.reader(hmwkData)\n",
    "    next(csvReader)\n",
    "    hmwkDataset = []\n",
    "    for row in csvReader :\n",
    "        [hmwkDataset.append(row[0]), hmwkDataset.append(row[-1])]"
   ]
  },
  {
   "cell_type": "code",
   "execution_count": 31,
   "id": "09cdaf92",
   "metadata": {
    "scrolled": false
   },
   "outputs": [
    {
     "data": {
      "text/plain": [
       "['1961',\n",
       " '0.730353096',\n",
       " '1962',\n",
       " '0.74966053',\n",
       " '1963',\n",
       " '0.779376772',\n",
       " '1964',\n",
       " '0.807760435',\n",
       " '1965',\n",
       " '0.835587995',\n",
       " '1966',\n",
       " '0.862977419',\n",
       " '1967',\n",
       " '0.882514626',\n",
       " '1968',\n",
       " '0.913465004',\n",
       " '1969',\n",
       " '0.952250111',\n",
       " '1970',\n",
       " '1.004718665',\n",
       " '1971',\n",
       " '1.031077062',\n",
       " '1972',\n",
       " '1.063346182',\n",
       " '1973',\n",
       " '1.108474598',\n",
       " '1974',\n",
       " '1.103229535',\n",
       " '1975',\n",
       " '1.094765195',\n",
       " '1976',\n",
       " '1.140175644',\n",
       " '1977',\n",
       " '1.161759187',\n",
       " '1978',\n",
       " '1.176646346',\n",
       " '1979',\n",
       " '1.210336497',\n",
       " '1980',\n",
       " '1.187677817',\n",
       " '1981',\n",
       " '1.161137268',\n",
       " '1982',\n",
       " '1.145598408',\n",
       " '1983',\n",
       " '1.148379806',\n",
       " '1984',\n",
       " '1.176556388',\n",
       " '1985',\n",
       " '1.187730295',\n",
       " '1986',\n",
       " '1.20676859',\n",
       " '1987',\n",
       " '1.236179638',\n",
       " '1988',\n",
       " '1.271756266',\n",
       " '1989',\n",
       " '1.287914199',\n",
       " '1990',\n",
       " '1.290685385',\n",
       " '1991',\n",
       " '1.295408268',\n",
       " '1992',\n",
       " '1.285153254',\n",
       " '1993',\n",
       " '1.2866749',\n",
       " '1994',\n",
       " '1.29540036',\n",
       " '1995',\n",
       " '1.324253696',\n",
       " '1996',\n",
       " '1.335966819',\n",
       " '1997',\n",
       " '1.350979504',\n",
       " '1998',\n",
       " '1.348991702',\n",
       " '1999',\n",
       " '1.34950701',\n",
       " '2000',\n",
       " '1.379418921',\n",
       " '2001',\n",
       " '1.385897165',\n",
       " '2002',\n",
       " '1.402068625',\n",
       " '2003',\n",
       " '1.457267629',\n",
       " '2004',\n",
       " '1.509007754',\n",
       " '2005',\n",
       " '1.552291397',\n",
       " '2006',\n",
       " '1.587748701',\n",
       " '2007',\n",
       " '1.627924812',\n",
       " '2008',\n",
       " '1.624709229',\n",
       " '2009',\n",
       " '1.601790154',\n",
       " '2010',\n",
       " '1.678611078',\n",
       " '2011',\n",
       " '1.703510209',\n",
       " '2012',\n",
       " '1.705789582',\n",
       " '2013',\n",
       " '1.717150075',\n",
       " '2014',\n",
       " '1.71296176',\n",
       " '2015',\n",
       " '1.703709614',\n",
       " '2016',\n",
       " '1.698557697',\n",
       " '2017',\n",
       " '1.734181611']"
      ]
     },
     "execution_count": 31,
     "metadata": {},
     "output_type": "execute_result"
    }
   ],
   "source": [
    "hmwkDataset"
   ]
  },
  {
   "cell_type": "code",
   "execution_count": 32,
   "id": "d55ce15a",
   "metadata": {},
   "outputs": [],
   "source": [
    "#NUMPY\n",
    "\n",
    "import numpy as np\n",
    "\n"
   ]
  },
  {
   "cell_type": "code",
   "execution_count": 35,
   "id": "808c79a6",
   "metadata": {
    "scrolled": true
   },
   "outputs": [],
   "source": [
    "A = np.zeros(10, dtype=int)"
   ]
  },
  {
   "cell_type": "code",
   "execution_count": 36,
   "id": "26dea998",
   "metadata": {},
   "outputs": [
    {
     "data": {
      "text/plain": [
       "array([0, 0, 0, 0, 0, 0, 0, 0, 0, 0])"
      ]
     },
     "execution_count": 36,
     "metadata": {},
     "output_type": "execute_result"
    }
   ],
   "source": [
    "A"
   ]
  },
  {
   "cell_type": "code",
   "execution_count": 37,
   "id": "9abaf892",
   "metadata": {},
   "outputs": [
    {
     "data": {
      "text/plain": [
       "10"
      ]
     },
     "execution_count": 37,
     "metadata": {},
     "output_type": "execute_result"
    }
   ],
   "source": [
    "len(A)"
   ]
  },
  {
   "cell_type": "code",
   "execution_count": 38,
   "id": "c71bd451",
   "metadata": {},
   "outputs": [
    {
     "data": {
      "text/plain": [
       "numpy.ndarray"
      ]
     },
     "execution_count": 38,
     "metadata": {},
     "output_type": "execute_result"
    }
   ],
   "source": [
    "type(A)"
   ]
  },
  {
   "cell_type": "code",
   "execution_count": 41,
   "id": "5e88763d",
   "metadata": {},
   "outputs": [],
   "source": [
    "B = np.ones((3,5), dtype=float)"
   ]
  },
  {
   "cell_type": "code",
   "execution_count": 42,
   "id": "90fe497d",
   "metadata": {},
   "outputs": [
    {
     "data": {
      "text/plain": [
       "array([[1., 1., 1., 1., 1.],\n",
       "       [1., 1., 1., 1., 1.],\n",
       "       [1., 1., 1., 1., 1.]])"
      ]
     },
     "execution_count": 42,
     "metadata": {},
     "output_type": "execute_result"
    }
   ],
   "source": [
    "B"
   ]
  },
  {
   "cell_type": "code",
   "execution_count": 43,
   "id": "70253352",
   "metadata": {},
   "outputs": [],
   "source": [
    "P = np.full((4,4), 3.14)"
   ]
  },
  {
   "cell_type": "code",
   "execution_count": 44,
   "id": "95ec3518",
   "metadata": {},
   "outputs": [
    {
     "data": {
      "text/plain": [
       "array([[3.14, 3.14, 3.14, 3.14],\n",
       "       [3.14, 3.14, 3.14, 3.14],\n",
       "       [3.14, 3.14, 3.14, 3.14],\n",
       "       [3.14, 3.14, 3.14, 3.14]])"
      ]
     },
     "execution_count": 44,
     "metadata": {},
     "output_type": "execute_result"
    }
   ],
   "source": [
    "P"
   ]
  },
  {
   "cell_type": "code",
   "execution_count": 47,
   "id": "e553bd7f",
   "metadata": {},
   "outputs": [
    {
     "data": {
      "text/plain": [
       "array([ 0,  1,  2,  3,  4,  5,  6,  7,  8,  9, 10, 11, 12, 13, 14, 15, 16,\n",
       "       17, 18, 19])"
      ]
     },
     "execution_count": 47,
     "metadata": {},
     "output_type": "execute_result"
    }
   ],
   "source": [
    "np.arange(0, 20)"
   ]
  },
  {
   "cell_type": "code",
   "execution_count": 49,
   "id": "bd820cbc",
   "metadata": {},
   "outputs": [
    {
     "data": {
      "text/plain": [
       "array([0.  , 0.25, 0.5 , 0.75, 1.  ])"
      ]
     },
     "execution_count": 49,
     "metadata": {},
     "output_type": "execute_result"
    }
   ],
   "source": [
    "#linear spacing\n",
    "np.linspace(0,1,5)"
   ]
  },
  {
   "cell_type": "code",
   "execution_count": 51,
   "id": "1f04f235",
   "metadata": {},
   "outputs": [
    {
     "data": {
      "text/plain": [
       "array([[0.24746277, 0.90983251, 0.83844367, 0.23256884, 0.2460497 ],\n",
       "       [0.79613439, 0.09238574, 0.82146326, 0.46555266, 0.53559304],\n",
       "       [0.5854557 , 0.77504506, 0.02822044, 0.87047688, 0.96281709],\n",
       "       [0.14692914, 0.88042132, 0.59988514, 0.07105183, 0.2392043 ]])"
      ]
     },
     "execution_count": 51,
     "metadata": {},
     "output_type": "execute_result"
    }
   ],
   "source": [
    "np.random.random((4,5))"
   ]
  },
  {
   "cell_type": "code",
   "execution_count": 52,
   "id": "2427a73e",
   "metadata": {},
   "outputs": [
    {
     "data": {
      "text/plain": [
       "array([[ 0.82640052, -1.30383738,  0.3925125 ,  0.69096833, -0.43142465,\n",
       "        -1.18433962],\n",
       "       [ 0.55918041,  0.44543553, -1.48949038,  1.00508555, -0.56164341,\n",
       "         1.01707306],\n",
       "       [-1.17239907,  1.64601057, -0.58076794, -0.40768089,  0.83094053,\n",
       "         0.53364537]])"
      ]
     },
     "execution_count": 52,
     "metadata": {},
     "output_type": "execute_result"
    }
   ],
   "source": [
    "np.random.normal(0,1,(3,6))"
   ]
  },
  {
   "cell_type": "code",
   "execution_count": 61,
   "id": "0d9a5fc7",
   "metadata": {},
   "outputs": [
    {
     "data": {
      "text/plain": [
       "array([[5, 5, 8, 7, 4],\n",
       "       [5, 9, 6, 1, 6],\n",
       "       [2, 5, 6, 6, 0],\n",
       "       [6, 2, 7, 4, 3],\n",
       "       [3, 1, 8, 1, 5]])"
      ]
     },
     "execution_count": 61,
     "metadata": {},
     "output_type": "execute_result"
    }
   ],
   "source": [
    "np.random.randint(0,10,(5,5))"
   ]
  },
  {
   "cell_type": "code",
   "execution_count": 54,
   "id": "5eb1a348",
   "metadata": {},
   "outputs": [
    {
     "data": {
      "text/plain": [
       "array([[1., 0., 0., 0., 0., 0.],\n",
       "       [0., 1., 0., 0., 0., 0.],\n",
       "       [0., 0., 1., 0., 0., 0.],\n",
       "       [0., 0., 0., 1., 0., 0.],\n",
       "       [0., 0., 0., 0., 1., 0.],\n",
       "       [0., 0., 0., 0., 0., 1.]])"
      ]
     },
     "execution_count": 54,
     "metadata": {},
     "output_type": "execute_result"
    }
   ],
   "source": [
    "np.eye(6)"
   ]
  },
  {
   "cell_type": "code",
   "execution_count": 65,
   "id": "3f0531e1",
   "metadata": {},
   "outputs": [],
   "source": [
    "a1 = np.zeros(10, dtype='int16')"
   ]
  },
  {
   "cell_type": "code",
   "execution_count": 67,
   "id": "6758e8d5",
   "metadata": {},
   "outputs": [
    {
     "data": {
      "text/plain": [
       "numpy.int16"
      ]
     },
     "execution_count": 67,
     "metadata": {},
     "output_type": "execute_result"
    }
   ],
   "source": [
    "type(a1[1])"
   ]
  },
  {
   "cell_type": "code",
   "execution_count": 68,
   "id": "25e0b9b2",
   "metadata": {},
   "outputs": [],
   "source": [
    "a2 = np.random.normal(0,1,(3,6))"
   ]
  },
  {
   "cell_type": "code",
   "execution_count": 69,
   "id": "4f607681",
   "metadata": {},
   "outputs": [
    {
     "data": {
      "text/plain": [
       "array([[-0.10287106,  0.10281296, -0.16802469, -0.85605611,  0.05058388,\n",
       "        -0.43338776],\n",
       "       [ 0.2254107 , -0.36122872,  0.10551674,  0.08620687,  1.89263114,\n",
       "         1.33405462],\n",
       "       [ 1.05733942,  0.87577147, -0.29557621,  0.56821481,  0.69319473,\n",
       "        -0.05634403]])"
      ]
     },
     "execution_count": 69,
     "metadata": {},
     "output_type": "execute_result"
    }
   ],
   "source": [
    "a2"
   ]
  },
  {
   "cell_type": "code",
   "execution_count": 70,
   "id": "9fbb8d48",
   "metadata": {},
   "outputs": [
    {
     "data": {
      "text/plain": [
       "2"
      ]
     },
     "execution_count": 70,
     "metadata": {},
     "output_type": "execute_result"
    }
   ],
   "source": [
    "a2.ndim"
   ]
  },
  {
   "cell_type": "code",
   "execution_count": 71,
   "id": "8ebae10e",
   "metadata": {},
   "outputs": [
    {
     "data": {
      "text/plain": [
       "(3, 6)"
      ]
     },
     "execution_count": 71,
     "metadata": {},
     "output_type": "execute_result"
    }
   ],
   "source": [
    "a2.shape"
   ]
  },
  {
   "cell_type": "code",
   "execution_count": 74,
   "id": "73e2d868",
   "metadata": {},
   "outputs": [],
   "source": [
    "rand = np.random.RandomState(42)"
   ]
  },
  {
   "cell_type": "code",
   "execution_count": 77,
   "id": "77c73128",
   "metadata": {},
   "outputs": [
    {
     "name": "stdout",
     "output_type": "stream",
     "text": [
      "[51 92 14 71 60 20 82 86 74 74]\n"
     ]
    }
   ],
   "source": [
    "x = rand.randint(100, size=10)\n",
    "print(x)"
   ]
  },
  {
   "cell_type": "code",
   "execution_count": 78,
   "id": "9c377bac",
   "metadata": {},
   "outputs": [
    {
     "name": "stdout",
     "output_type": "stream",
     "text": [
      "[87 99 23  2 21 52  1 87 29 37]\n"
     ]
    }
   ],
   "source": [
    "y = rand.randint(100, size=10)\n",
    "print(y)"
   ]
  },
  {
   "cell_type": "code",
   "execution_count": 79,
   "id": "a5c8b065",
   "metadata": {},
   "outputs": [
    {
     "name": "stdout",
     "output_type": "stream",
     "text": [
      "[51 92 14 71 60 20 82 86 74 74] [87 99 23  2 21 52  1 87 29 37]\n"
     ]
    }
   ],
   "source": [
    "print(x, y)"
   ]
  }
 ],
 "metadata": {
  "kernelspec": {
   "display_name": "Python 3",
   "language": "python",
   "name": "python3"
  },
  "language_info": {
   "codemirror_mode": {
    "name": "ipython",
    "version": 3
   },
   "file_extension": ".py",
   "mimetype": "text/x-python",
   "name": "python",
   "nbconvert_exporter": "python",
   "pygments_lexer": "ipython3",
   "version": "3.8.8"
  }
 },
 "nbformat": 4,
 "nbformat_minor": 5
}
