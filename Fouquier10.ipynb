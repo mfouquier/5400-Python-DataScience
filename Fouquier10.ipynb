{
 "cells": [
  {
   "cell_type": "code",
   "execution_count": 2,
   "id": "8c1d1402",
   "metadata": {},
   "outputs": [],
   "source": [
    "import matplotlib.pyplot as plt\n",
    "import seaborn as sns\n",
    "import numpy as np\n",
    "import pandas as pd"
   ]
  },
  {
   "cell_type": "code",
   "execution_count": 3,
   "id": "5b6db64d",
   "metadata": {},
   "outputs": [],
   "source": [
    "# Read in the file, “house price dataset.csv”, and create a dataframe.\n",
    "df = pd.read_csv('house price dataset.csv',header=0)"
   ]
  },
  {
   "cell_type": "code",
   "execution_count": null,
   "id": "12b87bb2",
   "metadata": {},
   "outputs": [],
   "source": [
    "# Use the following columns as features: Ave. Area Income, Avg. Area House Age, Avg. Area Number of Rooms, and \n",
    "# Area Population. Price is the label or target for the model.\n"
   ]
  },
  {
   "cell_type": "code",
   "execution_count": null,
   "id": "fa2bf21a",
   "metadata": {},
   "outputs": [],
   "source": [
    "# Instantiate a LinearRegression model and set fit_intercept to True."
   ]
  },
  {
   "cell_type": "code",
   "execution_count": null,
   "id": "02e9304a",
   "metadata": {},
   "outputs": [],
   "source": [
    "# Fit the first 2999 (X[:3000] samples from the data set."
   ]
  },
  {
   "cell_type": "code",
   "execution_count": null,
   "id": "8f5106f2",
   "metadata": {},
   "outputs": [],
   "source": [
    "# What are model coefficients and intercept?"
   ]
  },
  {
   "cell_type": "code",
   "execution_count": null,
   "id": "dc651a8b",
   "metadata": {},
   "outputs": [],
   "source": [
    "# Using the model, predict the house price for the remaining samples (X[3000:])."
   ]
  },
  {
   "cell_type": "code",
   "execution_count": null,
   "id": "215b32ed",
   "metadata": {},
   "outputs": [],
   "source": [
    "# Create a scatter plot of the predicted house price and the actual house price using the first 2999 samples."
   ]
  },
  {
   "cell_type": "code",
   "execution_count": null,
   "id": "12b9b97c",
   "metadata": {},
   "outputs": [],
   "source": [
    "# What would you conclude from viewing the plot?"
   ]
  },
  {
   "cell_type": "code",
   "execution_count": null,
   "id": "82f7ccd3",
   "metadata": {},
   "outputs": [],
   "source": [
    "# Create a scatter plot of the ‘Ave Area Income’ and the predicted Price."
   ]
  },
  {
   "cell_type": "code",
   "execution_count": null,
   "id": "eacb7eb3",
   "metadata": {},
   "outputs": [],
   "source": [
    "# Create a scatter plot of the ‘Ave Area House Age’ and the predicted Price."
   ]
  },
  {
   "cell_type": "code",
   "execution_count": null,
   "id": "aed248ab",
   "metadata": {},
   "outputs": [],
   "source": [
    "# Compute the coefficient of determination of the prediction. Hint: use model.score with the first 2999 samples."
   ]
  }
 ],
 "metadata": {
  "kernelspec": {
   "display_name": "Python 3",
   "language": "python",
   "name": "python3"
  },
  "language_info": {
   "codemirror_mode": {
    "name": "ipython",
    "version": 3
   },
   "file_extension": ".py",
   "mimetype": "text/x-python",
   "name": "python",
   "nbconvert_exporter": "python",
   "pygments_lexer": "ipython3",
   "version": "3.8.8"
  }
 },
 "nbformat": 4,
 "nbformat_minor": 5
}
