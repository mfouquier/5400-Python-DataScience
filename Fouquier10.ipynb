{
 "cells": [
  {
   "cell_type": "code",
   "execution_count": 4,
   "id": "e55026ab",
   "metadata": {},
   "outputs": [],
   "source": [
    "import matplotlib.pyplot as plt\n",
    "import seaborn as sns\n",
    "import numpy as np\n",
    "import pandas as pd\n",
    "from sklearn.linear_model import LinearRegression"
   ]
  },
  {
   "cell_type": "code",
   "execution_count": 5,
   "id": "21a3564a",
   "metadata": {},
   "outputs": [],
   "source": [
    "# Read in the file, “house price dataset.csv”, and create a dataframe.\n",
    "df = pd.read_csv('house price dataset.csv',header=0)"
   ]
  },
  {
   "cell_type": "code",
   "execution_count": null,
   "id": "d5e10c22",
   "metadata": {},
   "outputs": [],
   "source": [
    "# Use the following columns as features: Ave. Area Income, Avg. Area House Age, Avg. Area Number of Rooms, and \n",
    "# Area Population. Price is the label or target for the model.\n"
   ]
  },
  {
   "cell_type": "code",
   "execution_count": null,
   "id": "cb5225cd",
   "metadata": {},
   "outputs": [],
   "source": [
    "# Instantiate a LinearRegression model and set fit_intercept to True."
   ]
  },
  {
   "cell_type": "code",
   "execution_count": null,
   "id": "8e4cbdec",
   "metadata": {},
   "outputs": [],
   "source": [
    "# Fit the first 2999 (X[:3000] samples from the data set."
   ]
  },
  {
   "cell_type": "code",
   "execution_count": null,
   "id": "a7a97897",
   "metadata": {},
   "outputs": [],
   "source": [
    "# What are model coefficients and intercept?"
   ]
  },
  {
   "cell_type": "code",
   "execution_count": null,
   "id": "15e2db18",
   "metadata": {},
   "outputs": [],
   "source": [
    "# Using the model, predict the house price for the remaining samples (X[3000:])."
   ]
  },
  {
   "cell_type": "code",
   "execution_count": null,
   "id": "9aeba8e3",
   "metadata": {},
   "outputs": [],
   "source": [
    "# Create a scatter plot of the predicted house price and the actual house price using the first 2999 samples."
   ]
  },
  {
   "cell_type": "code",
   "execution_count": null,
   "id": "28f3e542",
   "metadata": {},
   "outputs": [],
   "source": [
    "# What would you conclude from viewing the plot?"
   ]
  },
  {
   "cell_type": "code",
   "execution_count": null,
   "id": "289525c0",
   "metadata": {},
   "outputs": [],
   "source": [
    "# Create a scatter plot of the ‘Ave Area Income’ and the predicted Price."
   ]
  },
  {
   "cell_type": "code",
   "execution_count": null,
   "id": "c07d9ba2",
   "metadata": {},
   "outputs": [],
   "source": [
    "# Create a scatter plot of the ‘Ave Area House Age’ and the predicted Price."
   ]
  },
  {
   "cell_type": "code",
   "execution_count": null,
   "id": "d2c1a42e",
   "metadata": {},
   "outputs": [],
   "source": [
    "# Compute the coefficient of determination of the prediction. Hint: use model.score with the first 2999 samples."
   ]
  }
 ],
 "metadata": {
  "kernelspec": {
   "display_name": "Python 3",
   "language": "python",
   "name": "python3"
  },
  "language_info": {
   "codemirror_mode": {
    "name": "ipython",
    "version": 3
   },
   "file_extension": ".py",
   "mimetype": "text/x-python",
   "name": "python",
   "nbconvert_exporter": "python",
   "pygments_lexer": "ipython3",
   "version": "3.8.8"
  }
 },
 "nbformat": 4,
 "nbformat_minor": 5
}
