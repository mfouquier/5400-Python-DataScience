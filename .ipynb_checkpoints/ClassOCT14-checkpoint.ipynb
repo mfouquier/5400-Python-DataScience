{
 "cells": [
  {
   "cell_type": "code",
   "execution_count": 1,
   "id": "a8cd6495",
   "metadata": {},
   "outputs": [],
   "source": [
    "import pandas as pd\n",
    "import numpy as np\n",
    "import matplotlib.pyplot as plt"
   ]
  },
  {
   "cell_type": "code",
   "execution_count": 4,
   "id": "0e7c70f2",
   "metadata": {},
   "outputs": [
    {
     "data": {
      "text/html": [
       "<div>\n",
       "<style scoped>\n",
       "    .dataframe tbody tr th:only-of-type {\n",
       "        vertical-align: middle;\n",
       "    }\n",
       "\n",
       "    .dataframe tbody tr th {\n",
       "        vertical-align: top;\n",
       "    }\n",
       "\n",
       "    .dataframe thead th {\n",
       "        text-align: right;\n",
       "    }\n",
       "</style>\n",
       "<table border=\"1\" class=\"dataframe\">\n",
       "  <thead>\n",
       "    <tr style=\"text-align: right;\">\n",
       "      <th></th>\n",
       "      <th>Make</th>\n",
       "      <th>Model</th>\n",
       "      <th>Year</th>\n",
       "      <th>Price</th>\n",
       "      <th>Mileage</th>\n",
       "    </tr>\n",
       "  </thead>\n",
       "  <tbody>\n",
       "    <tr>\n",
       "      <th>0</th>\n",
       "      <td>Nissan</td>\n",
       "      <td>Murano</td>\n",
       "      <td>2018</td>\n",
       "      <td>28177</td>\n",
       "      <td>63971</td>\n",
       "    </tr>\n",
       "    <tr>\n",
       "      <th>1</th>\n",
       "      <td>Nissan</td>\n",
       "      <td>Maxima</td>\n",
       "      <td>2021</td>\n",
       "      <td>40981</td>\n",
       "      <td>2148</td>\n",
       "    </tr>\n",
       "    <tr>\n",
       "      <th>2</th>\n",
       "      <td>Nissan</td>\n",
       "      <td>Pathfinder</td>\n",
       "      <td>2018</td>\n",
       "      <td>30155</td>\n",
       "      <td>43551</td>\n",
       "    </tr>\n",
       "    <tr>\n",
       "      <th>3</th>\n",
       "      <td>Nissan</td>\n",
       "      <td>Murano</td>\n",
       "      <td>2019</td>\n",
       "      <td>28999</td>\n",
       "      <td>7623</td>\n",
       "    </tr>\n",
       "    <tr>\n",
       "      <th>4</th>\n",
       "      <td>Nissan</td>\n",
       "      <td>Murano</td>\n",
       "      <td>2017</td>\n",
       "      <td>26999</td>\n",
       "      <td>41029</td>\n",
       "    </tr>\n",
       "    <tr>\n",
       "      <th>5</th>\n",
       "      <td>Nissan</td>\n",
       "      <td>Murano</td>\n",
       "      <td>2018</td>\n",
       "      <td>28177</td>\n",
       "      <td>63971</td>\n",
       "    </tr>\n",
       "    <tr>\n",
       "      <th>6</th>\n",
       "      <td>Nissan</td>\n",
       "      <td>Pathfinder</td>\n",
       "      <td>2018</td>\n",
       "      <td>23249</td>\n",
       "      <td>46115</td>\n",
       "    </tr>\n",
       "    <tr>\n",
       "      <th>7</th>\n",
       "      <td>Nissan</td>\n",
       "      <td>Pathfinder</td>\n",
       "      <td>2020</td>\n",
       "      <td>26499</td>\n",
       "      <td>48443</td>\n",
       "    </tr>\n",
       "    <tr>\n",
       "      <th>8</th>\n",
       "      <td>Nissan</td>\n",
       "      <td>Murano</td>\n",
       "      <td>2018</td>\n",
       "      <td>27499</td>\n",
       "      <td>36575</td>\n",
       "    </tr>\n",
       "    <tr>\n",
       "      <th>9</th>\n",
       "      <td>Nissan</td>\n",
       "      <td>Murano</td>\n",
       "      <td>2020</td>\n",
       "      <td>39554</td>\n",
       "      <td>4781</td>\n",
       "    </tr>\n",
       "    <tr>\n",
       "      <th>10</th>\n",
       "      <td>Nissan</td>\n",
       "      <td>Murano</td>\n",
       "      <td>2020</td>\n",
       "      <td>34500</td>\n",
       "      <td>27056</td>\n",
       "    </tr>\n",
       "    <tr>\n",
       "      <th>11</th>\n",
       "      <td>Nissan</td>\n",
       "      <td>Pathfinder</td>\n",
       "      <td>2017</td>\n",
       "      <td>22499</td>\n",
       "      <td>47331</td>\n",
       "    </tr>\n",
       "    <tr>\n",
       "      <th>12</th>\n",
       "      <td>Nissan</td>\n",
       "      <td>Pathfinder</td>\n",
       "      <td>2018</td>\n",
       "      <td>31540</td>\n",
       "      <td>33091</td>\n",
       "    </tr>\n",
       "    <tr>\n",
       "      <th>13</th>\n",
       "      <td>Nissan</td>\n",
       "      <td>Murano</td>\n",
       "      <td>2020</td>\n",
       "      <td>38999</td>\n",
       "      <td>8591</td>\n",
       "    </tr>\n",
       "    <tr>\n",
       "      <th>14</th>\n",
       "      <td>Nissan</td>\n",
       "      <td>Pathfinder</td>\n",
       "      <td>2017</td>\n",
       "      <td>24499</td>\n",
       "      <td>47331</td>\n",
       "    </tr>\n",
       "    <tr>\n",
       "      <th>15</th>\n",
       "      <td>Nissan</td>\n",
       "      <td>Maxima</td>\n",
       "      <td>2017</td>\n",
       "      <td>22499</td>\n",
       "      <td>57012</td>\n",
       "    </tr>\n",
       "    <tr>\n",
       "      <th>16</th>\n",
       "      <td>Nissan</td>\n",
       "      <td>Pathfinder</td>\n",
       "      <td>2017</td>\n",
       "      <td>29990</td>\n",
       "      <td>39821</td>\n",
       "    </tr>\n",
       "    <tr>\n",
       "      <th>17</th>\n",
       "      <td>Nissan</td>\n",
       "      <td>Murano</td>\n",
       "      <td>2018</td>\n",
       "      <td>29500</td>\n",
       "      <td>32516</td>\n",
       "    </tr>\n",
       "    <tr>\n",
       "      <th>18</th>\n",
       "      <td>Nissan</td>\n",
       "      <td>Murano</td>\n",
       "      <td>2017</td>\n",
       "      <td>28995</td>\n",
       "      <td>29968</td>\n",
       "    </tr>\n",
       "    <tr>\n",
       "      <th>19</th>\n",
       "      <td>Nissan</td>\n",
       "      <td>Murano</td>\n",
       "      <td>2019</td>\n",
       "      <td>35921</td>\n",
       "      <td>12822</td>\n",
       "    </tr>\n",
       "  </tbody>\n",
       "</table>\n",
       "</div>"
      ],
      "text/plain": [
       "      Make       Model  Year  Price  Mileage\n",
       "0   Nissan      Murano  2018  28177    63971\n",
       "1   Nissan      Maxima  2021  40981     2148\n",
       "2   Nissan  Pathfinder  2018  30155    43551\n",
       "3   Nissan      Murano  2019  28999     7623\n",
       "4   Nissan      Murano  2017  26999    41029\n",
       "5   Nissan      Murano  2018  28177    63971\n",
       "6   Nissan  Pathfinder  2018  23249    46115\n",
       "7   Nissan  Pathfinder  2020  26499    48443\n",
       "8   Nissan      Murano  2018  27499    36575\n",
       "9   Nissan      Murano  2020  39554     4781\n",
       "10  Nissan      Murano  2020  34500    27056\n",
       "11  Nissan  Pathfinder  2017  22499    47331\n",
       "12  Nissan  Pathfinder  2018  31540    33091\n",
       "13  Nissan      Murano  2020  38999     8591\n",
       "14  Nissan  Pathfinder  2017  24499    47331\n",
       "15  Nissan      Maxima  2017  22499    57012\n",
       "16  Nissan  Pathfinder  2017  29990    39821\n",
       "17  Nissan      Murano  2018  29500    32516\n",
       "18  Nissan      Murano  2017  28995    29968\n",
       "19  Nissan      Murano  2019  35921    12822"
      ]
     },
     "execution_count": 4,
     "metadata": {},
     "output_type": "execute_result"
    }
   ],
   "source": [
    "df = pd.read_csv('Used Car Dataset.csv', header=0)\n",
    "df"
   ]
  },
  {
   "cell_type": "code",
   "execution_count": 5,
   "id": "8f321e20",
   "metadata": {},
   "outputs": [
    {
     "data": {
      "text/plain": [
       "20"
      ]
     },
     "execution_count": 5,
     "metadata": {},
     "output_type": "execute_result"
    }
   ],
   "source": [
    "#perform descriptive statistics to understand the data - should be the first thing for any project\n",
    "#number of data points, min, max, median, outliers - (boxplot)\n",
    "len(df)"
   ]
  },
  {
   "cell_type": "code",
   "execution_count": 10,
   "id": "59aad0e9",
   "metadata": {},
   "outputs": [
    {
     "data": {
      "text/plain": [
       "22499"
      ]
     },
     "execution_count": 10,
     "metadata": {},
     "output_type": "execute_result"
    }
   ],
   "source": [
    "my_min = df['Price'].loc[df['Price'].idxmin()]\n",
    "my_min"
   ]
  },
  {
   "cell_type": "code",
   "execution_count": 12,
   "id": "9e8a4e49",
   "metadata": {},
   "outputs": [
    {
     "data": {
      "text/plain": [
       "40981"
      ]
     },
     "execution_count": 12,
     "metadata": {},
     "output_type": "execute_result"
    }
   ],
   "source": [
    "my_max = df['Price'].loc[df['Price'].idxmax()]\n",
    "my_max"
   ]
  },
  {
   "cell_type": "code",
   "execution_count": 14,
   "id": "94a4eba2",
   "metadata": {},
   "outputs": [],
   "source": [
    "#convert Strings to Integers\n",
    "df['Price'] = pd.to_numeric(df['Price'])\n",
    "df['Mileage'] = pd.to_numeric(df['Mileage'])"
   ]
  },
  {
   "cell_type": "code",
   "execution_count": 20,
   "id": "6a59c010",
   "metadata": {},
   "outputs": [],
   "source": [
    "df1 = pd.DataFrame({\"Date\" : ['2021-10-09', '2021-10-08', '2021-08-07']})"
   ]
  },
  {
   "cell_type": "code",
   "execution_count": 22,
   "id": "45ea205d",
   "metadata": {},
   "outputs": [
    {
     "data": {
      "text/plain": [
       "0   2021-10-09\n",
       "1   2021-10-08\n",
       "2   2021-08-07\n",
       "Name: Date, dtype: datetime64[ns]"
      ]
     },
     "execution_count": 22,
     "metadata": {},
     "output_type": "execute_result"
    }
   ],
   "source": [
    "#convert date time object\n",
    "df1['Date'] = pd.to_datetime(df1['Date'], format='%Y-%m-%d')\n",
    "df1['Date']"
   ]
  },
  {
   "cell_type": "code",
   "execution_count": 24,
   "id": "62abbf38",
   "metadata": {},
   "outputs": [
    {
     "data": {
      "text/html": [
       "<div>\n",
       "<style scoped>\n",
       "    .dataframe tbody tr th:only-of-type {\n",
       "        vertical-align: middle;\n",
       "    }\n",
       "\n",
       "    .dataframe tbody tr th {\n",
       "        vertical-align: top;\n",
       "    }\n",
       "\n",
       "    .dataframe thead th {\n",
       "        text-align: right;\n",
       "    }\n",
       "</style>\n",
       "<table border=\"1\" class=\"dataframe\">\n",
       "  <thead>\n",
       "    <tr style=\"text-align: right;\">\n",
       "      <th></th>\n",
       "      <th>Date</th>\n",
       "    </tr>\n",
       "  </thead>\n",
       "  <tbody>\n",
       "    <tr>\n",
       "      <th>0</th>\n",
       "      <td>2021-10-09</td>\n",
       "    </tr>\n",
       "    <tr>\n",
       "      <th>1</th>\n",
       "      <td>2021-09-08</td>\n",
       "    </tr>\n",
       "    <tr>\n",
       "      <th>2</th>\n",
       "      <td>2021-08-07</td>\n",
       "    </tr>\n",
       "  </tbody>\n",
       "</table>\n",
       "</div>"
      ],
      "text/plain": [
       "        Date\n",
       "0 2021-10-09\n",
       "1 2021-09-08\n",
       "2 2021-08-07"
      ]
     },
     "execution_count": 24,
     "metadata": {},
     "output_type": "execute_result"
    }
   ],
   "source": [
    "df2 = pd.DataFrame({\"Date\" : ['10-09-2021', '9-8-2021', '8-7-2021']})\n",
    "df2['Date'] = pd.to_datetime(df2['Date'], format='%m-%d-%Y')\n",
    "df2"
   ]
  },
  {
   "cell_type": "code",
   "execution_count": 26,
   "id": "7f3bc1b7",
   "metadata": {},
   "outputs": [],
   "source": [
    "df['Year_Dt'] = pd.to_datetime(df['Year'], format='%Y')"
   ]
  },
  {
   "cell_type": "code",
   "execution_count": 27,
   "id": "bd7d5c49",
   "metadata": {},
   "outputs": [
    {
     "data": {
      "text/plain": [
       "Make                    Nissan\n",
       "Model               Pathfinder\n",
       "Year                      2021\n",
       "Price                    40981\n",
       "Mileage                  63971\n",
       "Year_Dt    2021-01-01 00:00:00\n",
       "dtype: object"
      ]
     },
     "execution_count": 27,
     "metadata": {},
     "output_type": "execute_result"
    }
   ],
   "source": [
    "df.max()"
   ]
  },
  {
   "cell_type": "code",
   "execution_count": 29,
   "id": "9fab3c90",
   "metadata": {},
   "outputs": [
    {
     "data": {
      "text/plain": [
       "Year           4\n",
       "Price      18482\n",
       "Mileage    61823\n",
       "dtype: int64"
      ]
     },
     "execution_count": 29,
     "metadata": {},
     "output_type": "execute_result"
    }
   ],
   "source": [
    "df.loc[:, ['Year', 'Price', 'Mileage']].max() - df.loc[:,['Year', 'Price', 'Mileage']].min()"
   ]
  },
  {
   "cell_type": "code",
   "execution_count": 30,
   "id": "673d222f",
   "metadata": {},
   "outputs": [
    {
     "data": {
      "text/plain": [
       "Murano        11\n",
       "Pathfinder     7\n",
       "Maxima         2\n",
       "Name: Model, dtype: int64"
      ]
     },
     "execution_count": 30,
     "metadata": {},
     "output_type": "execute_result"
    }
   ],
   "source": [
    "model_counts = df['Model'].value_counts()\n",
    "model_counts"
   ]
  },
  {
   "cell_type": "code",
   "execution_count": 32,
   "id": "549be66b",
   "metadata": {},
   "outputs": [
    {
     "data": {
      "text/plain": [
       "Text(0.5, 1.0, 'Model')"
      ]
     },
     "execution_count": 32,
     "metadata": {},
     "output_type": "execute_result"
    },
    {
     "data": {
      "image/png": "[encoded data removed]",
      "text/plain": [
       "<Figure size 432x288 with 1 Axes>"
      ]
     },
     "metadata": {
      "needs_background": "light"
     },
     "output_type": "display_data"
    }
   ],
   "source": [
    "fig = plt.figure()\n",
    "ax = plt.axes()\n",
    "ax.hist(df['Model'])\n",
    "ax.set_title('Model')"
   ]
  },
  {
   "cell_type": "code",
   "execution_count": 33,
   "id": "349d3313",
   "metadata": {},
   "outputs": [],
   "source": [
    "plt.close()"
   ]
  },
  {
   "cell_type": "code",
   "execution_count": 34,
   "id": "8b74c010",
   "metadata": {},
   "outputs": [
    {
     "data": {
      "text/plain": [
       "Text(0.5, 1.0, 'Make')"
      ]
     },
     "execution_count": 34,
     "metadata": {},
     "output_type": "execute_result"
    },
    {
     "data": {
      "image/png": "[encoded data removed]",
      "text/plain": [
       "<Figure size 432x288 with 1 Axes>"
      ]
     },
     "metadata": {
      "needs_background": "light"
     },
     "output_type": "display_data"
    }
   ],
   "source": [
    "fig = plt.figure()\n",
    "ax = plt.axes()\n",
    "ax.hist(df['Make'])\n",
    "ax.set_title('Make')"
   ]
  },
  {
   "cell_type": "code",
   "execution_count": 36,
   "id": "1728d8dc",
   "metadata": {},
   "outputs": [
    {
     "data": {
      "text/plain": [
       "Text(0.5, 1.0, 'Price ($)')"
      ]
     },
     "execution_count": 36,
     "metadata": {},
     "output_type": "execute_result"
    },
    {
     "data": {
      "image/png": "[encoded data removed]",
      "text/plain": [
       "<Figure size 432x288 with 1 Axes>"
      ]
     },
     "metadata": {
      "needs_background": "light"
     },
     "output_type": "display_data"
    }
   ],
   "source": [
    "fig = plt.figure()\n",
    "ax = plt.axes()\n",
    "ax.hist(df['Price'])\n",
    "ax.set_title('Price ($)')"
   ]
  },
  {
   "cell_type": "code",
   "execution_count": 37,
   "id": "e6d34bd0",
   "metadata": {},
   "outputs": [
    {
     "data": {
      "text/plain": [
       "Text(0.5, 1.0, 'Year')"
      ]
     },
     "execution_count": 37,
     "metadata": {},
     "output_type": "execute_result"
    },
    {
     "data": {
      "image/png": "[encoded data removed]",
      "text/plain": [
       "<Figure size 432x288 with 1 Axes>"
      ]
     },
     "metadata": {
      "needs_background": "light"
     },
     "output_type": "display_data"
    }
   ],
   "source": [
    "fig = plt.figure()\n",
    "ax = plt.axes()\n",
    "ax.hist(df['Year'])\n",
    "ax.set_title('Year')"
   ]
  },
  {
   "cell_type": "code",
   "execution_count": 38,
   "id": "088011fc",
   "metadata": {},
   "outputs": [],
   "source": [
    "plt.close()"
   ]
  },
  {
   "cell_type": "code",
   "execution_count": 39,
   "id": "279d4870",
   "metadata": {},
   "outputs": [
    {
     "data": {
      "text/plain": [
       "Text(0.5, 1.0, 'Price Dispersion')"
      ]
     },
     "execution_count": 39,
     "metadata": {},
     "output_type": "execute_result"
    },
    {
     "data": {
      "image/png": "[encoded data removed]",
      "text/plain": [
       "<Figure size 432x288 with 1 Axes>"
      ]
     },
     "metadata": {
      "needs_background": "light"
     },
     "output_type": "display_data"
    }
   ],
   "source": [
    "fig = plt.figure()\n",
    "ax = plt.axes()\n",
    "ax.boxplot(df['Price'])\n",
    "ax.set_title('Price Dispersion')"
   ]
  },
  {
   "cell_type": "code",
   "execution_count": 40,
   "id": "85334258",
   "metadata": {},
   "outputs": [
    {
     "data": {
      "text/plain": [
       "Text(0.5, 1.0, 'Mileage Dispersion')"
      ]
     },
     "execution_count": 40,
     "metadata": {},
     "output_type": "execute_result"
    },
    {
     "data": {
      "image/png": "[encoded data removed]",
      "text/plain": [
       "<Figure size 432x288 with 1 Axes>"
      ]
     },
     "metadata": {
      "needs_background": "light"
     },
     "output_type": "display_data"
    }
   ],
   "source": [
    "fig = plt.figure()\n",
    "ax = plt.axes()\n",
    "ax.boxplot(df['Mileage'])\n",
    "ax.set_title('Mileage Dispersion')"
   ]
  },
  {
   "cell_type": "code",
   "execution_count": 41,
   "id": "15809e51",
   "metadata": {},
   "outputs": [],
   "source": [
    "plt.close()"
   ]
  },
  {
   "cell_type": "code",
   "execution_count": 44,
   "id": "bb3d27ca",
   "metadata": {},
   "outputs": [
    {
     "data": {
      "text/plain": [
       "Text(0, 0.5, 'Price')"
      ]
     },
     "execution_count": 44,
     "metadata": {},
     "output_type": "execute_result"
    },
    {
     "data": {
      "image/png": "[encoded data removed]",
      "text/plain": [
       "<Figure size 576x864 with 3 Axes>"
      ]
     },
     "metadata": {
      "needs_background": "light"
     },
     "output_type": "display_data"
    }
   ],
   "source": [
    "fig = plt.figure(figsize=[8,12])\n",
    "ax = fig.subplots(3,1)\n",
    "ax[0].scatter(df['Year'], df['Price'],color='b')\n",
    "ax[0].set_xlabel('Year')\n",
    "ax[0].set_ylabel('Price')\n",
    "\n",
    "ax[1].scatter(df['Year'], df['Mileage'],color='y')\n",
    "ax[1].set_xlabel('Year')\n",
    "ax[1].set_ylabel('Mileage')\n",
    "\n",
    "ax[2].scatter(df['Mileage'], df['Price'],color='r')\n",
    "ax[2].set_xlabel('Mileage')\n",
    "ax[2].set_ylabel('Price')"
   ]
  },
  {
   "cell_type": "code",
   "execution_count": 45,
   "id": "8f8724ac",
   "metadata": {},
   "outputs": [],
   "source": [
    "plt.close()"
   ]
  },
  {
   "cell_type": "code",
   "execution_count": 47,
   "id": "0dcbb8f4",
   "metadata": {},
   "outputs": [
    {
     "data": {
      "text/plain": [
       "0.7675369890321593"
      ]
     },
     "execution_count": 47,
     "metadata": {},
     "output_type": "execute_result"
    }
   ],
   "source": [
    "correlation1 = df['Year'].corr(df['Price'])\n",
    "correlation1"
   ]
  },
  {
   "cell_type": "code",
   "execution_count": 48,
   "id": "5a0b908a",
   "metadata": {},
   "outputs": [
    {
     "data": {
      "text/plain": [
       "-0.6532625920110233"
      ]
     },
     "execution_count": 48,
     "metadata": {},
     "output_type": "execute_result"
    }
   ],
   "source": [
    "correlation2 = df['Year'].corr(df['Mileage'])\n",
    "correlation2"
   ]
  },
  {
   "cell_type": "code",
   "execution_count": 49,
   "id": "721c9d90",
   "metadata": {},
   "outputs": [
    {
     "data": {
      "text/plain": [
       "-0.7998550637870337"
      ]
     },
     "execution_count": 49,
     "metadata": {},
     "output_type": "execute_result"
    }
   ],
   "source": [
    "correlation3 = df['Mileage'].corr(df['Price'])\n",
    "correlation3"
   ]
  },
  {
   "cell_type": "code",
   "execution_count": 50,
   "id": "74982d19",
   "metadata": {},
   "outputs": [
    {
     "data": {
      "text/plain": [
       "Model\n",
       "Maxima        29580.000000\n",
       "Murano        29900.272727\n",
       "Pathfinder    43669.000000\n",
       "Name: Mileage, dtype: float64"
      ]
     },
     "execution_count": 50,
     "metadata": {},
     "output_type": "execute_result"
    }
   ],
   "source": [
    "df['Mileage'].groupby(df['Model']).mean()"
   ]
  },
  {
   "cell_type": "code",
   "execution_count": 51,
   "id": "cb554457",
   "metadata": {},
   "outputs": [
    {
     "data": {
      "text/plain": [
       "Model\n",
       "Pathfinder    43669.000000\n",
       "Murano        29900.272727\n",
       "Maxima        29580.000000\n",
       "Name: Mileage, dtype: float64"
      ]
     },
     "execution_count": 51,
     "metadata": {},
     "output_type": "execute_result"
    }
   ],
   "source": [
    "df['Mileage'].groupby(df['Model']).mean().sort_values(ascending=False)"
   ]
  },
  {
   "cell_type": "code",
   "execution_count": null,
   "id": "9ba1b9fa",
   "metadata": {},
   "outputs": [],
   "source": []
  }
 ],
 "metadata": {
  "kernelspec": {
   "display_name": "Python 3",
   "language": "python",
   "name": "python3"
  },
  "language_info": {
   "codemirror_mode": {
    "name": "ipython",
    "version": 3
   },
   "file_extension": ".py",
   "mimetype": "text/x-python",
   "name": "python",
   "nbconvert_exporter": "python",
   "pygments_lexer": "ipython3",
   "version": "3.8.8"
  }
 },
 "nbformat": 4,
 "nbformat_minor": 5
}
