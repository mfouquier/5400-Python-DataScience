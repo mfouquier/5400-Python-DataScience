{
 "cells": [
  {
   "cell_type": "code",
   "execution_count": 67,
   "id": "f81eedcb",
   "metadata": {},
   "outputs": [],
   "source": [
    "import matplotlib.pyplot as plt\n",
    "import numpy as np\n",
    "import pandas as pd\n",
    "import seaborn as sns\n",
    "from sklearn import linear_model\n",
    "from scipy.special import expit\n",
    "from sklearn.model_selection import train_test_split\n",
    "from sklearn.preprocessing import MinMaxScaler\n",
    "from sklearn.preprocessing import StandardScaler\n",
    "from sklearn.neural_network import MLPRegressor\n",
    "from sklearn.linear_model import LinearRegression"
   ]
  },
  {
   "cell_type": "code",
   "execution_count": 2,
   "id": "5a12f92d",
   "metadata": {},
   "outputs": [],
   "source": [
    "# Read in the file, “bank churn dataset.csv”, and create a dataframe.\n",
    "df = pd.read_csv('bank churn dataset.csv')"
   ]
  },
  {
   "cell_type": "code",
   "execution_count": 3,
   "id": "69e1d09c",
   "metadata": {},
   "outputs": [
    {
     "data": {
      "text/plain": [
       "Index(['CreditScore', 'Gender', 'Age', 'Tenure', 'TotalBalance',\n",
       "       'NumOfProducts', 'HasCreditCard', 'IsActiveCustomer', 'Salary',\n",
       "       'Exited'],\n",
       "      dtype='object')"
      ]
     },
     "execution_count": 3,
     "metadata": {},
     "output_type": "execute_result"
    }
   ],
   "source": [
    "# Follow the Column Key table for guidance on features and target.\n",
    "df.columns"
   ]
  },
  {
   "cell_type": "code",
   "execution_count": 4,
   "id": "1d93d56a",
   "metadata": {},
   "outputs": [],
   "source": [
    "# For categorical data, remember to map to an integer. Hint: create a dictionary for gender values.\n",
    "gender_code = {'Female':1,'Male':0}\n",
    "df['Gender'] = df['Gender'].map(gender_code)"
   ]
  },
  {
   "cell_type": "code",
   "execution_count": 5,
   "id": "a0d6e29d",
   "metadata": {},
   "outputs": [],
   "source": [
    "df = df.dropna(axis=0)"
   ]
  },
  {
   "cell_type": "code",
   "execution_count": 6,
   "id": "f9aecfac",
   "metadata": {},
   "outputs": [
    {
     "data": {
      "text/plain": [
       "10000"
      ]
     },
     "execution_count": 6,
     "metadata": {},
     "output_type": "execute_result"
    }
   ],
   "source": [
    "len(df)"
   ]
  },
  {
   "cell_type": "code",
   "execution_count": 7,
   "id": "5c0cb3fb",
   "metadata": {},
   "outputs": [],
   "source": [
    "X = df.drop(labels=['Exited'], axis=1)"
   ]
  },
  {
   "cell_type": "code",
   "execution_count": 8,
   "id": "223aba42",
   "metadata": {},
   "outputs": [],
   "source": [
    "y = df['Exited']"
   ]
  },
  {
   "cell_type": "code",
   "execution_count": 9,
   "id": "dfa2230f",
   "metadata": {},
   "outputs": [],
   "source": [
    "# Normalize the features using MinMaxScaler.\n",
    "mns = MinMaxScaler()"
   ]
  },
  {
   "cell_type": "code",
   "execution_count": 10,
   "id": "b6e9ec4d",
   "metadata": {},
   "outputs": [
    {
     "data": {
      "text/plain": [
       "array([[0.538     , 1.        , 0.32432432, ..., 1.        , 1.        ,\n",
       "        0.50673489],\n",
       "       [0.516     , 1.        , 0.31081081, ..., 0.        , 1.        ,\n",
       "        0.56270874],\n",
       "       [0.304     , 1.        , 0.32432432, ..., 1.        , 0.        ,\n",
       "        0.56965435],\n",
       "       ...,\n",
       "       [0.718     , 1.        , 0.24324324, ..., 0.        , 1.        ,\n",
       "        0.21039009],\n",
       "       [0.844     , 0.        , 0.32432432, ..., 1.        , 0.        ,\n",
       "        0.46442905],\n",
       "       [0.884     , 1.        , 0.13513514, ..., 1.        , 0.        ,\n",
       "        0.19091423]])"
      ]
     },
     "execution_count": 10,
     "metadata": {},
     "output_type": "execute_result"
    }
   ],
   "source": [
    "df_norm = mns.fit_transform(X)\n",
    "df_norm"
   ]
  },
  {
   "cell_type": "code",
   "execution_count": 15,
   "id": "e4bfc55b",
   "metadata": {},
   "outputs": [
    {
     "data": {
      "text/plain": [
       "10000"
      ]
     },
     "execution_count": 15,
     "metadata": {},
     "output_type": "execute_result"
    }
   ],
   "source": [
    "len(df_norm)"
   ]
  },
  {
   "cell_type": "code",
   "execution_count": 11,
   "id": "1a6fa1dd",
   "metadata": {},
   "outputs": [],
   "source": [
    "# Need to split the data into training set and test set. \n",
    "# Hint: use train_test_split with test_size of .3 and random_state=10.\n",
    "X_train, X_test, y_train, y_test = train_test_split(df_norm, y, test_size=0.33, random_state=10)"
   ]
  },
  {
   "cell_type": "code",
   "execution_count": 12,
   "id": "97c78936",
   "metadata": {},
   "outputs": [
    {
     "data": {
      "text/plain": [
       "60300"
      ]
     },
     "execution_count": 12,
     "metadata": {},
     "output_type": "execute_result"
    }
   ],
   "source": [
    "# How many samples are you using for training and for testing?\n",
    "X_train.size"
   ]
  },
  {
   "cell_type": "code",
   "execution_count": 14,
   "id": "dd4ae255",
   "metadata": {},
   "outputs": [
    {
     "data": {
      "text/plain": [
       "29700"
      ]
     },
     "execution_count": 14,
     "metadata": {},
     "output_type": "execute_result"
    }
   ],
   "source": [
    "X_test.size"
   ]
  },
  {
   "cell_type": "code",
   "execution_count": 18,
   "id": "1c8fca3a",
   "metadata": {},
   "outputs": [],
   "source": [
    "# Create the model object using MLPRegressor. \n",
    "# Hint: start with hidden_layer_sizes=(9,2), solver = ‘lbfgs’, max_iter=10000, random_state=1\n",
    "model = MLPRegressor(hidden_layer_sizes=(9,2), solver = 'lbfgs', max_iter=10000, random_state=1)"
   ]
  },
  {
   "cell_type": "code",
   "execution_count": 19,
   "id": "f60ee292",
   "metadata": {},
   "outputs": [
    {
     "data": {
      "text/plain": [
       "MLPRegressor(hidden_layer_sizes=(9, 2), max_iter=10000, random_state=1,\n",
       "             solver='lbfgs')"
      ]
     },
     "execution_count": 19,
     "metadata": {},
     "output_type": "execute_result"
    }
   ],
   "source": [
    "# Fit the model.\n",
    "model.fit(X_train, y_train)"
   ]
  },
  {
   "cell_type": "code",
   "execution_count": 20,
   "id": "ebddef7f",
   "metadata": {},
   "outputs": [
    {
     "data": {
      "text/plain": [
       "array([0.37807563, 0.45820172, 0.67598159, ..., 0.12310452, 0.03858746,\n",
       "       0.42519507])"
      ]
     },
     "execution_count": 20,
     "metadata": {},
     "output_type": "execute_result"
    }
   ],
   "source": [
    "# Make predictions using the test dataset.\n",
    "y_pred = model.predict(X_test)\n",
    "y_pred"
   ]
  },
  {
   "cell_type": "code",
   "execution_count": 21,
   "id": "63fbd476",
   "metadata": {},
   "outputs": [
    {
     "data": {
      "text/plain": [
       "0.3210954213087235"
      ]
     },
     "execution_count": 21,
     "metadata": {},
     "output_type": "execute_result"
    }
   ],
   "source": [
    "# Compute the score using the X_test and y_test arguments.\n",
    "score = model.score(X_test, y_test)\n",
    "score"
   ]
  },
  {
   "cell_type": "code",
   "execution_count": 54,
   "id": "390262fd",
   "metadata": {},
   "outputs": [],
   "source": [
    "# What do you conclude? The model may not make predictions with a high score. \n",
    "# Make a suggestion for a different modeling strategy.\n",
    "# I changed values in the layers and interations and could not get a score better than .321...\n",
    "model2 = MLPRegressor(hidden_layer_sizes=(7,2), solver = 'lbfgs', max_iter=1000000, random_state=1)"
   ]
  },
  {
   "cell_type": "code",
   "execution_count": 55,
   "id": "5b65f7dd",
   "metadata": {},
   "outputs": [
    {
     "data": {
      "text/plain": [
       "MLPRegressor(hidden_layer_sizes=(9, 2), max_iter=1000000, random_state=1,\n",
       "             solver='lbfgs')"
      ]
     },
     "execution_count": 55,
     "metadata": {},
     "output_type": "execute_result"
    }
   ],
   "source": [
    "model2.fit(X_train, y_train)"
   ]
  },
  {
   "cell_type": "code",
   "execution_count": 56,
   "id": "edff3c5d",
   "metadata": {},
   "outputs": [
    {
     "data": {
      "text/plain": [
       "array([0.37807563, 0.45820172, 0.67598159, ..., 0.12310452, 0.03858746,\n",
       "       0.42519507])"
      ]
     },
     "execution_count": 56,
     "metadata": {},
     "output_type": "execute_result"
    }
   ],
   "source": [
    "y_pred2 = model2.predict(X_test)\n",
    "y_pred2"
   ]
  },
  {
   "cell_type": "code",
   "execution_count": 57,
   "id": "5896d6d7",
   "metadata": {},
   "outputs": [
    {
     "data": {
      "text/plain": [
       "0.3210954213087235"
      ]
     },
     "execution_count": 57,
     "metadata": {},
     "output_type": "execute_result"
    }
   ],
   "source": [
    "score2 = model2.score(X_test, y_test)\n",
    "score2"
   ]
  },
  {
   "cell_type": "code",
   "execution_count": 58,
   "id": "d1f07e38",
   "metadata": {},
   "outputs": [
    {
     "data": {
      "text/plain": [
       "LogisticRegression(max_iter=5000)"
      ]
     },
     "execution_count": 58,
     "metadata": {},
     "output_type": "execute_result"
    }
   ],
   "source": [
    "#Testing using a LogisticRegression Model\n",
    "# Used the test set with a Logistic Regression model and achieved a score of .7978... \n",
    "# It appears a neural network model is not best suited for this dataset.\n",
    "\n",
    "lrm = linear_model.LogisticRegression(max_iter=5000)\n",
    "lrm"
   ]
  },
  {
   "cell_type": "code",
   "execution_count": 59,
   "id": "f804dac1",
   "metadata": {},
   "outputs": [
    {
     "data": {
      "text/plain": [
       "LogisticRegression(max_iter=5000)"
      ]
     },
     "execution_count": 59,
     "metadata": {},
     "output_type": "execute_result"
    }
   ],
   "source": [
    "lrm.fit(X_train, y_train)"
   ]
  },
  {
   "cell_type": "code",
   "execution_count": 60,
   "id": "b22e946e",
   "metadata": {},
   "outputs": [
    {
     "data": {
      "text/plain": [
       "array([0, 0, 0, ..., 0, 0, 0], dtype=int64)"
      ]
     },
     "execution_count": 60,
     "metadata": {},
     "output_type": "execute_result"
    }
   ],
   "source": [
    "predictions = lrm.predict(X_test)\n",
    "predictions"
   ]
  },
  {
   "cell_type": "code",
   "execution_count": 63,
   "id": "5148cee1",
   "metadata": {},
   "outputs": [
    {
     "data": {
      "text/plain": [
       "array([[1.        , 1.        , 0.35135135, ..., 0.        , 1.        ,\n",
       "        0.8555048 ],\n",
       "       [0.778     , 1.        , 0.2972973 , ..., 1.        , 0.        ,\n",
       "        0.83517441],\n",
       "       [0.678     , 1.        , 0.36486486, ..., 1.        , 0.        ,\n",
       "        0.98905655],\n",
       "       ...,\n",
       "       [0.654     , 1.        , 0.31081081, ..., 1.        , 1.        ,\n",
       "        0.0209233 ],\n",
       "       [0.544     , 1.        , 0.22972973, ..., 1.        , 0.        ,\n",
       "        0.2555305 ],\n",
       "       [0.476     , 1.        , 0.32432432, ..., 1.        , 0.        ,\n",
       "        0.2424562 ]])"
      ]
     },
     "execution_count": 63,
     "metadata": {},
     "output_type": "execute_result"
    }
   ],
   "source": [
    "results = X_test\n",
    "results"
   ]
  },
  {
   "cell_type": "code",
   "execution_count": 65,
   "id": "3e74d93d",
   "metadata": {},
   "outputs": [
    {
     "data": {
      "text/plain": [
       "0.7978787878787879"
      ]
     },
     "execution_count": 65,
     "metadata": {},
     "output_type": "execute_result"
    }
   ],
   "source": [
    "score3 = lrm.score(X_test, y_test)\n",
    "score3"
   ]
  },
  {
   "cell_type": "code",
   "execution_count": 68,
   "id": "14074987",
   "metadata": {},
   "outputs": [],
   "source": [
    "# Test/Train using Linear Regression Model\n",
    "# Score is .12 so worse than a Neural Network model and not suitable for the dataset\n",
    "model3 = LinearRegression(fit_intercept = True)"
   ]
  },
  {
   "cell_type": "code",
   "execution_count": 70,
   "id": "54ac8ba2",
   "metadata": {},
   "outputs": [
    {
     "data": {
      "text/plain": [
       "LinearRegression()"
      ]
     },
     "execution_count": 70,
     "metadata": {},
     "output_type": "execute_result"
    }
   ],
   "source": [
    "model3.fit(X_train, y_train)"
   ]
  },
  {
   "cell_type": "code",
   "execution_count": 71,
   "id": "d3536238",
   "metadata": {},
   "outputs": [
    {
     "data": {
      "text/plain": [
       "array([0.26782085, 0.27692819, 0.3877788 , ..., 0.24135733, 0.21760893,\n",
       "       0.42384629])"
      ]
     },
     "execution_count": 71,
     "metadata": {},
     "output_type": "execute_result"
    }
   ],
   "source": [
    "y_predict3 = model3.predict(X_test)\n",
    "y_predict3"
   ]
  },
  {
   "cell_type": "code",
   "execution_count": 72,
   "id": "b25a375f",
   "metadata": {},
   "outputs": [
    {
     "data": {
      "text/plain": [
       "0.12629771670821643"
      ]
     },
     "execution_count": 72,
     "metadata": {},
     "output_type": "execute_result"
    }
   ],
   "source": [
    "score4 = model3.score(X_test, y_test)\n",
    "score4"
   ]
  },
  {
   "cell_type": "code",
   "execution_count": null,
   "id": "8acfcb6e",
   "metadata": {},
   "outputs": [],
   "source": []
  }
 ],
 "metadata": {
  "kernelspec": {
   "display_name": "Python 3",
   "language": "python",
   "name": "python3"
  },
  "language_info": {
   "codemirror_mode": {
    "name": "ipython",
    "version": 3
   },
   "file_extension": ".py",
   "mimetype": "text/x-python",
   "name": "python",
   "nbconvert_exporter": "python",
   "pygments_lexer": "ipython3",
   "version": "3.8.8"
  }
 },
 "nbformat": 4,
 "nbformat_minor": 5
}
