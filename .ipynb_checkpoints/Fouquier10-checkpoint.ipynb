{
 "cells": [
  {
   "cell_type": "code",
   "execution_count": null,
   "id": "05e77bcc",
   "metadata": {},
   "outputs": [],
   "source": [
    "# Read in the file, “house price dataset.csv”, and create a dataframe.\n"
   ]
  },
  {
   "cell_type": "code",
   "execution_count": null,
   "id": "66dcc529",
   "metadata": {},
   "outputs": [],
   "source": [
    "# Use the following columns as features: Ave. Area Income, Avg. Area House Age, Avg. Area Number of Rooms, and \n",
    "# Area Population. Price is the label or target for the model."
   ]
  },
  {
   "cell_type": "code",
   "execution_count": null,
   "id": "f156c7b6",
   "metadata": {},
   "outputs": [],
   "source": [
    "# Instantiate a LinearRegression model and set fit_intercept to True."
   ]
  },
  {
   "cell_type": "code",
   "execution_count": null,
   "id": "15707d0e",
   "metadata": {},
   "outputs": [],
   "source": [
    "# Fit the first 2999 (X[:3000] samples from the data set."
   ]
  },
  {
   "cell_type": "code",
   "execution_count": null,
   "id": "5755a767",
   "metadata": {},
   "outputs": [],
   "source": [
    "# What are model coefficients and intercept?"
   ]
  },
  {
   "cell_type": "code",
   "execution_count": null,
   "id": "34a8b8b0",
   "metadata": {},
   "outputs": [],
   "source": [
    "# Using the model, predict the house price for the remaining samples (X[3000:])."
   ]
  },
  {
   "cell_type": "code",
   "execution_count": null,
   "id": "b387872f",
   "metadata": {},
   "outputs": [],
   "source": [
    "# Create a scatter plot of the predicted house price and the actual house price using the first 2999 samples."
   ]
  },
  {
   "cell_type": "code",
   "execution_count": null,
   "id": "a1bf499b",
   "metadata": {},
   "outputs": [],
   "source": [
    "# What would you conclude from viewing the plot?"
   ]
  },
  {
   "cell_type": "code",
   "execution_count": null,
   "id": "9ae97d2b",
   "metadata": {},
   "outputs": [],
   "source": [
    "# Create a scatter plot of the ‘Ave Area Income’ and the predicted Price."
   ]
  },
  {
   "cell_type": "code",
   "execution_count": null,
   "id": "3b994f04",
   "metadata": {},
   "outputs": [],
   "source": [
    "# Create a scatter plot of the ‘Ave Area House Age’ and the predicted Price."
   ]
  },
  {
   "cell_type": "code",
   "execution_count": null,
   "id": "b9062085",
   "metadata": {},
   "outputs": [],
   "source": [
    "# Compute the coefficient of determination of the prediction. Hint: use model.score with the first 2999 samples."
   ]
  }
 ],
 "metadata": {
  "kernelspec": {
   "display_name": "Python 3",
   "language": "python",
   "name": "python3"
  },
  "language_info": {
   "codemirror_mode": {
    "name": "ipython",
    "version": 3
   },
   "file_extension": ".py",
   "mimetype": "text/x-python",
   "name": "python",
   "nbconvert_exporter": "python",
   "pygments_lexer": "ipython3",
   "version": "3.8.8"
  }
 },
 "nbformat": 4,
 "nbformat_minor": 5
}
