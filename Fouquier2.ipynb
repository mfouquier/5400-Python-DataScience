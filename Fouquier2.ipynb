{
 "cells": [
  {
   "cell_type": "markdown",
   "id": "95474f51",
   "metadata": {},
   "source": [
    "Fouquier2"
   ]
  },
  {
   "cell_type": "code",
   "execution_count": 9,
   "id": "c6f7afe0",
   "metadata": {},
   "outputs": [
    {
     "data": {
      "text/plain": [
       "14"
      ]
     },
     "execution_count": 9,
     "metadata": {},
     "output_type": "execute_result"
    }
   ],
   "source": [
    "2 * (3 + 4)"
   ]
  },
  {
   "cell_type": "code",
   "execution_count": 8,
   "id": "5acf4336",
   "metadata": {},
   "outputs": [
    {
     "data": {
      "text/plain": [
       "10"
      ]
     },
     "execution_count": 8,
     "metadata": {},
     "output_type": "execute_result"
    }
   ],
   "source": [
    "2 * 3 + 4"
   ]
  },
  {
   "cell_type": "code",
   "execution_count": null,
   "id": "24c9f4b1",
   "metadata": {},
   "outputs": [],
   "source": [
    "## The reason for the different results above is due to the order of arithemtic operations. In the first problem 3 and 4\n",
    "## added together then multiplied. In the second problem 2 and 3 are multiplied first."
   ]
  },
  {
   "cell_type": "code",
   "execution_count": 6,
   "id": "3bab936b",
   "metadata": {},
   "outputs": [
    {
     "data": {
      "text/plain": [
       "19.0"
      ]
     },
     "execution_count": 6,
     "metadata": {},
     "output_type": "execute_result"
    }
   ],
   "source": [
    "math.sqrt(361)"
   ]
  },
  {
   "cell_type": "code",
   "execution_count": 7,
   "id": "9c9f7d02",
   "metadata": {},
   "outputs": [
    {
     "data": {
      "text/plain": [
       "225"
      ]
     },
     "execution_count": 7,
     "metadata": {},
     "output_type": "execute_result"
    }
   ],
   "source": [
    "15 ** 2"
   ]
  },
  {
   "cell_type": "code",
   "execution_count": 10,
   "id": "1fd6970a",
   "metadata": {},
   "outputs": [
    {
     "data": {
      "text/plain": [
       "32"
      ]
     },
     "execution_count": 10,
     "metadata": {},
     "output_type": "execute_result"
    }
   ],
   "source": [
    "math.floor(32.001)"
   ]
  },
  {
   "cell_type": "code",
   "execution_count": 11,
   "id": "c0274085",
   "metadata": {},
   "outputs": [
    {
     "data": {
      "text/plain": [
       "100.01"
      ]
     },
     "execution_count": 11,
     "metadata": {},
     "output_type": "execute_result"
    }
   ],
   "source": [
    "round(100.0125, 2)"
   ]
  },
  {
   "cell_type": "code",
   "execution_count": 16,
   "id": "c1f0ca4b",
   "metadata": {},
   "outputs": [
    {
     "data": {
      "text/plain": [
       "1.0"
      ]
     },
     "execution_count": 16,
     "metadata": {},
     "output_type": "execute_result"
    }
   ],
   "source": [
    "math.sin(math.pi/2)"
   ]
  },
  {
   "cell_type": "code",
   "execution_count": 17,
   "id": "543d1711",
   "metadata": {},
   "outputs": [
    {
     "data": {
      "text/plain": [
       "0.7071067811865476"
      ]
     },
     "execution_count": 17,
     "metadata": {},
     "output_type": "execute_result"
    }
   ],
   "source": [
    "math.sin(math.pi/4)"
   ]
  },
  {
   "cell_type": "code",
   "execution_count": 18,
   "id": "f460fca1",
   "metadata": {},
   "outputs": [
    {
     "data": {
      "text/plain": [
       "6.123233995736766e-17"
      ]
     },
     "execution_count": 18,
     "metadata": {},
     "output_type": "execute_result"
    }
   ],
   "source": [
    "math.cos(math.pi/2)"
   ]
  },
  {
   "cell_type": "code",
   "execution_count": 19,
   "id": "3bfbf4a2",
   "metadata": {},
   "outputs": [
    {
     "data": {
      "text/plain": [
       "0.7071067811865476"
      ]
     },
     "execution_count": 19,
     "metadata": {},
     "output_type": "execute_result"
    }
   ],
   "source": [
    "math.cos(math.pi/4)"
   ]
  },
  {
   "cell_type": "code",
   "execution_count": 1,
   "id": "f8d384a8",
   "metadata": {},
   "outputs": [
    {
     "data": {
      "text/plain": [
       "'FL'"
      ]
     },
     "execution_count": 1,
     "metadata": {},
     "output_type": "execute_result"
    }
   ],
   "source": [
    "location = \"Melbourne, FL\"\n",
    "location[-2] + location[-1]"
   ]
  },
  {
   "cell_type": "code",
   "execution_count": 6,
   "id": "525de668",
   "metadata": {},
   "outputs": [
    {
     "data": {
      "text/plain": [
       "'FL'"
      ]
     },
     "execution_count": 6,
     "metadata": {},
     "output_type": "execute_result"
    }
   ],
   "source": [
    "location[-2:]"
   ]
  },
  {
   "cell_type": "code",
   "execution_count": 7,
   "id": "6c34d33f",
   "metadata": {},
   "outputs": [
    {
     "name": "stdout",
     "output_type": "stream",
     "text": [
      "[-50, -49, -48, -47, -46, -45, -44, -43, -42, -41, -40, -39, -38, -37, -36, -35, -34, -33, -32, -31, -30, -29, -28, -27, -26, -25, -24, -23, -22, -21, -20, -19, -18, -17, -16, -15, -14, -13, -12, -11, -10, -9, -8, -7, -6, -5, -4, -3, -2, -1, 0, 1, 2, 3, 4, 5, 6, 7, 8, 9, 10, 11, 12, 13, 14, 15, 16, 17, 18, 19, 20, 21, 22, 23, 24, 25, 26, 27, 28, 29, 30, 31, 32, 33, 34, 35, 36, 37, 38, 39, 40, 41, 42, 43, 44, 45, 46, 47, 48, 49, 50]\n"
     ]
    }
   ],
   "source": [
    "list1 = list(range(-50, 51))\n",
    "print(list1)"
   ]
  },
  {
   "cell_type": "code",
   "execution_count": 14,
   "id": "ae44a432",
   "metadata": {},
   "outputs": [
    {
     "name": "stdout",
     "output_type": "stream",
     "text": [
      "[50, 49, 48, 47, 46, 45, 44, 43, 42, 41, 40, 39, 38, 37, 36, 35, 34, 33, 32, 31, 30, 29, 28, 27, 26, 25, 24, 23, 22, 21, 20, 19, 18, 17, 16, 15, 14, 13, 12, 11, 10, 9, 8, 7, 6, 5, 4, 3, 2, 1, 0, -1, -2, -3, -4, -5, -6, -7, -8, -9, -10, -11, -12, -13, -14, -15, -16, -17, -18, -19, -20, -21, -22, -23, -24, -25, -26, -27, -28, -29, -30, -31, -32, -33, -34, -35, -36, -37, -38, -39, -40, -41, -42, -43, -44, -45, -46, -47, -48, -49, -50]\n"
     ]
    }
   ],
   "source": [
    "list1.reverse()\n",
    "print(list1)"
   ]
  },
  {
   "cell_type": "code",
   "execution_count": 9,
   "id": "b165420c",
   "metadata": {},
   "outputs": [
    {
     "name": "stdout",
     "output_type": "stream",
     "text": [
      "['apple', 'orange', 'banana', 'broccoli', 'mushroom', 'onion', 'mango', 'guava', 'carrot', 'potato']\n"
     ]
    }
   ],
   "source": [
    "fruitVeg = [\"apple\", \"orange\", \"banana\", \"broccoli\", \"mushroom\", \"onion\", \"mango\", \"guava\", \"carrot\", \"potato\"]\n",
    "print(fruitVeg)"
   ]
  },
  {
   "cell_type": "code",
   "execution_count": 10,
   "id": "eb4054f8",
   "metadata": {},
   "outputs": [
    {
     "name": "stdout",
     "output_type": "stream",
     "text": [
      "['apple', 'banana', 'broccoli', 'carrot', 'guava', 'mango', 'mushroom', 'onion', 'orange', 'potato']\n"
     ]
    }
   ],
   "source": [
    "fruitVeg.sort()\n",
    "print(fruitVeg)"
   ]
  },
  {
   "cell_type": "code",
   "execution_count": 49,
   "id": "4eb355d7",
   "metadata": {},
   "outputs": [
    {
     "name": "stdout",
     "output_type": "stream",
     "text": [
      "['apple', 'banana', 'broccoli', 'carrot', 'guava', 'mango', 'mushroom', 'onion', 'asparagus', 'potato']\n"
     ]
    }
   ],
   "source": [
    "for i in range(len(fruitVeg)):\n",
    "    if(fruitVeg[i] == 'orange'):\n",
    "        fruitVeg[i] = 'asparagus'\n",
    "print(fruitVeg)"
   ]
  },
  {
   "cell_type": "code",
   "execution_count": 19,
   "id": "9d6163a9",
   "metadata": {},
   "outputs": [],
   "source": [
    "countryPopulation1 = {\n",
    "    'CHN': 1444216102,\n",
    "    'IND' : 1380004385,\n",
    "    'USA' : 331002647,\n",
    "    'IDN' : 273523621,\n",
    "    'PAK' : 220892331\n",
    "}"
   ]
  },
  {
   "cell_type": "code",
   "execution_count": 21,
   "id": "d42e02a6",
   "metadata": {},
   "outputs": [],
   "source": [
    "countryPopulation2 = {\n",
    "    'BRA' : 213993437,\n",
    "    'NGA' : 211400708,\n",
    "    'BGD' : 166303498, \n",
    "    'RUS' : 145912025,\n",
    "    'MEX' :130262216\n",
    "}"
   ]
  },
  {
   "cell_type": "code",
   "execution_count": 24,
   "id": "068627fb",
   "metadata": {},
   "outputs": [
    {
     "name": "stdout",
     "output_type": "stream",
     "text": [
      "{'CHN': 1444216102, 'IND': 1380004385, 'USA': 331002647, 'IDN': 273523621, 'PAK': 220892331, 'BRA': 213993437, 'NGA': 211400708, 'BGD': 166303498, 'RUS': 145912025, 'MEX': 130262216}\n"
     ]
    }
   ],
   "source": [
    "topTenPopulations = {**countryPopulation1,  **countryPopulation2}\n",
    "print(topTenPopulations)"
   ]
  },
  {
   "cell_type": "code",
   "execution_count": 25,
   "id": "2a1e6aef",
   "metadata": {},
   "outputs": [
    {
     "data": {
      "text/plain": [
       "dict_keys(['CHN', 'IND', 'USA', 'IDN', 'PAK', 'BRA', 'NGA', 'BGD', 'RUS', 'MEX'])"
      ]
     },
     "execution_count": 25,
     "metadata": {},
     "output_type": "execute_result"
    }
   ],
   "source": [
    "topTenPopulations.keys()"
   ]
  },
  {
   "cell_type": "code",
   "execution_count": 28,
   "id": "452e33ff",
   "metadata": {},
   "outputs": [
    {
     "data": {
      "text/plain": [
       "1444216102"
      ]
     },
     "execution_count": 28,
     "metadata": {},
     "output_type": "execute_result"
    }
   ],
   "source": [
    "topTenPopulations.get('CHN')"
   ]
  },
  {
   "cell_type": "code",
   "execution_count": 32,
   "id": "097fbccc",
   "metadata": {},
   "outputs": [
    {
     "data": {
      "text/plain": [
       "273523621"
      ]
     },
     "execution_count": 32,
     "metadata": {},
     "output_type": "execute_result"
    }
   ],
   "source": [
    "topTenPopulations.get('IDN')"
   ]
  },
  {
   "cell_type": "code",
   "execution_count": 35,
   "id": "faf1d9ad",
   "metadata": {},
   "outputs": [
    {
     "name": "stdout",
     "output_type": "stream",
     "text": [
      "IDN\n"
     ]
    },
    {
     "data": {
      "text/plain": [
       "273523621"
      ]
     },
     "execution_count": 35,
     "metadata": {},
     "output_type": "execute_result"
    }
   ],
   "source": [
    "keyList = list(topTenPopulations)\n",
    "key = keyList[3]\n",
    "print(key)\n",
    "\n",
    "topTenPopulations.get(key)"
   ]
  }
 ],
 "metadata": {
  "kernelspec": {
   "display_name": "Python 3",
   "language": "python",
   "name": "python3"
  },
  "language_info": {
   "codemirror_mode": {
    "name": "ipython",
    "version": 3
   },
   "file_extension": ".py",
   "mimetype": "text/x-python",
   "name": "python",
   "nbconvert_exporter": "python",
   "pygments_lexer": "ipython3",
   "version": "3.8.8"
  }
 },
 "nbformat": 4,
 "nbformat_minor": 5
}
