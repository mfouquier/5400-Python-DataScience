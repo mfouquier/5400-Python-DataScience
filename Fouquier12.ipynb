{
 "cells": [
  {
   "cell_type": "code",
   "execution_count": null,
   "id": "32ba07de",
   "metadata": {},
   "outputs": [],
   "source": [
    "# Read in the file, “csv.csv”, and create a dataframe.\n",
    "# Follow the Column Key table for guidance on features and target.\n",
    "# Need to split the data into training set and test set. Hint: use train_test_split with test_size of .3 and random_state=25\n",
    "# How many samples are you using for training and for testing?\n",
    "# Create the model object using LogisticRegression.\n",
    "# Fit the classifier. If the learning doesn’t converge, add max_iter = 500 as an argument when creating the model in step 5.\n",
    "# What are the model’s coefficients and intercept?\n",
    "# Make predictions using the test dataset.\n",
    "# Create a dataframe with the test data, predicted results, and the actual values for heart disease.\n",
    "# Using score method to get the accuracy of the model. Hint: should be ~.83 or 83%."
   ]
  }
 ],
 "metadata": {
  "kernelspec": {
   "display_name": "Python 3",
   "language": "python",
   "name": "python3"
  },
  "language_info": {
   "codemirror_mode": {
    "name": "ipython",
    "version": 3
   },
   "file_extension": ".py",
   "mimetype": "text/x-python",
   "name": "python",
   "nbconvert_exporter": "python",
   "pygments_lexer": "ipython3",
   "version": "3.8.8"
  }
 },
 "nbformat": 4,
 "nbformat_minor": 5
}
