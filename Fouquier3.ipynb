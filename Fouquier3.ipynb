{
 "cells": [
  {
   "cell_type": "code",
   "execution_count": 2,
   "id": "5b006ad8",
   "metadata": {},
   "outputs": [
    {
     "data": {
      "text/plain": [
       "'Broccoli'"
      ]
     },
     "execution_count": 2,
     "metadata": {},
     "output_type": "execute_result"
    }
   ],
   "source": [
    "#Tuple\n",
    "veggies = ('Asparagus', 'Broccoli', 'Avacado', 'Cabbage', 'Carrot')"
   ]
  },
  {
   "cell_type": "code",
   "execution_count": 9,
   "id": "93caefb8",
   "metadata": {},
   "outputs": [
    {
     "name": "stdout",
     "output_type": "stream",
     "text": [
      "Broccoli Cabbage\n"
     ]
    }
   ],
   "source": [
    "#Print 1 and 4 of veggies\n",
    "print(veggies[1] + ' ' + veggies[3])"
   ]
  },
  {
   "cell_type": "code",
   "execution_count": 12,
   "id": "4ecfe7c9",
   "metadata": {},
   "outputs": [],
   "source": [
    "#Tuple\n",
    "fruits = ('Apple', 'Blueberry', 'Strawberry', 'Watermelon', 'Grapes', 'Plum')"
   ]
  },
  {
   "cell_type": "code",
   "execution_count": 13,
   "id": "49b6a785",
   "metadata": {},
   "outputs": [
    {
     "name": "stdout",
     "output_type": "stream",
     "text": [
      "('Asparagus', 'Broccoli', 'Avacado', 'Cabbage', 'Carrot', 'Apple', 'Blueberry', 'Strawberry', 'Watermelon', 'Grapes', 'Plum')\n"
     ]
    }
   ],
   "source": [
    "#Concatenate the Tuples\n",
    "veggieFruits = veggies + fruits\n",
    "print(veggieFruits)"
   ]
  },
  {
   "cell_type": "code",
   "execution_count": 18,
   "id": "7a80f7fd",
   "metadata": {},
   "outputs": [
    {
     "name": "stdout",
     "output_type": "stream",
     "text": [
      "('Asparagus', 'Broccoli', 'Avacado')\n",
      "('Grapes', 'Plum')\n",
      "('Cabbage', 'Carrot', 'Apple', 'Blueberry')\n"
     ]
    }
   ],
   "source": [
    "#Slice\n",
    "print(veggies[:3])\n",
    "print(fruits[-2:])\n",
    "print(veggieFruits[3:7])"
   ]
  },
  {
   "cell_type": "code",
   "execution_count": 4,
   "id": "210dda34",
   "metadata": {},
   "outputs": [
    {
     "data": {
      "text/plain": [
       "37.77777777777778"
      ]
     },
     "execution_count": 4,
     "metadata": {},
     "output_type": "execute_result"
    }
   ],
   "source": [
    "#Convert Fahrenheit to Celcius\n",
    "def ConvertFtoC(F):\n",
    "    C = (F - 32) / 1.8000\n",
    "    return C\n",
    "\n",
    "ConvertFtoC(100)"
   ]
  },
  {
   "cell_type": "code",
   "execution_count": 74,
   "id": "62017153",
   "metadata": {},
   "outputs": [
    {
     "data": {
      "text/plain": [
       "100.004"
      ]
     },
     "execution_count": 74,
     "metadata": {},
     "output_type": "execute_result"
    }
   ],
   "source": [
    "#Convert Celcius to Fahrenheit\n",
    "def ConvertCtoF(C):\n",
    "    F = (C * 1.8000) + 32\n",
    "    return F\n",
    "\n",
    "ConvertCtoF(37.78)"
   ]
  },
  {
   "cell_type": "code",
   "execution_count": 11,
   "id": "3beaea19",
   "metadata": {},
   "outputs": [
    {
     "name": "stdout",
     "output_type": "stream",
     "text": [
      "Input a temperature in Fahrenheit or Q to quit: 100\n",
      "37.77777777777778\n",
      "Input a temperature in Fahrenheit or Q to quit: 500\n",
      "260.0\n",
      "Input a temperature in Fahrenheit or Q to quit: Q\n",
      "Exit\n"
     ]
    }
   ],
   "source": [
    "#User Input to F to C\n",
    "while True:\n",
    "    entry = input(\"Input a temperature in Fahrenheit or Q to quit: \")\n",
    "    if entry == 'Q':\n",
    "        break\n",
    "    print(ConvertFtoC(int(entry)))\n",
    "print('Exit')"
   ]
  }
 ],
 "metadata": {
  "kernelspec": {
   "display_name": "Python 3",
   "language": "python",
   "name": "python3"
  },
  "language_info": {
   "codemirror_mode": {
    "name": "ipython",
    "version": 3
   },
   "file_extension": ".py",
   "mimetype": "text/x-python",
   "name": "python",
   "nbconvert_exporter": "python",
   "pygments_lexer": "ipython3",
   "version": "3.8.8"
  }
 },
 "nbformat": 4,
 "nbformat_minor": 5
}
